{
  "nbformat": 4,
  "nbformat_minor": 0,
  "metadata": {
    "colab": {
      "provenance": [],
      "collapsed_sections": []
    },
    "kernelspec": {
      "name": "python3",
      "display_name": "Python 3"
    },
    "language_info": {
      "name": "python"
    }
  },
  "cells": [
    {
      "cell_type": "code",
      "execution_count": 69,
      "metadata": {
        "colab": {
          "base_uri": "https://localhost:8080/"
        },
        "id": "Y4osf2fWpg_-",
        "outputId": "10796abb-0ac8-4aff-b880-a5b5c4be6107"
      },
      "outputs": [
        {
          "output_type": "stream",
          "name": "stdout",
          "text": [
            "    x   y\n",
            "0   4   4\n",
            "1   8   4\n",
            "2  15   8\n",
            "3  24   4\n",
            "4  24  12\n",
            "5  12   2\n",
            "6   3  20\n"
          ]
        }
      ],
      "source": [
        "import pandas as pd\n",
        "\n",
        "data = {'x':  ['4', '8', '15','24','24','12','3'],\n",
        "        'y':  ['4', '4', '8' , '4', '12','2','20']\n",
        "        }\n",
        "\n",
        "df = pd.DataFrame(data)\n",
        "\n",
        "print (df)"
      ]
    },
    {
      "cell_type": "code",
      "source": [
        "import numpy as np\n",
        "import matplotlib.pyplot as plt\n",
        "import pandas as pd\n",
        "#2 Importing the Mall_Customers dataset by pandas\n",
        "#X = scaled_dataframe.values\n",
        "X = df.values\n",
        "\n",
        "#3 Using the dendrogram to find the optimal numbers of clusters. \n",
        "# First thing we're going to do is to import scipy library. scipy is #an open source Python library that contains tools to do #hierarchical clustering and building dendrograms. Only import the #needed tool.\n",
        "import scipy.cluster.hierarchy as sch\n",
        "#Lets create a dendrogram variable linkage is actually the algorithm #itself of hierarchical clustering and then in linkage we have to #specify on which data we apply and engage. This is X dataset\n",
        "dendrogram = sch.dendrogram(sch.linkage(X, method  = \"ward\"))\n",
        "plt.title('Dendrogram')\n",
        "plt.xlabel('Customers')\n",
        "plt.ylabel('Euclidean distances')\n",
        "plt.show()\n"
      ],
      "metadata": {
        "colab": {
          "base_uri": "https://localhost:8080/",
          "height": 298
        },
        "id": "jt1iCZXBBOys",
        "outputId": "6f88f2a8-8ae0-42e2-ce0e-65f070cbc558"
      },
      "execution_count": 70,
      "outputs": [
        {
          "output_type": "display_data",
          "data": {
            "text/plain": [
              "<Figure size 432x288 with 1 Axes>"
            ],
            "image/png": "[encoded data removed]"
          },
          "metadata": {
            "needs_background": "light"
          }
        }
      ]
    },
    {
      "cell_type": "code",
      "source": [
        "df.plot(x='x', y='y', kind='scatter')\t"
      ],
      "metadata": {
        "colab": {
          "base_uri": "https://localhost:8080/",
          "height": 296
        },
        "id": "GCSvkITorG9F",
        "outputId": "34ba65cb-4d34-42cd-d2f0-c753443a3a91"
      },
      "execution_count": null,
      "outputs": [
        {
          "output_type": "execute_result",
          "data": {
            "text/plain": [
              "<matplotlib.axes._subplots.AxesSubplot at 0x7f337b71aa90>"
            ]
          },
          "metadata": {},
          "execution_count": 3
        },
        {
          "output_type": "display_data",
          "data": {
            "text/plain": [
              "<Figure size 432x288 with 1 Axes>"
            ],
            "image/png": "[encoded data removed]"
          },
          "metadata": {
            "needs_background": "light"
          }
        }
      ]
    },
    {
      "cell_type": "code",
      "source": [
        "# def printPairs(arr, n):\n",
        "#     pairs_point=[]\n",
        "#     # Nested loop for all possible pairs\n",
        "#     for i in range(n):\n",
        "#         for j in range(n):\n",
        "#             if i!=j:\n",
        "#               point=[]\n",
        "#               point.append(arr[i])\n",
        "#               point.append(arr[j])\n",
        "#               pairs_point.append(point)\n",
        "#               #print(\"(\",arr[i],\",\",arr[j],\")\",end=\", \")\n",
        "    \n",
        "#     return pairs_point\n",
        "           \n",
        "\n",
        "\n",
        "# # Create a list in a range of 10-20\n",
        "# pair_list = list(range(0, len(df)))\n",
        "\n",
        "# # Print the list\n",
        "# n = len(df)\n",
        "\n",
        "\n",
        "# print(pair_list)\n",
        "\n",
        " \n",
        "# a= printPairs(pair_list, n)\n",
        "# print(len(a))"
      ],
      "metadata": {
        "id": "7Op57xZPrORY"
      },
      "execution_count": null,
      "outputs": []
    },
    {
      "cell_type": "code",
      "source": [
        "import itertools\n",
        "\n",
        "N = 5\n",
        "numbers = list(range(N))\n",
        "\n",
        "result = []\n",
        "for i in range(2, N+1):\n",
        "    result.extend(itertools.combinations(numbers, i))\n",
        "\n",
        "\n",
        "result"
      ],
      "metadata": {
        "colab": {
          "base_uri": "https://localhost:8080/"
        },
        "id": "lppu8xmHsPC9",
        "outputId": "9db06797-35cc-4197-c363-76a8031cca3e"
      },
      "execution_count": null,
      "outputs": [
        {
          "output_type": "execute_result",
          "data": {
            "text/plain": [
              "[(0, 1),\n",
              " (0, 2),\n",
              " (0, 3),\n",
              " (0, 4),\n",
              " (1, 2),\n",
              " (1, 3),\n",
              " (1, 4),\n",
              " (2, 3),\n",
              " (2, 4),\n",
              " (3, 4),\n",
              " (0, 1, 2),\n",
              " (0, 1, 3),\n",
              " (0, 1, 4),\n",
              " (0, 2, 3),\n",
              " (0, 2, 4),\n",
              " (0, 3, 4),\n",
              " (1, 2, 3),\n",
              " (1, 2, 4),\n",
              " (1, 3, 4),\n",
              " (2, 3, 4),\n",
              " (0, 1, 2, 3),\n",
              " (0, 1, 2, 4),\n",
              " (0, 1, 3, 4),\n",
              " (0, 2, 3, 4),\n",
              " (1, 2, 3, 4),\n",
              " (0, 1, 2, 3, 4)]"
            ]
          },
          "metadata": {},
          "execution_count": 4
        }
      ]
    },
    {
      "cell_type": "code",
      "source": [
        "first_cluster=result[:10]\n",
        "first_cluster"
      ],
      "metadata": {
        "colab": {
          "base_uri": "https://localhost:8080/"
        },
        "id": "yBTY2Z6i5_MF",
        "outputId": "b4bea782-490b-4772-edbe-4a162ab583a6"
      },
      "execution_count": null,
      "outputs": [
        {
          "output_type": "execute_result",
          "data": {
            "text/plain": [
              "[(0, 1),\n",
              " (0, 2),\n",
              " (0, 3),\n",
              " (0, 4),\n",
              " (1, 2),\n",
              " (1, 3),\n",
              " (1, 4),\n",
              " (2, 3),\n",
              " (2, 4),\n",
              " (3, 4)]"
            ]
          },
          "metadata": {},
          "execution_count": 11
        }
      ]
    },
    {
      "cell_type": "code",
      "source": [
        "MSE_1 = []\n",
        "\n",
        "for i in first_cluster:\n",
        "  x1 = int(df['x'].loc[i[0]])\n",
        "  x2 = int(df['x'].loc[i[1]])\n",
        "  y1 = int(df['y'].loc[i[0]])\n",
        "  y2 = int(df['y'].loc[i[1]])\n",
        "\n",
        "  x = ( x1 + x2 )/2\n",
        "  y = ( y1 + y2 )/2\n",
        "  sqr_err = pow((x - x1),2) + pow((y - y1),2) +pow((x - x2),2) + pow((y- y2),2)\n",
        "  MSE_1.append(sqr_err)\n",
        "  print(sqr_err)\n",
        "print('-'*20)\n",
        "print('MIN MSE: ' , min(MSE_1))\n",
        "index_min = min(range(len(MSE_1)), key=MSE_1.__getitem__)\n",
        "print('INDEX MIN MSE: ', index_min)\n",
        "print(first_cluster[index_min])\n",
        "cluster_1 = first_cluster[index_min]"
      ],
      "metadata": {
        "colab": {
          "base_uri": "https://localhost:8080/"
        },
        "id": "Ie86JYv0ymzm",
        "outputId": "9c3d5ad5-65e8-4f07-84e8-f6edd97ca9a3"
      },
      "execution_count": null,
      "outputs": [
        {
          "output_type": "stream",
          "name": "stdout",
          "text": [
            "8.0\n",
            "68.5\n",
            "200.0\n",
            "232.0\n",
            "32.5\n",
            "128.0\n",
            "160.0\n",
            "48.5\n",
            "48.5\n",
            "32.0\n",
            "--------------------\n",
            "MIN MSE:  8.0\n",
            "INDEX MIN MSE:  0\n",
            "(0, 1)\n"
          ]
        }
      ]
    },
    {
      "cell_type": "code",
      "source": [
        "import itertools\n",
        "\n",
        "N = 5\n",
        "numbers = list(range(2,N))\n",
        "\n",
        "result = []\n",
        "for i in range(1, N):\n",
        "    result.extend(itertools.combinations(numbers, i))\n",
        "new_cluster=[]\n",
        "\n",
        "second_cluster = result[:6] \n",
        "\n",
        "for i in range(0, N): \n",
        "  if len(second_cluster[i])==1:\n",
        "    new_cluster.append(cluster_1 + second_cluster[i])\n",
        "\n",
        "print(new_cluster)"
      ],
      "metadata": {
        "colab": {
          "base_uri": "https://localhost:8080/"
        },
        "id": "MwL042YL7yEE",
        "outputId": "504204aa-488e-4ca7-f09e-0e5bfd72648c"
      },
      "execution_count": null,
      "outputs": [
        {
          "output_type": "stream",
          "name": "stdout",
          "text": [
            "[(0, 1, 2), (0, 1, 3), (0, 1, 4)]\n"
          ]
        }
      ]
    },
    {
      "cell_type": "code",
      "source": [
        "# MSE = []\n",
        "\n",
        "# for i in new_cluster:\n",
        "#   x1 = int(df['x'].loc[i[0]])\n",
        "#   x2 = int(df['x'].loc[i[1]])\n",
        "#   x3 = int(df['x'].loc[i[2]])\n",
        "#   y1 = int(df['y'].loc[i[0]])\n",
        "#   y2 = int(df['y'].loc[i[1]])\n",
        "#   y3 = int(df['y'].loc[i[2]])\n",
        "#   x = ( x1 + x2 + x3)/3\n",
        "#   y = ( y1 + y2 + y3)/3\n",
        "#   print(x)\n",
        "#   print(y)\n",
        "#   sqr_err = pow((x - x1),2) + pow((y - y1),2) + pow((x - x2),2) + pow((y- y2),2) + pow((x - x3),2) + pow((y- y3),2) \n",
        "#   MSE.append(sqr_err)\n",
        "# print(sqr_err)\n",
        "# print('-'*20)\n",
        "# print('MSE: ', MSE)\n",
        "# print('MIN MSE: ' , min(MSE))\n",
        "# index_min = min(range(len(MSE)), key=MSE.__getitem__)\n",
        "# print('INDEX MIN MSE: ', index_min)\n",
        " # print(first_cluster[index_min])"
      ],
      "metadata": {
        "id": "Rr1zRW87_tN_"
      },
      "execution_count": null,
      "outputs": []
    },
    {
      "cell_type": "code",
      "source": [
        "import itertools\n",
        "\n",
        "N = 5\n",
        "numbers = list(range(N))\n",
        "\n",
        "result_total = []\n",
        "for i in range(2, N+1):\n",
        "    result_total.extend(itertools.combinations(numbers, i))\n",
        "\n",
        "\n",
        "result_total"
      ],
      "metadata": {
        "colab": {
          "base_uri": "https://localhost:8080/"
        },
        "id": "Hyf1bytBbQNN",
        "outputId": "3e8204c6-06d8-4da0-c179-714190b51b04"
      },
      "execution_count": null,
      "outputs": [
        {
          "output_type": "execute_result",
          "data": {
            "text/plain": [
              "[(0, 1),\n",
              " (0, 2),\n",
              " (0, 3),\n",
              " (0, 4),\n",
              " (1, 2),\n",
              " (1, 3),\n",
              " (1, 4),\n",
              " (2, 3),\n",
              " (2, 4),\n",
              " (3, 4),\n",
              " (0, 1, 2),\n",
              " (0, 1, 3),\n",
              " (0, 1, 4),\n",
              " (0, 2, 3),\n",
              " (0, 2, 4),\n",
              " (0, 3, 4),\n",
              " (1, 2, 3),\n",
              " (1, 2, 4),\n",
              " (1, 3, 4),\n",
              " (2, 3, 4),\n",
              " (0, 1, 2, 3),\n",
              " (0, 1, 2, 4),\n",
              " (0, 1, 3, 4),\n",
              " (0, 2, 3, 4),\n",
              " (1, 2, 3, 4),\n",
              " (0, 1, 2, 3, 4)]"
            ]
          },
          "metadata": {},
          "execution_count": 15
        }
      ]
    },
    {
      "cell_type": "code",
      "source": [
        "#result=result[:-6]\n",
        "print(result[:10])\n",
        "\n",
        "#result=result[10:-6]\n",
        "result=result_total[:10]"
      ],
      "metadata": {
        "colab": {
          "base_uri": "https://localhost:8080/"
        },
        "id": "1b1FAHuR-uM9",
        "outputId": "04a32387-1feb-4369-b4a1-b64f32d08788"
      },
      "execution_count": null,
      "outputs": [
        {
          "output_type": "stream",
          "name": "stdout",
          "text": [
            "[(2,), (3,), (4,), (2, 3), (2, 4), (3, 4), (2, 3, 4)]\n"
          ]
        }
      ]
    },
    {
      "cell_type": "code",
      "source": [
        "#N = 3\n",
        "#numbers = list(range(N))\n",
        "#numbers\n",
        "\n",
        "def midPoint(groups,df):\n",
        "  sumx=0\n",
        "  sumy=0\n",
        "  #mi serve per capire quanti punti appartengono in un gruppo\n",
        "  l=len(groups)\n",
        "\n",
        "  for i in range(l):\n",
        "    midpoint=[]\n",
        "\n",
        "    se=[]\n",
        "    # groups[i] mi indica l'indice associato ai punti in df, dunque salvo in xi e yi le coordinate effettive dei punti di df\n",
        "    xi = int(df['x'].loc[groups[i]])\n",
        "    yi = int(df['y'].loc[groups[i]])\n",
        "  \n",
        "    #effettuo la somma delle x di tutte le coordinate appartenenti al gruppo\n",
        "    sumx = sumx + xi\n",
        "    sumy = sumy + yi\n",
        "\n",
        "  #formula punto medio\n",
        "  x = round( sumx / l, 2)\n",
        "  y = round( sumy /l, 2)\n",
        "  \n",
        "  #salvo tutti i punti medi in una lista midpoint\n",
        "  midpoint.extend([x, y])\n",
        "  #print('CLUSTER: [', groups ,'] ---> (', df.loc[groups[0]][0],',', df.loc[groups[0]][1], ')(', df.loc[groups[1]][0],',', df.loc[groups[1]][1], ')(', df.loc[groups[2]][0],',', df.loc[groups[2]][1], ') ---->  MIDPOINT: (',x,',',y,')')\n",
        "  return midpoint \n",
        "\n",
        "# def squared_error(groups,df,midpoint):\n",
        "#   sumx=0\n",
        "#   sumy=0\n",
        "#   l=len(groups)\n",
        "#   print(l)\n",
        "#   for i in range(l):\n",
        "#     midpoint=[]\n",
        "#     xi = int(df['x'].loc[groups[i]])\n",
        "#     yi = int(df['y'].loc[groups[i]])\n",
        " \n",
        "\n",
        "\n",
        "midpoint_list=[]\n",
        "#Result = doppiette/triplette/ecc di punti in cui verrà calcolato il punto medio\n",
        "\n",
        "#Scorro tutti i gruppi di punti\n",
        "for i in range(len(result)):\n",
        "\n",
        "  points=result[i] #seleziono un gruppo di punti alla volta\n",
        "\n",
        "  #passo alla funzione un singolo gruppo di punti(rappresentano gli indici dei punti in df)\n",
        "  #df = coordinate dei punti\n",
        "  midpoint_list.append(midPoint(points,df))\n",
        "\n",
        "print(midpoint_list)\n",
        "\n"
      ],
      "metadata": {
        "colab": {
          "base_uri": "https://localhost:8080/"
        },
        "id": "yADZPdOVFDSH",
        "outputId": "26cfafea-aa53-401e-d5e3-cd4de175e9fd"
      },
      "execution_count": null,
      "outputs": [
        {
          "output_type": "stream",
          "name": "stdout",
          "text": [
            "[[6.0, 4.0], [9.5, 6.0], [14.0, 4.0], [14.0, 8.0], [11.5, 6.0], [16.0, 4.0], [16.0, 8.0], [19.5, 6.0], [19.5, 10.0], [24.0, 8.0]]\n"
          ]
        }
      ]
    },
    {
      "cell_type": "code",
      "source": [
        "#N = 3\n",
        "#numbers = list(range(N))\n",
        "#numbers\n",
        "\n",
        "def midPoint(groups,df):\n",
        "  \n",
        "  midpoint_list=[]\n",
        "  \n",
        "  se=[]\n",
        "  #scorro la lista di gruppi ottenuti\n",
        "  for j in range(len(result)):\n",
        "    \n",
        "    #gruppo singolo es: (0,1) o (0,1,2)\n",
        "    groups=result[j]\n",
        "    sumx=0\n",
        "    sumy=0\n",
        "    #l = quanti punti appartengono in un gruppo\n",
        "    l=len(groups)\n",
        "    midpoint=[]\n",
        "    for i in range(l):\n",
        "      # groups[i] mi indica l'indice associato ai punti in df, dunque salvo in xi e yi le coordinate effettive dei punti di df\n",
        "      xi = int(df['x'].loc[groups[i]])\n",
        "      yi = int(df['y'].loc[groups[i]])\n",
        "    \n",
        "      #effettuo la somma delle x di tutte le coordinate appartenenti al gruppo\n",
        "      sumx = sumx + xi\n",
        "      sumy = sumy + yi\n",
        "\n",
        "    #formula punto medio\n",
        "    x = round( sumx / l, 2)\n",
        "    y = round( sumy /l, 2)\n",
        "\n",
        "    #salvo tutti i punti medi in una lista midpoint\n",
        "    midpoint.extend([x, y])\n",
        "    #print('CLUSTER: [', groups ,'] ---> (', df.loc[groups[0]][0],',', df.loc[groups[0]][1], ')(', df.loc[groups[1]][0],',', df.loc[groups[1]][1], ')(', df.loc[groups[2]][0],',', df.loc[groups[2]][1], ') ---->  MIDPOINT: (',x,',',y,')')\n",
        "    midpoint_list.append(midpoint)\n",
        "\n",
        "    ####################\n",
        "    squared_error=0\n",
        "    for i in range(l):\n",
        "      xi = int(df['x'].loc[groups[i]])\n",
        "      yi = int(df['y'].loc[groups[i]])\n",
        "      squared_error = squared_error + pow((midpoint[0]-xi),2) + pow((midpoint[1]-yi),2)\n",
        "      \n",
        "    se.append(squared_error)\n",
        "    #print(se)\n",
        "    ####################\n",
        "  return se\n",
        "\n",
        "print(result_total)\n",
        "print(midPoint(result_total,df))\n",
        "min(midPoint(result,df))\n",
        "index_min = min(range(len(midPoint(result,df))), key=midPoint(result,df).__getitem__)\n",
        "print(result[index_min])\n",
        "\n",
        "cluster_find=result[index_min]\n"
      ],
      "metadata": {
        "id": "WS8XAuMIsASf"
      },
      "execution_count": null,
      "outputs": []
    },
    {
      "cell_type": "code",
      "source": [
        "import itertools\n",
        "\n",
        "N = 5\n",
        "numbers = list(range(N))\n",
        "\n",
        "combinations = []\n",
        "for i in range(2, N+1):\n",
        "    combinations.extend(itertools.combinations(numbers, i))\n",
        "\n",
        "#print(combinations)\n",
        "\n",
        "#[(0,1)]\n",
        "cluster_find=[(0,1)]\n",
        "c_dim=4\n",
        "cluster_total=[]\n",
        "for i in range(len(cluster_find)): #scorrimento array dei cluster trovati\n",
        "  \n",
        "  cluster_temp=[]\n",
        "  for j in combinations:  #scorrimento array delle combinazioni totali\n",
        "    cont_out=0\n",
        "    cont_in=0\n",
        "    for k in range(len(j)):  #scorrimento valori dentro una singola combinazione\n",
        "      # TODO: aggiungere controllo sulla dimensione del cluster  and len(j)==c_dim-1\n",
        "      if len(j)==len(cluster_find[i]) and len(j)==c_dim-1 and j[k] not in cluster_find[i]:   #controllo se i valori dentro le combinazioni sono completamente diversi dai valori dei cluster\n",
        "        cont_out=cont_out+1\n",
        "\n",
        "      if len(j)>=c_dim-1  and len(j)<=c_dim and j[k] in cluster_find[i]: #controllo quali combinazioni contengono entrambi i valori del cluster \n",
        "        cont_in=cont_in+1\n",
        "\n",
        "\n",
        "    if((cont_out==len(j) or cont_in==len(cluster_find[i]))and j!=cluster_find[i]): #creo una lista contenente tutti i papabili cluster\n",
        "      cluster_temp.append(j)\n",
        "\n",
        "  cluster_total.append(cluster_temp)\n",
        "print(cluster_total)\n",
        "\n",
        "\n"
      ],
      "metadata": {
        "colab": {
          "base_uri": "https://localhost:8080/"
        },
        "id": "D-_-ZXpEh0kC",
        "outputId": "82c6447b-13ce-4aea-a3c9-06befd7e6645"
      },
      "execution_count": 67,
      "outputs": [
        {
          "output_type": "stream",
          "name": "stdout",
          "text": [
            "[[(0, 1, 2), (0, 1, 3), (0, 1, 4), (0, 1, 2, 3), (0, 1, 2, 4), (0, 1, 3, 4)]]\n"
          ]
        }
      ]
    },
    {
      "cell_type": "code",
      "source": [
        "for i in range(len(cluster_find)):\n",
        "  #print(cluster_find[i])\n",
        "  for j in range(len(cluster_total)):\n",
        "    if i!=j:\n",
        "      print('#########################')\n",
        "      cont=0\n",
        "      for k in range(len(cluster_total[j])):\n",
        "        \n",
        "        for w in range(len(cluster_find[i])):\n",
        "          print(cluster_find[i][w],'-----',cluster_total[j][k])\n",
        "          if cluster_find[i][w]==cluster_total[j][k]:\n",
        "            print('eeee')\n",
        "            print(cluster_total[j][k])\n",
        "      "
      ],
      "metadata": {
        "colab": {
          "base_uri": "https://localhost:8080/"
        },
        "id": "KhmvcrvivxNf",
        "outputId": "2eebbf87-9d9b-4f44-bb1d-6dcef0c2c56a"
      },
      "execution_count": 36,
      "outputs": [
        {
          "output_type": "stream",
          "name": "stdout",
          "text": [
            "#########################\n",
            "0 ----- (0, 3, 4)\n",
            "1 ----- (0, 3, 4)\n",
            "0 ----- (1, 3, 4)\n",
            "1 ----- (1, 3, 4)\n",
            "0 ----- (2, 3, 4)\n",
            "1 ----- (2, 3, 4)\n",
            "0 ----- (0, 1, 3, 4)\n",
            "1 ----- (0, 1, 3, 4)\n",
            "0 ----- (0, 2, 3, 4)\n",
            "1 ----- (0, 2, 3, 4)\n",
            "0 ----- (1, 2, 3, 4)\n",
            "1 ----- (1, 2, 3, 4)\n",
            "#########################\n",
            "3 ----- (0, 1, 2)\n",
            "4 ----- (0, 1, 2)\n",
            "3 ----- (0, 1, 3)\n",
            "4 ----- (0, 1, 3)\n",
            "3 ----- (0, 1, 4)\n",
            "4 ----- (0, 1, 4)\n",
            "3 ----- (0, 1, 2, 3)\n",
            "4 ----- (0, 1, 2, 3)\n",
            "3 ----- (0, 1, 2, 4)\n",
            "4 ----- (0, 1, 2, 4)\n",
            "3 ----- (0, 1, 3, 4)\n",
            "4 ----- (0, 1, 3, 4)\n"
          ]
        }
      ]
    },
    {
      "cell_type": "code",
      "source": [
        "final_cluster=[]\n",
        "for i in range(len(cluster_find)):\n",
        "  print('a')\n",
        "  for j in range(len(cluster_total)):\n",
        "    for k in range(len(cluster_total[j])):\n",
        "      foo = set(cluster_find[i]).intersection(set(cluster_total[j][k]))\n",
        "      \n",
        "      if i!=j and (len(foo)==0 or len(foo)==len(cluster_find[i])):\n",
        "        print(cluster_find[i],'---',cluster_total[j][k],':  ',len(foo))\n",
        "        final_cluster.append(cluster_total[j][k])\n",
        "\n",
        "final_cluster = list(dict.fromkeys(final_cluster))\n",
        "print(final_cluster)       \n"
      ],
      "metadata": {
        "colab": {
          "base_uri": "https://localhost:8080/"
        },
        "id": "PpraVejNy2Am",
        "outputId": "063a3c89-27d5-454c-c0e0-dc4315ae729c"
      },
      "execution_count": 65,
      "outputs": [
        {
          "output_type": "stream",
          "name": "stdout",
          "text": [
            "a\n",
            "(0, 1) --- (2, 3, 4) :   0\n",
            "(0, 1) --- (0, 1, 3, 4) :   2\n",
            "a\n",
            "(3, 4) --- (0, 1, 2) :   0\n",
            "(3, 4) --- (0, 1, 3, 4) :   2\n",
            "[(2, 3, 4), (0, 1, 3, 4), (0, 1, 2)]\n"
          ]
        }
      ]
    },
    {
      "cell_type": "code",
      "source": [
        "A = {1, 2, 3}\n",
        "B = {1, 2, 3, 4, 5}\n",
        "\n",
        "# all items of A are present in B\n",
        "print(A.issubset(B))\n",
        "print(type(A))"
      ],
      "metadata": {
        "id": "g_eqS6y93AOR"
      },
      "execution_count": null,
      "outputs": []
    }
  ]
}
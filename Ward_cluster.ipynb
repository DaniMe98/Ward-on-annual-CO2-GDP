{
  "nbformat": 4,
  "nbformat_minor": 0,
  "metadata": {
    "colab": {
      "provenance": [],
      "collapsed_sections": []
    },
    "kernelspec": {
      "name": "python3",
      "display_name": "Python 3"
    },
    "language_info": {
      "name": "python"
    }
  },
  "cells": [
    {
      "cell_type": "code",
      "execution_count": 3,
      "metadata": {
        "colab": {
          "base_uri": "https://localhost:8080/"
        },
        "id": "Y4osf2fWpg_-",
        "outputId": "f111b649-0f3a-413c-9c0b-7fc273cf41ec"
      },
      "outputs": [
        {
          "output_type": "stream",
          "name": "stdout",
          "text": [
            "    x   y\n",
            "0   4   4\n",
            "1   8   4\n",
            "2  15   8\n",
            "3  24   4\n",
            "4  24  12\n"
          ]
        }
      ],
      "source": [
        "import pandas as pd\n",
        "\n",
        "data = {'x':  ['4', '8', '15','24','24'],\n",
        "        'y':  ['4', '4', '8' , '4', '12']\n",
        "        }\n",
        "\n",
        "df = pd.DataFrame(data)\n",
        "\n",
        "print (df)"
      ]
    },
    {
      "cell_type": "code",
      "source": [
        "df.plot(x='x', y='y', kind='scatter')\t"
      ],
      "metadata": {
        "colab": {
          "base_uri": "https://localhost:8080/",
          "height": 296
        },
        "id": "GCSvkITorG9F",
        "outputId": "e9e2a068-728f-488b-841d-be50065015f6"
      },
      "execution_count": null,
      "outputs": [
        {
          "output_type": "execute_result",
          "data": {
            "text/plain": [
              "<matplotlib.axes._subplots.AxesSubplot at 0x7f164061ac90>"
            ]
          },
          "metadata": {},
          "execution_count": 4
        },
        {
          "output_type": "display_data",
          "data": {
            "text/plain": [
              "<Figure size 432x288 with 1 Axes>"
            ],
            "image/png": "[encoded data removed]"
          },
          "metadata": {
            "needs_background": "light"
          }
        }
      ]
    },
    {
      "cell_type": "code",
      "source": [
        "# def printPairs(arr, n):\n",
        "#     pairs_point=[]\n",
        "#     # Nested loop for all possible pairs\n",
        "#     for i in range(n):\n",
        "#         for j in range(n):\n",
        "#             if i!=j:\n",
        "#               point=[]\n",
        "#               point.append(arr[i])\n",
        "#               point.append(arr[j])\n",
        "#               pairs_point.append(point)\n",
        "#               #print(\"(\",arr[i],\",\",arr[j],\")\",end=\", \")\n",
        "    \n",
        "#     return pairs_point\n",
        "           \n",
        "\n",
        "\n",
        "# # Create a list in a range of 10-20\n",
        "# pair_list = list(range(0, len(df)))\n",
        "\n",
        "# # Print the list\n",
        "# n = len(df)\n",
        "\n",
        "\n",
        "# print(pair_list)\n",
        "\n",
        " \n",
        "# a= printPairs(pair_list, n)\n",
        "# print(len(a))"
      ],
      "metadata": {
        "id": "7Op57xZPrORY"
      },
      "execution_count": null,
      "outputs": []
    },
    {
      "cell_type": "code",
      "source": [
        "import itertools\n",
        "\n",
        "N = 5\n",
        "numbers = list(range(N))\n",
        "\n",
        "result = []\n",
        "for i in range(2, N+1):\n",
        "    result.extend(itertools.combinations(numbers, i))\n",
        "\n",
        "\n",
        "result"
      ],
      "metadata": {
        "colab": {
          "base_uri": "https://localhost:8080/"
        },
        "id": "lppu8xmHsPC9",
        "outputId": "f3386817-74b0-4f50-baca-047731d39f78"
      },
      "execution_count": null,
      "outputs": [
        {
          "output_type": "execute_result",
          "data": {
            "text/plain": [
              "[(0, 1),\n",
              " (0, 2),\n",
              " (0, 3),\n",
              " (0, 4),\n",
              " (1, 2),\n",
              " (1, 3),\n",
              " (1, 4),\n",
              " (2, 3),\n",
              " (2, 4),\n",
              " (3, 4),\n",
              " (0, 1, 2),\n",
              " (0, 1, 3),\n",
              " (0, 1, 4),\n",
              " (0, 2, 3),\n",
              " (0, 2, 4),\n",
              " (0, 3, 4),\n",
              " (1, 2, 3),\n",
              " (1, 2, 4),\n",
              " (1, 3, 4),\n",
              " (2, 3, 4),\n",
              " (0, 1, 2, 3),\n",
              " (0, 1, 2, 4),\n",
              " (0, 1, 3, 4),\n",
              " (0, 2, 3, 4),\n",
              " (1, 2, 3, 4),\n",
              " (0, 1, 2, 3, 4)]"
            ]
          },
          "metadata": {},
          "execution_count": 2
        }
      ]
    },
    {
      "cell_type": "code",
      "source": [
        "first_cluster=result[:10]\n",
        "first_cluster"
      ],
      "metadata": {
        "colab": {
          "base_uri": "https://localhost:8080/"
        },
        "id": "yBTY2Z6i5_MF",
        "outputId": "ec2f397a-5afe-4831-a8fe-94d3c6c25485"
      },
      "execution_count": null,
      "outputs": [
        {
          "output_type": "execute_result",
          "data": {
            "text/plain": [
              "[(0, 1),\n",
              " (0, 2),\n",
              " (0, 3),\n",
              " (0, 4),\n",
              " (1, 2),\n",
              " (1, 3),\n",
              " (1, 4),\n",
              " (2, 3),\n",
              " (2, 4),\n",
              " (3, 4)]"
            ]
          },
          "metadata": {},
          "execution_count": 66
        }
      ]
    },
    {
      "cell_type": "code",
      "source": [
        "MSE_1 = []\n",
        "\n",
        "for i in first_cluster:\n",
        "  x1 = int(df['x'].loc[i[0]])\n",
        "  x2 = int(df['x'].loc[i[1]])\n",
        "  y1 = int(df['y'].loc[i[0]])\n",
        "  y2 = int(df['y'].loc[i[1]])\n",
        "\n",
        "  x = ( x1 + x2 )/2\n",
        "  y = ( y1 + y2 )/2\n",
        "  sqr_err = pow((x - x1),2) + pow((y - y1),2) +pow((x - x2),2) + pow((y- y2),2)\n",
        "  MSE_1.append(sqr_err)\n",
        "  print(sqr_err)\n",
        "print('-'*20)\n",
        "print('MIN MSE: ' , min(MSE_1))\n",
        "index_min = min(range(len(MSE_1)), key=MSE_1.__getitem__)\n",
        "print('INDEX MIN MSE: ', index_min)\n",
        "print(first_cluster[index_min])\n",
        "cluster_1 = first_cluster[index_min]"
      ],
      "metadata": {
        "colab": {
          "base_uri": "https://localhost:8080/"
        },
        "id": "Ie86JYv0ymzm",
        "outputId": "0b6aa1d5-7554-4c40-c0b3-1d3f5432174c"
      },
      "execution_count": null,
      "outputs": [
        {
          "output_type": "stream",
          "name": "stdout",
          "text": [
            "8.0\n",
            "68.5\n",
            "200.0\n",
            "232.0\n",
            "32.5\n",
            "128.0\n",
            "160.0\n",
            "48.5\n",
            "48.5\n",
            "32.0\n",
            "--------------------\n",
            "MIN MSE:  8.0\n",
            "INDEX MIN MSE:  0\n",
            "(0, 1)\n"
          ]
        }
      ]
    },
    {
      "cell_type": "code",
      "source": [
        "import itertools\n",
        "\n",
        "N = 5\n",
        "numbers = list(range(2,N))\n",
        "\n",
        "result = []\n",
        "for i in range(1, N):\n",
        "    result.extend(itertools.combinations(numbers, i))\n",
        "new_cluster=[]\n",
        "\n",
        "second_cluster = result[:6] \n",
        "\n",
        "for i in range(0, N): \n",
        "  if len(second_cluster[i])==1:\n",
        "    new_cluster.append(cluster_1 + second_cluster[i])\n",
        "\n",
        "print(new_cluster)"
      ],
      "metadata": {
        "colab": {
          "base_uri": "https://localhost:8080/"
        },
        "id": "MwL042YL7yEE",
        "outputId": "d2afd76e-ce89-44a5-cb38-a45abb27a98e"
      },
      "execution_count": null,
      "outputs": [
        {
          "output_type": "stream",
          "name": "stdout",
          "text": [
            "[(0, 1, 2), (0, 1, 3), (0, 1, 4)]\n"
          ]
        }
      ]
    },
    {
      "cell_type": "code",
      "source": [
        "# MSE = []\n",
        "\n",
        "# for i in new_cluster:\n",
        "#   x1 = int(df['x'].loc[i[0]])\n",
        "#   x2 = int(df['x'].loc[i[1]])\n",
        "#   x3 = int(df['x'].loc[i[2]])\n",
        "#   y1 = int(df['y'].loc[i[0]])\n",
        "#   y2 = int(df['y'].loc[i[1]])\n",
        "#   y3 = int(df['y'].loc[i[2]])\n",
        "#   x = ( x1 + x2 + x3)/3\n",
        "#   y = ( y1 + y2 + y3)/3\n",
        "#   print(x)\n",
        "#   print(y)\n",
        "#   sqr_err = pow((x - x1),2) + pow((y - y1),2) + pow((x - x2),2) + pow((y- y2),2) + pow((x - x3),2) + pow((y- y3),2) \n",
        "#   MSE.append(sqr_err)\n",
        "# print(sqr_err)\n",
        "# print('-'*20)\n",
        "# print('MSE: ', MSE)\n",
        "# print('MIN MSE: ' , min(MSE))\n",
        "# index_min = min(range(len(MSE)), key=MSE.__getitem__)\n",
        "# print('INDEX MIN MSE: ', index_min)\n",
        " # print(first_cluster[index_min])"
      ],
      "metadata": {
        "colab": {
          "base_uri": "https://localhost:8080/"
        },
        "id": "Rr1zRW87_tN_",
        "outputId": "da6ffbb2-e421-4967-aea1-d342510cda0d"
      },
      "execution_count": null,
      "outputs": [
        {
          "output_type": "stream",
          "name": "stdout",
          "text": [
            "9.0\n",
            "5.333333333333333\n",
            "12.0\n",
            "4.0\n",
            "12.0\n",
            "6.666666666666667\n",
            "266.6666666666667\n",
            "--------------------\n",
            "MSE:  [72.66666666666667, 224.0, 266.6666666666667]\n",
            "MIN MSE:  72.66666666666667\n",
            "INDEX MIN MSE:  0\n"
          ]
        }
      ]
    },
    {
      "cell_type": "code",
      "source": [
        "result=result[:10]\n",
        "result"
      ],
      "metadata": {
        "colab": {
          "base_uri": "https://localhost:8080/"
        },
        "id": "Hyf1bytBbQNN",
        "outputId": "4950b6e1-0f06-4141-e1ce-86d6cd603991"
      },
      "execution_count": 7,
      "outputs": [
        {
          "output_type": "execute_result",
          "data": {
            "text/plain": [
              "[(0, 1),\n",
              " (0, 2),\n",
              " (0, 3),\n",
              " (0, 4),\n",
              " (1, 2),\n",
              " (1, 3),\n",
              " (1, 4),\n",
              " (2, 3),\n",
              " (2, 4),\n",
              " (3, 4)]"
            ]
          },
          "metadata": {},
          "execution_count": 7
        }
      ]
    },
    {
      "cell_type": "code",
      "source": [
        "print(result[0][0])"
      ],
      "metadata": {
        "colab": {
          "base_uri": "https://localhost:8080/"
        },
        "id": "1b1FAHuR-uM9",
        "outputId": "c2295632-5d7b-495f-bd2a-f7bc3e7db4b5"
      },
      "execution_count": 15,
      "outputs": [
        {
          "output_type": "stream",
          "name": "stdout",
          "text": [
            "0\n",
            "4\n"
          ]
        }
      ]
    },
    {
      "cell_type": "code",
      "source": [
        "#N = 3\n",
        "#numbers = list(range(N))\n",
        "#numbers\n",
        "\n",
        "def midPoint(arr, n ,df):\n",
        "  sumx=0\n",
        "  sumy=0\n",
        "  x=0\n",
        "  y=0\n",
        "  l=len(arr)\n",
        "  #print(l)\n",
        "  for i in range(l):\n",
        "    #print('ARRAY: ',arr[i])\n",
        "    xi = int(df['x'].loc[arr[i]])\n",
        "    yi = int(df['y'].loc[arr[i]])\n",
        "    sumx = sumx + xi\n",
        "    sumy = sumy + yi\n",
        "  x = round( sumx / n, 2)\n",
        "  y = round( sumy / n, 2)\n",
        "   \n",
        "  print('CLUSTER: [', arr ,'] ---> (', df.loc[arr[0]][0],',', df.loc[arr[0]][1], ')(', df.loc[arr[1]][0],',', df.loc[arr[1]][1], ') ---->  MIDPOINT: (',x,',',y,')')\n",
        " \n",
        "\n",
        "\n",
        "\n",
        "for i in range(len(result)):\n",
        "  points=result[i]\n",
        "  n=len(result)\n",
        "  midPoint(points,n,df)\n",
        "\n"
      ],
      "metadata": {
        "colab": {
          "base_uri": "https://localhost:8080/"
        },
        "id": "yADZPdOVFDSH",
        "outputId": "41dabd1c-3170-47d3-964c-2b64cafaae87"
      },
      "execution_count": 21,
      "outputs": [
        {
          "output_type": "stream",
          "name": "stdout",
          "text": [
            "CLUSTER: [ (0, 1) ] ---> ( 4 , 4 )( 8 , 4 ) ---->  MIDPOINT: ( 1.2 , 0.8 )\n",
            "CLUSTER: [ (0, 2) ] ---> ( 4 , 4 )( 15 , 8 ) ---->  MIDPOINT: ( 1.9 , 1.2 )\n",
            "CLUSTER: [ (0, 3) ] ---> ( 4 , 4 )( 24 , 4 ) ---->  MIDPOINT: ( 2.8 , 0.8 )\n",
            "CLUSTER: [ (0, 4) ] ---> ( 4 , 4 )( 24 , 12 ) ---->  MIDPOINT: ( 2.8 , 1.6 )\n",
            "CLUSTER: [ (1, 2) ] ---> ( 8 , 4 )( 15 , 8 ) ---->  MIDPOINT: ( 2.3 , 1.2 )\n",
            "CLUSTER: [ (1, 3) ] ---> ( 8 , 4 )( 24 , 4 ) ---->  MIDPOINT: ( 3.2 , 0.8 )\n",
            "CLUSTER: [ (1, 4) ] ---> ( 8 , 4 )( 24 , 12 ) ---->  MIDPOINT: ( 3.2 , 1.6 )\n",
            "CLUSTER: [ (2, 3) ] ---> ( 15 , 8 )( 24 , 4 ) ---->  MIDPOINT: ( 3.9 , 1.2 )\n",
            "CLUSTER: [ (2, 4) ] ---> ( 15 , 8 )( 24 , 12 ) ---->  MIDPOINT: ( 3.9 , 2.0 )\n",
            "CLUSTER: [ (3, 4) ] ---> ( 24 , 4 )( 24 , 12 ) ---->  MIDPOINT: ( 4.8 , 1.6 )\n"
          ]
        }
      ]
    }
  ]
}
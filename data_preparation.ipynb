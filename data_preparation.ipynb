{
  "nbformat": 4,
  "nbformat_minor": 0,
  "metadata": {
    "colab": {
      "provenance": [],
      "collapsed_sections": []
    },
    "kernelspec": {
      "name": "python3",
      "display_name": "Python 3"
    },
    "language_info": {
      "name": "python"
    }
  },
  "cells": [
    {
      "cell_type": "code",
      "execution_count": 108,
      "metadata": {
        "colab": {
          "base_uri": "https://localhost:8080/"
        },
        "id": "j-rs36pwDpdN",
        "outputId": "6a69d2e2-8baf-4c1c-8f25-0f9e37af94cd"
      },
      "outputs": [
        {
          "output_type": "stream",
          "name": "stdout",
          "text": [
            "Drive already mounted at /content/gdrive; to attempt to forcibly remount, call drive.mount(\"/content/gdrive\", force_remount=True).\n"
          ]
        }
      ],
      "source": [
        "from google.colab import drive \n",
        "drive.mount('/content/gdrive')"
      ]
    },
    {
      "cell_type": "code",
      "source": [
        "import pandas as pd\n",
        "\n",
        "df_temp=pd.read_csv('gdrive/MyDrive/Data/GlobalLandTemperaturesByCountry.csv') #Temperature df\n",
        "df_co2=pd.read_csv('gdrive/MyDrive/Data/CO2emissionbycountries.csv',encoding= 'unicode_escape') #CO2 df\n",
        "df_pop=pd.read_csv('gdrive/MyDrive/Data/Population.csv') #Population df"
      ],
      "metadata": {
        "id": "w8B5oUqCH7jL"
      },
      "execution_count": 109,
      "outputs": []
    },
    {
      "cell_type": "code",
      "source": [
        "df_temp.head(5)"
      ],
      "metadata": {
        "colab": {
          "base_uri": "https://localhost:8080/",
          "height": 206
        },
        "id": "TUIn9EevH6X4",
        "outputId": "84ea0f9a-0d3f-453d-fec3-f0e7d475a5f4"
      },
      "execution_count": 110,
      "outputs": [
        {
          "output_type": "execute_result",
          "data": {
            "text/plain": [
              "           dt  AverageTemperature  AverageTemperatureUncertainty Country\n",
              "0  1743-11-01               4.384                          2.294   Åland\n",
              "1  1743-12-01                 NaN                            NaN   Åland\n",
              "2  1744-01-01                 NaN                            NaN   Åland\n",
              "3  1744-02-01                 NaN                            NaN   Åland\n",
              "4  1744-03-01                 NaN                            NaN   Åland"
            ],
            "text/html": [
              "\n",
              "  <div id=\"df-1db66f0a-a8a2-4c9e-9193-220681aadaeb\">\n",
              "    <div class=\"colab-df-container\">\n",
              "      <div>\n",
              "<style scoped>\n",
              "    .dataframe tbody tr th:only-of-type {\n",
              "        vertical-align: middle;\n",
              "    }\n",
              "\n",
              "    .dataframe tbody tr th {\n",
              "        vertical-align: top;\n",
              "    }\n",
              "\n",
              "    .dataframe thead th {\n",
              "        text-align: right;\n",
              "    }\n",
              "</style>\n",
              "<table border=\"1\" class=\"dataframe\">\n",
              "  <thead>\n",
              "    <tr style=\"text-align: right;\">\n",
              "      <th></th>\n",
              "      <th>dt</th>\n",
              "      <th>AverageTemperature</th>\n",
              "      <th>AverageTemperatureUncertainty</th>\n",
              "      <th>Country</th>\n",
              "    </tr>\n",
              "  </thead>\n",
              "  <tbody>\n",
              "    <tr>\n",
              "      <th>0</th>\n",
              "      <td>1743-11-01</td>\n",
              "      <td>4.384</td>\n",
              "      <td>2.294</td>\n",
              "      <td>Åland</td>\n",
              "    </tr>\n",
              "    <tr>\n",
              "      <th>1</th>\n",
              "      <td>1743-12-01</td>\n",
              "      <td>NaN</td>\n",
              "      <td>NaN</td>\n",
              "      <td>Åland</td>\n",
              "    </tr>\n",
              "    <tr>\n",
              "      <th>2</th>\n",
              "      <td>1744-01-01</td>\n",
              "      <td>NaN</td>\n",
              "      <td>NaN</td>\n",
              "      <td>Åland</td>\n",
              "    </tr>\n",
              "    <tr>\n",
              "      <th>3</th>\n",
              "      <td>1744-02-01</td>\n",
              "      <td>NaN</td>\n",
              "      <td>NaN</td>\n",
              "      <td>Åland</td>\n",
              "    </tr>\n",
              "    <tr>\n",
              "      <th>4</th>\n",
              "      <td>1744-03-01</td>\n",
              "      <td>NaN</td>\n",
              "      <td>NaN</td>\n",
              "      <td>Åland</td>\n",
              "    </tr>\n",
              "  </tbody>\n",
              "</table>\n",
              "</div>\n",
              "      <button class=\"colab-df-convert\" onclick=\"convertToInteractive('df-1db66f0a-a8a2-4c9e-9193-220681aadaeb')\"\n",
              "              title=\"Convert this dataframe to an interactive table.\"\n",
              "              style=\"display:none;\">\n",
              "        \n",
              "  <svg xmlns=\"http://www.w3.org/2000/svg\" height=\"24px\"viewBox=\"0 0 24 24\"\n",
              "       width=\"24px\">\n",
              "    <path d=\"M0 0h24v24H0V0z\" fill=\"none\"/>\n",
              "    <path d=\"M18.56 5.44l.94 2.06.94-2.06 2.06-.94-2.06-.94-.94-2.06-.94 2.06-2.06.94zm-11 1L8.5 8.5l.94-2.06 2.06-.94-2.06-.94L8.5 2.5l-.94 2.06-2.06.94zm10 10l.94 2.06.94-2.06 2.06-.94-2.06-.94-.94-2.06-.94 2.06-2.06.94z\"/><path d=\"M17.41 7.96l-1.37-1.37c-.4-.4-.92-.59-1.43-.59-.52 0-1.04.2-1.43.59L10.3 9.45l-7.72 7.72c-.78.78-.78 2.05 0 2.83L4 21.41c.39.39.9.59 1.41.59.51 0 1.02-.2 1.41-.59l7.78-7.78 2.81-2.81c.8-.78.8-2.07 0-2.86zM5.41 20L4 18.59l7.72-7.72 1.47 1.35L5.41 20z\"/>\n",
              "  </svg>\n",
              "      </button>\n",
              "      \n",
              "  <style>\n",
              "    .colab-df-container {\n",
              "      display:flex;\n",
              "      flex-wrap:wrap;\n",
              "      gap: 12px;\n",
              "    }\n",
              "\n",
              "    .colab-df-convert {\n",
              "      background-color: #E8F0FE;\n",
              "      border: none;\n",
              "      border-radius: 50%;\n",
              "      cursor: pointer;\n",
              "      display: none;\n",
              "      fill: #1967D2;\n",
              "      height: 32px;\n",
              "      padding: 0 0 0 0;\n",
              "      width: 32px;\n",
              "    }\n",
              "\n",
              "    .colab-df-convert:hover {\n",
              "      background-color: #E2EBFA;\n",
              "      box-shadow: 0px 1px 2px rgba(60, 64, 67, 0.3), 0px 1px 3px 1px rgba(60, 64, 67, 0.15);\n",
              "      fill: #174EA6;\n",
              "    }\n",
              "\n",
              "    [theme=dark] .colab-df-convert {\n",
              "      background-color: #3B4455;\n",
              "      fill: #D2E3FC;\n",
              "    }\n",
              "\n",
              "    [theme=dark] .colab-df-convert:hover {\n",
              "      background-color: #434B5C;\n",
              "      box-shadow: 0px 1px 3px 1px rgba(0, 0, 0, 0.15);\n",
              "      filter: drop-shadow(0px 1px 2px rgba(0, 0, 0, 0.3));\n",
              "      fill: #FFFFFF;\n",
              "    }\n",
              "  </style>\n",
              "\n",
              "      <script>\n",
              "        const buttonEl =\n",
              "          document.querySelector('#df-1db66f0a-a8a2-4c9e-9193-220681aadaeb button.colab-df-convert');\n",
              "        buttonEl.style.display =\n",
              "          google.colab.kernel.accessAllowed ? 'block' : 'none';\n",
              "\n",
              "        async function convertToInteractive(key) {\n",
              "          const element = document.querySelector('#df-1db66f0a-a8a2-4c9e-9193-220681aadaeb');\n",
              "          const dataTable =\n",
              "            await google.colab.kernel.invokeFunction('convertToInteractive',\n",
              "                                                     [key], {});\n",
              "          if (!dataTable) return;\n",
              "\n",
              "          const docLinkHtml = 'Like what you see? Visit the ' +\n",
              "            '<a target=\"_blank\" href=https://colab.research.google.com/notebooks/data_table.ipynb>data table notebook</a>'\n",
              "            + ' to learn more about interactive tables.';\n",
              "          element.innerHTML = '';\n",
              "          dataTable['output_type'] = 'display_data';\n",
              "          await google.colab.output.renderOutput(dataTable, element);\n",
              "          const docLink = document.createElement('div');\n",
              "          docLink.innerHTML = docLinkHtml;\n",
              "          element.appendChild(docLink);\n",
              "        }\n",
              "      </script>\n",
              "    </div>\n",
              "  </div>\n",
              "  "
            ]
          },
          "metadata": {},
          "execution_count": 110
        }
      ]
    },
    {
      "cell_type": "code",
      "source": [
        "pd.DataFrame(df_temp)\n"
      ],
      "metadata": {
        "colab": {
          "base_uri": "https://localhost:8080/",
          "height": 424
        },
        "id": "P_ztkDqzjX5q",
        "outputId": "354ce5ac-e8fc-4d65-ed4a-5dc0f1e3e051"
      },
      "execution_count": 111,
      "outputs": [
        {
          "output_type": "execute_result",
          "data": {
            "text/plain": [
              "                dt  AverageTemperature  AverageTemperatureUncertainty  \\\n",
              "0       1743-11-01               4.384                          2.294   \n",
              "1       1743-12-01                 NaN                            NaN   \n",
              "2       1744-01-01                 NaN                            NaN   \n",
              "3       1744-02-01                 NaN                            NaN   \n",
              "4       1744-03-01                 NaN                            NaN   \n",
              "...            ...                 ...                            ...   \n",
              "577457  2013-05-01              19.059                          1.022   \n",
              "577458  2013-06-01              17.613                          0.473   \n",
              "577459  2013-07-01              17.000                          0.453   \n",
              "577460  2013-08-01              19.759                          0.717   \n",
              "577461  2013-09-01                 NaN                            NaN   \n",
              "\n",
              "         Country  \n",
              "0          Åland  \n",
              "1          Åland  \n",
              "2          Åland  \n",
              "3          Åland  \n",
              "4          Åland  \n",
              "...          ...  \n",
              "577457  Zimbabwe  \n",
              "577458  Zimbabwe  \n",
              "577459  Zimbabwe  \n",
              "577460  Zimbabwe  \n",
              "577461  Zimbabwe  \n",
              "\n",
              "[577462 rows x 4 columns]"
            ],
            "text/html": [
              "\n",
              "  <div id=\"df-d477f5a9-6bf3-4706-99b2-fb772c0b2e5e\">\n",
              "    <div class=\"colab-df-container\">\n",
              "      <div>\n",
              "<style scoped>\n",
              "    .dataframe tbody tr th:only-of-type {\n",
              "        vertical-align: middle;\n",
              "    }\n",
              "\n",
              "    .dataframe tbody tr th {\n",
              "        vertical-align: top;\n",
              "    }\n",
              "\n",
              "    .dataframe thead th {\n",
              "        text-align: right;\n",
              "    }\n",
              "</style>\n",
              "<table border=\"1\" class=\"dataframe\">\n",
              "  <thead>\n",
              "    <tr style=\"text-align: right;\">\n",
              "      <th></th>\n",
              "      <th>dt</th>\n",
              "      <th>AverageTemperature</th>\n",
              "      <th>AverageTemperatureUncertainty</th>\n",
              "      <th>Country</th>\n",
              "    </tr>\n",
              "  </thead>\n",
              "  <tbody>\n",
              "    <tr>\n",
              "      <th>0</th>\n",
              "      <td>1743-11-01</td>\n",
              "      <td>4.384</td>\n",
              "      <td>2.294</td>\n",
              "      <td>Åland</td>\n",
              "    </tr>\n",
              "    <tr>\n",
              "      <th>1</th>\n",
              "      <td>1743-12-01</td>\n",
              "      <td>NaN</td>\n",
              "      <td>NaN</td>\n",
              "      <td>Åland</td>\n",
              "    </tr>\n",
              "    <tr>\n",
              "      <th>2</th>\n",
              "      <td>1744-01-01</td>\n",
              "      <td>NaN</td>\n",
              "      <td>NaN</td>\n",
              "      <td>Åland</td>\n",
              "    </tr>\n",
              "    <tr>\n",
              "      <th>3</th>\n",
              "      <td>1744-02-01</td>\n",
              "      <td>NaN</td>\n",
              "      <td>NaN</td>\n",
              "      <td>Åland</td>\n",
              "    </tr>\n",
              "    <tr>\n",
              "      <th>4</th>\n",
              "      <td>1744-03-01</td>\n",
              "      <td>NaN</td>\n",
              "      <td>NaN</td>\n",
              "      <td>Åland</td>\n",
              "    </tr>\n",
              "    <tr>\n",
              "      <th>...</th>\n",
              "      <td>...</td>\n",
              "      <td>...</td>\n",
              "      <td>...</td>\n",
              "      <td>...</td>\n",
              "    </tr>\n",
              "    <tr>\n",
              "      <th>577457</th>\n",
              "      <td>2013-05-01</td>\n",
              "      <td>19.059</td>\n",
              "      <td>1.022</td>\n",
              "      <td>Zimbabwe</td>\n",
              "    </tr>\n",
              "    <tr>\n",
              "      <th>577458</th>\n",
              "      <td>2013-06-01</td>\n",
              "      <td>17.613</td>\n",
              "      <td>0.473</td>\n",
              "      <td>Zimbabwe</td>\n",
              "    </tr>\n",
              "    <tr>\n",
              "      <th>577459</th>\n",
              "      <td>2013-07-01</td>\n",
              "      <td>17.000</td>\n",
              "      <td>0.453</td>\n",
              "      <td>Zimbabwe</td>\n",
              "    </tr>\n",
              "    <tr>\n",
              "      <th>577460</th>\n",
              "      <td>2013-08-01</td>\n",
              "      <td>19.759</td>\n",
              "      <td>0.717</td>\n",
              "      <td>Zimbabwe</td>\n",
              "    </tr>\n",
              "    <tr>\n",
              "      <th>577461</th>\n",
              "      <td>2013-09-01</td>\n",
              "      <td>NaN</td>\n",
              "      <td>NaN</td>\n",
              "      <td>Zimbabwe</td>\n",
              "    </tr>\n",
              "  </tbody>\n",
              "</table>\n",
              "<p>577462 rows × 4 columns</p>\n",
              "</div>\n",
              "      <button class=\"colab-df-convert\" onclick=\"convertToInteractive('df-d477f5a9-6bf3-4706-99b2-fb772c0b2e5e')\"\n",
              "              title=\"Convert this dataframe to an interactive table.\"\n",
              "              style=\"display:none;\">\n",
              "        \n",
              "  <svg xmlns=\"http://www.w3.org/2000/svg\" height=\"24px\"viewBox=\"0 0 24 24\"\n",
              "       width=\"24px\">\n",
              "    <path d=\"M0 0h24v24H0V0z\" fill=\"none\"/>\n",
              "    <path d=\"M18.56 5.44l.94 2.06.94-2.06 2.06-.94-2.06-.94-.94-2.06-.94 2.06-2.06.94zm-11 1L8.5 8.5l.94-2.06 2.06-.94-2.06-.94L8.5 2.5l-.94 2.06-2.06.94zm10 10l.94 2.06.94-2.06 2.06-.94-2.06-.94-.94-2.06-.94 2.06-2.06.94z\"/><path d=\"M17.41 7.96l-1.37-1.37c-.4-.4-.92-.59-1.43-.59-.52 0-1.04.2-1.43.59L10.3 9.45l-7.72 7.72c-.78.78-.78 2.05 0 2.83L4 21.41c.39.39.9.59 1.41.59.51 0 1.02-.2 1.41-.59l7.78-7.78 2.81-2.81c.8-.78.8-2.07 0-2.86zM5.41 20L4 18.59l7.72-7.72 1.47 1.35L5.41 20z\"/>\n",
              "  </svg>\n",
              "      </button>\n",
              "      \n",
              "  <style>\n",
              "    .colab-df-container {\n",
              "      display:flex;\n",
              "      flex-wrap:wrap;\n",
              "      gap: 12px;\n",
              "    }\n",
              "\n",
              "    .colab-df-convert {\n",
              "      background-color: #E8F0FE;\n",
              "      border: none;\n",
              "      border-radius: 50%;\n",
              "      cursor: pointer;\n",
              "      display: none;\n",
              "      fill: #1967D2;\n",
              "      height: 32px;\n",
              "      padding: 0 0 0 0;\n",
              "      width: 32px;\n",
              "    }\n",
              "\n",
              "    .colab-df-convert:hover {\n",
              "      background-color: #E2EBFA;\n",
              "      box-shadow: 0px 1px 2px rgba(60, 64, 67, 0.3), 0px 1px 3px 1px rgba(60, 64, 67, 0.15);\n",
              "      fill: #174EA6;\n",
              "    }\n",
              "\n",
              "    [theme=dark] .colab-df-convert {\n",
              "      background-color: #3B4455;\n",
              "      fill: #D2E3FC;\n",
              "    }\n",
              "\n",
              "    [theme=dark] .colab-df-convert:hover {\n",
              "      background-color: #434B5C;\n",
              "      box-shadow: 0px 1px 3px 1px rgba(0, 0, 0, 0.15);\n",
              "      filter: drop-shadow(0px 1px 2px rgba(0, 0, 0, 0.3));\n",
              "      fill: #FFFFFF;\n",
              "    }\n",
              "  </style>\n",
              "\n",
              "      <script>\n",
              "        const buttonEl =\n",
              "          document.querySelector('#df-d477f5a9-6bf3-4706-99b2-fb772c0b2e5e button.colab-df-convert');\n",
              "        buttonEl.style.display =\n",
              "          google.colab.kernel.accessAllowed ? 'block' : 'none';\n",
              "\n",
              "        async function convertToInteractive(key) {\n",
              "          const element = document.querySelector('#df-d477f5a9-6bf3-4706-99b2-fb772c0b2e5e');\n",
              "          const dataTable =\n",
              "            await google.colab.kernel.invokeFunction('convertToInteractive',\n",
              "                                                     [key], {});\n",
              "          if (!dataTable) return;\n",
              "\n",
              "          const docLinkHtml = 'Like what you see? Visit the ' +\n",
              "            '<a target=\"_blank\" href=https://colab.research.google.com/notebooks/data_table.ipynb>data table notebook</a>'\n",
              "            + ' to learn more about interactive tables.';\n",
              "          element.innerHTML = '';\n",
              "          dataTable['output_type'] = 'display_data';\n",
              "          await google.colab.output.renderOutput(dataTable, element);\n",
              "          const docLink = document.createElement('div');\n",
              "          docLink.innerHTML = docLinkHtml;\n",
              "          element.appendChild(docLink);\n",
              "        }\n",
              "      </script>\n",
              "    </div>\n",
              "  </div>\n",
              "  "
            ]
          },
          "metadata": {},
          "execution_count": 111
        }
      ]
    },
    {
      "cell_type": "code",
      "source": [
        "df_co2.head(5)"
      ],
      "metadata": {
        "colab": {
          "base_uri": "https://localhost:8080/",
          "height": 206
        },
        "id": "5td2VL9PIiJS",
        "outputId": "8811ae47-0784-446e-d2dd-ae7baf484cd6"
      },
      "execution_count": 112,
      "outputs": [
        {
          "output_type": "execute_result",
          "data": {
            "text/plain": [
              "       Country Code Calling Code  Year  CO2 emission (Tons)  Population(2022)  \\\n",
              "0  Afghanistan   AF           93  1750                  0.0        41128771.0   \n",
              "1  Afghanistan   AF           93  1751                  0.0        41128771.0   \n",
              "2  Afghanistan   AF           93  1752                  0.0        41128771.0   \n",
              "3  Afghanistan   AF           93  1753                  0.0        41128771.0   \n",
              "4  Afghanistan   AF           93  1754                  0.0        41128771.0   \n",
              "\n",
              "       Area % of World Density(km2)  \n",
              "0  652230.0      0.40%       63/km²  \n",
              "1  652230.0      0.40%       63/km²  \n",
              "2  652230.0      0.40%       63/km²  \n",
              "3  652230.0      0.40%       63/km²  \n",
              "4  652230.0      0.40%       63/km²  "
            ],
            "text/html": [
              "\n",
              "  <div id=\"df-5c94227d-145e-4f2d-beb9-66176d141ea2\">\n",
              "    <div class=\"colab-df-container\">\n",
              "      <div>\n",
              "<style scoped>\n",
              "    .dataframe tbody tr th:only-of-type {\n",
              "        vertical-align: middle;\n",
              "    }\n",
              "\n",
              "    .dataframe tbody tr th {\n",
              "        vertical-align: top;\n",
              "    }\n",
              "\n",
              "    .dataframe thead th {\n",
              "        text-align: right;\n",
              "    }\n",
              "</style>\n",
              "<table border=\"1\" class=\"dataframe\">\n",
              "  <thead>\n",
              "    <tr style=\"text-align: right;\">\n",
              "      <th></th>\n",
              "      <th>Country</th>\n",
              "      <th>Code</th>\n",
              "      <th>Calling Code</th>\n",
              "      <th>Year</th>\n",
              "      <th>CO2 emission (Tons)</th>\n",
              "      <th>Population(2022)</th>\n",
              "      <th>Area</th>\n",
              "      <th>% of World</th>\n",
              "      <th>Density(km2)</th>\n",
              "    </tr>\n",
              "  </thead>\n",
              "  <tbody>\n",
              "    <tr>\n",
              "      <th>0</th>\n",
              "      <td>Afghanistan</td>\n",
              "      <td>AF</td>\n",
              "      <td>93</td>\n",
              "      <td>1750</td>\n",
              "      <td>0.0</td>\n",
              "      <td>41128771.0</td>\n",
              "      <td>652230.0</td>\n",
              "      <td>0.40%</td>\n",
              "      <td>63/km²</td>\n",
              "    </tr>\n",
              "    <tr>\n",
              "      <th>1</th>\n",
              "      <td>Afghanistan</td>\n",
              "      <td>AF</td>\n",
              "      <td>93</td>\n",
              "      <td>1751</td>\n",
              "      <td>0.0</td>\n",
              "      <td>41128771.0</td>\n",
              "      <td>652230.0</td>\n",
              "      <td>0.40%</td>\n",
              "      <td>63/km²</td>\n",
              "    </tr>\n",
              "    <tr>\n",
              "      <th>2</th>\n",
              "      <td>Afghanistan</td>\n",
              "      <td>AF</td>\n",
              "      <td>93</td>\n",
              "      <td>1752</td>\n",
              "      <td>0.0</td>\n",
              "      <td>41128771.0</td>\n",
              "      <td>652230.0</td>\n",
              "      <td>0.40%</td>\n",
              "      <td>63/km²</td>\n",
              "    </tr>\n",
              "    <tr>\n",
              "      <th>3</th>\n",
              "      <td>Afghanistan</td>\n",
              "      <td>AF</td>\n",
              "      <td>93</td>\n",
              "      <td>1753</td>\n",
              "      <td>0.0</td>\n",
              "      <td>41128771.0</td>\n",
              "      <td>652230.0</td>\n",
              "      <td>0.40%</td>\n",
              "      <td>63/km²</td>\n",
              "    </tr>\n",
              "    <tr>\n",
              "      <th>4</th>\n",
              "      <td>Afghanistan</td>\n",
              "      <td>AF</td>\n",
              "      <td>93</td>\n",
              "      <td>1754</td>\n",
              "      <td>0.0</td>\n",
              "      <td>41128771.0</td>\n",
              "      <td>652230.0</td>\n",
              "      <td>0.40%</td>\n",
              "      <td>63/km²</td>\n",
              "    </tr>\n",
              "  </tbody>\n",
              "</table>\n",
              "</div>\n",
              "      <button class=\"colab-df-convert\" onclick=\"convertToInteractive('df-5c94227d-145e-4f2d-beb9-66176d141ea2')\"\n",
              "              title=\"Convert this dataframe to an interactive table.\"\n",
              "              style=\"display:none;\">\n",
              "        \n",
              "  <svg xmlns=\"http://www.w3.org/2000/svg\" height=\"24px\"viewBox=\"0 0 24 24\"\n",
              "       width=\"24px\">\n",
              "    <path d=\"M0 0h24v24H0V0z\" fill=\"none\"/>\n",
              "    <path d=\"M18.56 5.44l.94 2.06.94-2.06 2.06-.94-2.06-.94-.94-2.06-.94 2.06-2.06.94zm-11 1L8.5 8.5l.94-2.06 2.06-.94-2.06-.94L8.5 2.5l-.94 2.06-2.06.94zm10 10l.94 2.06.94-2.06 2.06-.94-2.06-.94-.94-2.06-.94 2.06-2.06.94z\"/><path d=\"M17.41 7.96l-1.37-1.37c-.4-.4-.92-.59-1.43-.59-.52 0-1.04.2-1.43.59L10.3 9.45l-7.72 7.72c-.78.78-.78 2.05 0 2.83L4 21.41c.39.39.9.59 1.41.59.51 0 1.02-.2 1.41-.59l7.78-7.78 2.81-2.81c.8-.78.8-2.07 0-2.86zM5.41 20L4 18.59l7.72-7.72 1.47 1.35L5.41 20z\"/>\n",
              "  </svg>\n",
              "      </button>\n",
              "      \n",
              "  <style>\n",
              "    .colab-df-container {\n",
              "      display:flex;\n",
              "      flex-wrap:wrap;\n",
              "      gap: 12px;\n",
              "    }\n",
              "\n",
              "    .colab-df-convert {\n",
              "      background-color: #E8F0FE;\n",
              "      border: none;\n",
              "      border-radius: 50%;\n",
              "      cursor: pointer;\n",
              "      display: none;\n",
              "      fill: #1967D2;\n",
              "      height: 32px;\n",
              "      padding: 0 0 0 0;\n",
              "      width: 32px;\n",
              "    }\n",
              "\n",
              "    .colab-df-convert:hover {\n",
              "      background-color: #E2EBFA;\n",
              "      box-shadow: 0px 1px 2px rgba(60, 64, 67, 0.3), 0px 1px 3px 1px rgba(60, 64, 67, 0.15);\n",
              "      fill: #174EA6;\n",
              "    }\n",
              "\n",
              "    [theme=dark] .colab-df-convert {\n",
              "      background-color: #3B4455;\n",
              "      fill: #D2E3FC;\n",
              "    }\n",
              "\n",
              "    [theme=dark] .colab-df-convert:hover {\n",
              "      background-color: #434B5C;\n",
              "      box-shadow: 0px 1px 3px 1px rgba(0, 0, 0, 0.15);\n",
              "      filter: drop-shadow(0px 1px 2px rgba(0, 0, 0, 0.3));\n",
              "      fill: #FFFFFF;\n",
              "    }\n",
              "  </style>\n",
              "\n",
              "      <script>\n",
              "        const buttonEl =\n",
              "          document.querySelector('#df-5c94227d-145e-4f2d-beb9-66176d141ea2 button.colab-df-convert');\n",
              "        buttonEl.style.display =\n",
              "          google.colab.kernel.accessAllowed ? 'block' : 'none';\n",
              "\n",
              "        async function convertToInteractive(key) {\n",
              "          const element = document.querySelector('#df-5c94227d-145e-4f2d-beb9-66176d141ea2');\n",
              "          const dataTable =\n",
              "            await google.colab.kernel.invokeFunction('convertToInteractive',\n",
              "                                                     [key], {});\n",
              "          if (!dataTable) return;\n",
              "\n",
              "          const docLinkHtml = 'Like what you see? Visit the ' +\n",
              "            '<a target=\"_blank\" href=https://colab.research.google.com/notebooks/data_table.ipynb>data table notebook</a>'\n",
              "            + ' to learn more about interactive tables.';\n",
              "          element.innerHTML = '';\n",
              "          dataTable['output_type'] = 'display_data';\n",
              "          await google.colab.output.renderOutput(dataTable, element);\n",
              "          const docLink = document.createElement('div');\n",
              "          docLink.innerHTML = docLinkHtml;\n",
              "          element.appendChild(docLink);\n",
              "        }\n",
              "      </script>\n",
              "    </div>\n",
              "  </div>\n",
              "  "
            ]
          },
          "metadata": {},
          "execution_count": 112
        }
      ]
    },
    {
      "cell_type": "code",
      "source": [
        "#Dropping data with CO2 emission equal 0\n",
        "df= df_co2[df_co2['CO2 emission (Tons)'] != 0]"
      ],
      "metadata": {
        "id": "wcWMr-s3U7i4"
      },
      "execution_count": 113,
      "outputs": []
    },
    {
      "cell_type": "code",
      "source": [
        "print(df)"
      ],
      "metadata": {
        "colab": {
          "base_uri": "https://localhost:8080/"
        },
        "id": "BFMO1kQhjD4K",
        "outputId": "123d18b7-66a5-4bcf-e5f8-b5617a1e6be1"
      },
      "execution_count": 114,
      "outputs": [
        {
          "output_type": "stream",
          "name": "stdout",
          "text": [
            "           Country Code Calling Code  Year  CO2 emission (Tons)  \\\n",
            "199    Afghanistan   AF           93  1949              14656.0   \n",
            "200    Afghanistan   AF           93  1950              98928.0   \n",
            "201    Afghanistan   AF           93  1951             190528.0   \n",
            "202    Afghanistan   AF           93  1952             282128.0   \n",
            "203    Afghanistan   AF           93  1953             388384.0   \n",
            "...            ...  ...          ...   ...                  ...   \n",
            "59615     Zimbabwe   ZW          263  2016          736467042.0   \n",
            "59616     Zimbabwe   ZW          263  2017          746048675.0   \n",
            "59617     Zimbabwe   ZW          263  2018          757903042.0   \n",
            "59618     Zimbabwe   ZW          263  2019          768852126.0   \n",
            "59619     Zimbabwe   ZW          263  2020          779383468.0   \n",
            "\n",
            "       Population(2022)      Area % of World Density(km2)  \n",
            "199          41128771.0  652230.0      0.40%       63/km²  \n",
            "200          41128771.0  652230.0      0.40%       63/km²  \n",
            "201          41128771.0  652230.0      0.40%       63/km²  \n",
            "202          41128771.0  652230.0      0.40%       63/km²  \n",
            "203          41128771.0  652230.0      0.40%       63/km²  \n",
            "...                 ...       ...        ...          ...  \n",
            "59615        16320537.0  390757.0      0.30%       42/km²  \n",
            "59616        16320537.0  390757.0      0.30%       42/km²  \n",
            "59617        16320537.0  390757.0      0.30%       42/km²  \n",
            "59618        16320537.0  390757.0      0.30%       42/km²  \n",
            "59619        16320537.0  390757.0      0.30%       42/km²  \n",
            "\n",
            "[21707 rows x 9 columns]\n"
          ]
        }
      ]
    },
    {
      "cell_type": "code",
      "source": [
        "#Preparing data by dropping duplicates to visualize in which years surveys start.\n",
        "df_single=df\n",
        "df_single=df_single.drop_duplicates(subset=['Country'])\n",
        "print(df_single)"
      ],
      "metadata": {
        "colab": {
          "base_uri": "https://localhost:8080/"
        },
        "id": "cRwzv37DaQlG",
        "outputId": "ab036d6d-9914-4d28-9a78-e873970f2a6f"
      },
      "execution_count": 115,
      "outputs": [
        {
          "output_type": "stream",
          "name": "stdout",
          "text": [
            "                 Country Code Calling Code  Year  CO2 emission (Tons)  \\\n",
            "199          Afghanistan   AF           93  1949              14656.0   \n",
            "454              Albania   AL          355  1933               7328.0   \n",
            "708              Algeria   DZ          213  1916               3664.0   \n",
            "1053             Andorra   AD          376  1990             406704.0   \n",
            "1284              Angola   AO          244  1950             186864.0   \n",
            "...                  ...  ...          ...   ...                  ...   \n",
            "58407            Vietnam   VN           84  1892             212512.0   \n",
            "58787  Wallis and Futuna   WF          681  2001              14656.0   \n",
            "59007              Yemen   YE          967  1950              58624.0   \n",
            "59278             Zambia   ZM          260  1950            2330187.0   \n",
            "59502           Zimbabwe   ZW          263  1903             113584.0   \n",
            "\n",
            "       Population(2022)       Area % of World Density(km2)  \n",
            "199          41128771.0   652230.0      0.40%       63/km²  \n",
            "454           2842321.0    28748.0      0.00%       99/km²  \n",
            "708          44903225.0  2381741.0      1.60%       19/km²  \n",
            "1053            79824.0      468.0      0.00%      171/km²  \n",
            "1284         35588987.0  1246700.0      0.80%       29/km²  \n",
            "...                 ...        ...        ...          ...  \n",
            "58407        98186856.0   331212.0      0.20%      296/km²  \n",
            "58787               NaN        NaN        NaN          NaN  \n",
            "59007        33696614.0   527968.0      0.40%       64/km²  \n",
            "59278        20017675.0   752612.0      0.50%       27/km²  \n",
            "59502        16320537.0   390757.0      0.30%       42/km²  \n",
            "\n",
            "[220 rows x 9 columns]\n"
          ]
        }
      ]
    },
    {
      "cell_type": "code",
      "source": [
        "#Filtering country with data surveys starting from 1959\n",
        "df_single = df_single[df_single['Year'] > 1959]\n",
        "print(df_single)"
      ],
      "metadata": {
        "colab": {
          "base_uri": "https://localhost:8080/"
        },
        "id": "7cH1p3EMYLYW",
        "outputId": "a508a923-0510-45a6-b7d4-8931419ed411"
      },
      "execution_count": 116,
      "outputs": [
        {
          "output_type": "stream",
          "name": "stdout",
          "text": [
            "                        Country Code Calling Code  Year  CO2 emission (Tons)  \\\n",
            "1053                    Andorra   AD          376  1990             406704.0   \n",
            "1595                   Anguilla   AI        1-264  1990              51296.0   \n",
            "1863                 Antarctica   AQ          672  1987               3664.0   \n",
            "6453                     Bhutan   BT          975  1970               3664.0   \n",
            "7268                   Botswana   BW          267  1972              21984.0   \n",
            "11060          Christmas Island   CX           61  1970              69616.0   \n",
            "12143              Cook Islands   CK          682  1969              10992.0   \n",
            "27582                  Kiribati   KI          686  1961               7328.0   \n",
            "27900                    Kosovo   XK          383  2008            7386624.0   \n",
            "29508                   Lesotho   LS          266  1990            1472928.0   \n",
            "30321             Liechtenstein   LI          423  1990             198968.0   \n",
            "32199                  Maldives   MV          960  1971               3664.0   \n",
            "33033          Marshall Islands   MH          692  1992              76944.0   \n",
            "34115                   Mayotte   YT          262  1990              66014.0   \n",
            "34659                Micronesia   FM          691  1992             102592.0   \n",
            "35713                Montserrat   MS        1-664  1962               3664.0   \n",
            "36826                   Namibia  NaN          264  1991            1055232.0   \n",
            "37070                     Nauru   NR          674  1964              29312.0   \n",
            "39244                      Niue   NU          683  1970               3664.0   \n",
            "40322                      Oman   OM          968  1964              10992.0   \n",
            "41161                 Palestine   PS          970  1990             861040.0   \n",
            "44933              Saint Helena  NaN          290  1968               3664.0   \n",
            "45217     Saint Kitts and Nevis   KN        1-869  1981              54960.0   \n",
            "47638                Seychelles   SC          248  1963               7328.0   \n",
            "53639                     Timor   TL          NaN  2002             161216.0   \n",
            "55524  Turks and Caicos Islands   TC        1-649  1990              29312.0   \n",
            "55795                    Tuvalu   TV          688  1990              10992.0   \n",
            "57935                   Vanuatu   VU          678  1962              40304.0   \n",
            "58787         Wallis and Futuna   WF          681  2001              14656.0   \n",
            "\n",
            "       Population(2022)      Area % of World Density(km2)  \n",
            "1053            79824.0     468.0      0.00%      171/km²  \n",
            "1595                NaN      91.0      0.00%          NaN  \n",
            "1863                NaN       NaN        NaN          NaN  \n",
            "6453           782455.0   38394.0      0.00%       20/km²  \n",
            "7268          2630296.0  582000.0      0.40%        5/km²  \n",
            "11060               NaN       NaN        NaN          NaN  \n",
            "12143               NaN     236.0      0.00%          NaN  \n",
            "27582          131232.0     811.0      0.00%      162/km²  \n",
            "27900         1802250.0       NaN        NaN      166/km²  \n",
            "29508         2305825.0   30355.0      0.00%       76/km²  \n",
            "30321           39327.0     160.0      0.00%      246/km²  \n",
            "32199          523787.0     300.0      0.00%    1,746/km²  \n",
            "33033           41569.0     181.0      0.00%      230/km²  \n",
            "34115          326101.0     374.0      0.00%      872/km²  \n",
            "34659          114164.0     702.0      0.00%      163/km²  \n",
            "35713               NaN     102.0      0.00%          NaN  \n",
            "36826         2567012.0  825615.0      0.60%        3/km²  \n",
            "37070           12668.0      21.0      0.00%      603/km²  \n",
            "39244               NaN     260.0      0.00%          NaN  \n",
            "40322         4576298.0  309500.0      0.20%       15/km²  \n",
            "41161         5250072.0       NaN        NaN      844/km²  \n",
            "44933               NaN     394.0      0.00%          NaN  \n",
            "45217           47657.0     261.0      0.00%      183/km²  \n",
            "47638          107118.0     452.0      0.00%      237/km²  \n",
            "53639               NaN       NaN        NaN          NaN  \n",
            "55524               NaN     948.0      0.00%          NaN  \n",
            "55795           11312.0      26.0      0.00%      435/km²  \n",
            "57935          326740.0   12189.0      0.00%       27/km²  \n",
            "58787               NaN       NaN        NaN          NaN  \n"
          ]
        }
      ]
    },
    {
      "cell_type": "code",
      "source": [
        "#Left outer join exclusion on country with data surveys starting from 1959\n",
        "df_final=pd.merge(df,df_single[['Country']],on=['Country'],how=\"outer\",indicator=True)\n",
        "df_final=df_final[df_final['_merge']=='left_only']\n",
        "# resetting the DataFrame index\n",
        "df_final = df_final.reset_index()"
      ],
      "metadata": {
        "id": "6f9dOV-uDkiS"
      },
      "execution_count": 117,
      "outputs": []
    },
    {
      "cell_type": "code",
      "source": [
        "df_new=df_final[df_final['Year'] >= 1959]\n",
        "\n",
        "df_new = df_new.reset_index()"
      ],
      "metadata": {
        "id": "67xKzbGZq58F"
      },
      "execution_count": 119,
      "outputs": []
    },
    {
      "cell_type": "code",
      "source": [
        "df_new"
      ],
      "metadata": {
        "colab": {
          "base_uri": "https://localhost:8080/",
          "height": 656
        },
        "id": "kVp6M_Gw28O_",
        "outputId": "a904cac0-c4a7-4948-f653-f5bbf0fb671e"
      },
      "execution_count": 192,
      "outputs": [
        {
          "output_type": "execute_result",
          "data": {
            "text/plain": [
              "           Country Code  Year  CO2 emission (Tons) Density(km2)\n",
              "0      Afghanistan   AF  1959            1839179.0       63/km²\n",
              "1      Afghanistan   AF  1960            2253064.0       63/km²\n",
              "2      Afghanistan   AF  1961            2743862.0       63/km²\n",
              "3      Afghanistan   AF  1962            3432456.0       63/km²\n",
              "4      Afghanistan   AF  1963            4139192.0       63/km²\n",
              "...            ...  ...   ...                  ...          ...\n",
              "11837     Zimbabwe   ZW  2016          736467042.0       42/km²\n",
              "11838     Zimbabwe   ZW  2017          746048675.0       42/km²\n",
              "11839     Zimbabwe   ZW  2018          757903042.0       42/km²\n",
              "11840     Zimbabwe   ZW  2019          768852126.0       42/km²\n",
              "11841     Zimbabwe   ZW  2020          779383468.0       42/km²\n",
              "\n",
              "[11842 rows x 5 columns]"
            ],
            "text/html": [
              "\n",
              "  <div id=\"df-c899fe8b-2f0e-4230-b88d-498b8701a580\">\n",
              "    <div class=\"colab-df-container\">\n",
              "      <div>\n",
              "<style scoped>\n",
              "    .dataframe tbody tr th:only-of-type {\n",
              "        vertical-align: middle;\n",
              "    }\n",
              "\n",
              "    .dataframe tbody tr th {\n",
              "        vertical-align: top;\n",
              "    }\n",
              "\n",
              "    .dataframe thead th {\n",
              "        text-align: right;\n",
              "    }\n",
              "</style>\n",
              "<table border=\"1\" class=\"dataframe\">\n",
              "  <thead>\n",
              "    <tr style=\"text-align: right;\">\n",
              "      <th></th>\n",
              "      <th>Country</th>\n",
              "      <th>Code</th>\n",
              "      <th>Year</th>\n",
              "      <th>CO2 emission (Tons)</th>\n",
              "      <th>Density(km2)</th>\n",
              "    </tr>\n",
              "  </thead>\n",
              "  <tbody>\n",
              "    <tr>\n",
              "      <th>0</th>\n",
              "      <td>Afghanistan</td>\n",
              "      <td>AF</td>\n",
              "      <td>1959</td>\n",
              "      <td>1839179.0</td>\n",
              "      <td>63/km²</td>\n",
              "    </tr>\n",
              "    <tr>\n",
              "      <th>1</th>\n",
              "      <td>Afghanistan</td>\n",
              "      <td>AF</td>\n",
              "      <td>1960</td>\n",
              "      <td>2253064.0</td>\n",
              "      <td>63/km²</td>\n",
              "    </tr>\n",
              "    <tr>\n",
              "      <th>2</th>\n",
              "      <td>Afghanistan</td>\n",
              "      <td>AF</td>\n",
              "      <td>1961</td>\n",
              "      <td>2743862.0</td>\n",
              "      <td>63/km²</td>\n",
              "    </tr>\n",
              "    <tr>\n",
              "      <th>3</th>\n",
              "      <td>Afghanistan</td>\n",
              "      <td>AF</td>\n",
              "      <td>1962</td>\n",
              "      <td>3432456.0</td>\n",
              "      <td>63/km²</td>\n",
              "    </tr>\n",
              "    <tr>\n",
              "      <th>4</th>\n",
              "      <td>Afghanistan</td>\n",
              "      <td>AF</td>\n",
              "      <td>1963</td>\n",
              "      <td>4139192.0</td>\n",
              "      <td>63/km²</td>\n",
              "    </tr>\n",
              "    <tr>\n",
              "      <th>...</th>\n",
              "      <td>...</td>\n",
              "      <td>...</td>\n",
              "      <td>...</td>\n",
              "      <td>...</td>\n",
              "      <td>...</td>\n",
              "    </tr>\n",
              "    <tr>\n",
              "      <th>11837</th>\n",
              "      <td>Zimbabwe</td>\n",
              "      <td>ZW</td>\n",
              "      <td>2016</td>\n",
              "      <td>736467042.0</td>\n",
              "      <td>42/km²</td>\n",
              "    </tr>\n",
              "    <tr>\n",
              "      <th>11838</th>\n",
              "      <td>Zimbabwe</td>\n",
              "      <td>ZW</td>\n",
              "      <td>2017</td>\n",
              "      <td>746048675.0</td>\n",
              "      <td>42/km²</td>\n",
              "    </tr>\n",
              "    <tr>\n",
              "      <th>11839</th>\n",
              "      <td>Zimbabwe</td>\n",
              "      <td>ZW</td>\n",
              "      <td>2018</td>\n",
              "      <td>757903042.0</td>\n",
              "      <td>42/km²</td>\n",
              "    </tr>\n",
              "    <tr>\n",
              "      <th>11840</th>\n",
              "      <td>Zimbabwe</td>\n",
              "      <td>ZW</td>\n",
              "      <td>2019</td>\n",
              "      <td>768852126.0</td>\n",
              "      <td>42/km²</td>\n",
              "    </tr>\n",
              "    <tr>\n",
              "      <th>11841</th>\n",
              "      <td>Zimbabwe</td>\n",
              "      <td>ZW</td>\n",
              "      <td>2020</td>\n",
              "      <td>779383468.0</td>\n",
              "      <td>42/km²</td>\n",
              "    </tr>\n",
              "  </tbody>\n",
              "</table>\n",
              "<p>11842 rows × 5 columns</p>\n",
              "</div>\n",
              "      <button class=\"colab-df-convert\" onclick=\"convertToInteractive('df-c899fe8b-2f0e-4230-b88d-498b8701a580')\"\n",
              "              title=\"Convert this dataframe to an interactive table.\"\n",
              "              style=\"display:none;\">\n",
              "        \n",
              "  <svg xmlns=\"http://www.w3.org/2000/svg\" height=\"24px\"viewBox=\"0 0 24 24\"\n",
              "       width=\"24px\">\n",
              "    <path d=\"M0 0h24v24H0V0z\" fill=\"none\"/>\n",
              "    <path d=\"M18.56 5.44l.94 2.06.94-2.06 2.06-.94-2.06-.94-.94-2.06-.94 2.06-2.06.94zm-11 1L8.5 8.5l.94-2.06 2.06-.94-2.06-.94L8.5 2.5l-.94 2.06-2.06.94zm10 10l.94 2.06.94-2.06 2.06-.94-2.06-.94-.94-2.06-.94 2.06-2.06.94z\"/><path d=\"M17.41 7.96l-1.37-1.37c-.4-.4-.92-.59-1.43-.59-.52 0-1.04.2-1.43.59L10.3 9.45l-7.72 7.72c-.78.78-.78 2.05 0 2.83L4 21.41c.39.39.9.59 1.41.59.51 0 1.02-.2 1.41-.59l7.78-7.78 2.81-2.81c.8-.78.8-2.07 0-2.86zM5.41 20L4 18.59l7.72-7.72 1.47 1.35L5.41 20z\"/>\n",
              "  </svg>\n",
              "      </button>\n",
              "      \n",
              "  <style>\n",
              "    .colab-df-container {\n",
              "      display:flex;\n",
              "      flex-wrap:wrap;\n",
              "      gap: 12px;\n",
              "    }\n",
              "\n",
              "    .colab-df-convert {\n",
              "      background-color: #E8F0FE;\n",
              "      border: none;\n",
              "      border-radius: 50%;\n",
              "      cursor: pointer;\n",
              "      display: none;\n",
              "      fill: #1967D2;\n",
              "      height: 32px;\n",
              "      padding: 0 0 0 0;\n",
              "      width: 32px;\n",
              "    }\n",
              "\n",
              "    .colab-df-convert:hover {\n",
              "      background-color: #E2EBFA;\n",
              "      box-shadow: 0px 1px 2px rgba(60, 64, 67, 0.3), 0px 1px 3px 1px rgba(60, 64, 67, 0.15);\n",
              "      fill: #174EA6;\n",
              "    }\n",
              "\n",
              "    [theme=dark] .colab-df-convert {\n",
              "      background-color: #3B4455;\n",
              "      fill: #D2E3FC;\n",
              "    }\n",
              "\n",
              "    [theme=dark] .colab-df-convert:hover {\n",
              "      background-color: #434B5C;\n",
              "      box-shadow: 0px 1px 3px 1px rgba(0, 0, 0, 0.15);\n",
              "      filter: drop-shadow(0px 1px 2px rgba(0, 0, 0, 0.3));\n",
              "      fill: #FFFFFF;\n",
              "    }\n",
              "  </style>\n",
              "\n",
              "      <script>\n",
              "        const buttonEl =\n",
              "          document.querySelector('#df-c899fe8b-2f0e-4230-b88d-498b8701a580 button.colab-df-convert');\n",
              "        buttonEl.style.display =\n",
              "          google.colab.kernel.accessAllowed ? 'block' : 'none';\n",
              "\n",
              "        async function convertToInteractive(key) {\n",
              "          const element = document.querySelector('#df-c899fe8b-2f0e-4230-b88d-498b8701a580');\n",
              "          const dataTable =\n",
              "            await google.colab.kernel.invokeFunction('convertToInteractive',\n",
              "                                                     [key], {});\n",
              "          if (!dataTable) return;\n",
              "\n",
              "          const docLinkHtml = 'Like what you see? Visit the ' +\n",
              "            '<a target=\"_blank\" href=https://colab.research.google.com/notebooks/data_table.ipynb>data table notebook</a>'\n",
              "            + ' to learn more about interactive tables.';\n",
              "          element.innerHTML = '';\n",
              "          dataTable['output_type'] = 'display_data';\n",
              "          await google.colab.output.renderOutput(dataTable, element);\n",
              "          const docLink = document.createElement('div');\n",
              "          docLink.innerHTML = docLinkHtml;\n",
              "          element.appendChild(docLink);\n",
              "        }\n",
              "      </script>\n",
              "    </div>\n",
              "  </div>\n",
              "  "
            ]
          },
          "metadata": {},
          "execution_count": 192
        }
      ]
    },
    {
      "cell_type": "code",
      "source": [
        "df_final.info(verbose=True)"
      ],
      "metadata": {
        "id": "mZ0SprxkrQlF"
      },
      "execution_count": null,
      "outputs": []
    },
    {
      "cell_type": "code",
      "source": [
        "df_new=df_new.drop(columns=['index','level_0','Calling Code','_merge','Area','Population(2022)','% of World'])"
      ],
      "metadata": {
        "id": "5g90HGmGE0Tq"
      },
      "execution_count": 123,
      "outputs": []
    },
    {
      "cell_type": "code",
      "source": [
        "df_new.info(verbose=True)"
      ],
      "metadata": {
        "id": "QA-BRvP8pmB4"
      },
      "execution_count": null,
      "outputs": []
    },
    {
      "cell_type": "code",
      "source": [
        "\n",
        "check_nan =df_new['Density(km2)'].isnull()\n",
        "print(check_nan)\n",
        "df_new.loc[df_new['Density(km2)'].isnull()]\n",
        "\n",
        "# printing the result"
      ],
      "metadata": {
        "id": "ZgC4lmNVwStp"
      },
      "execution_count": null,
      "outputs": []
    },
    {
      "cell_type": "code",
      "source": [
        "df_pop = pd.read_csv('gdrive/MyDrive/Data/population2.csv') #Population df\n",
        "df_pop"
      ],
      "metadata": {
        "id": "MYfcNflQTUSH"
      },
      "execution_count": null,
      "outputs": []
    },
    {
      "cell_type": "code",
      "source": [
        "df_pop = pd.read_csv('gdrive/MyDrive/Data/population2.csv') #Population df\n",
        "\n",
        "df_pop = df_pop.drop(columns=['field/0/_name','field/0/_key','field/1/_name','field/1/_key','field/1/__text','field/2/_name','field/3/_name'])\n",
        "df_pop = df_pop.rename(columns={\"field/0/__text\": \"Country\", \"field/2/__text\": \"Year\", 'field/3/__text': 'Population'})\n",
        "df_pop.info(verbose=True)\n",
        "\n",
        "check_nan =df_pop['Population'].isnull()\n",
        "print(check_nan)\n",
        "df_pop.loc[df_pop['Population'].isnull()]"
      ],
      "metadata": {
        "id": "KF7vi-3K2CtV"
      },
      "execution_count": null,
      "outputs": []
    },
    {
      "cell_type": "code",
      "source": [
        "print(len(df_pop))\n",
        "\n",
        "df_pc = df_pop.Country.isin(df_new.Country).astype(int)\n",
        "d=df_pc.array\n",
        "df_del=[]\n",
        "count=0\n",
        "for i in range(len(d)):\n",
        "  if d[i]==0:\n",
        "    df_del.append(df_pop['Country'].loc[i])\n",
        "print(df_del)\n",
        "df_delN = list(dict.fromkeys(df_del))\n",
        "print(df_delN)\n",
        "#for row in df_pc.rows:\n",
        "#    if df_pc==0:\n",
        "#      print(df_pc[row])"
      ],
      "metadata": {
        "colab": {
          "base_uri": "https://localhost:8080/"
        },
        "id": "mTf_iEG56x9l",
        "outputId": "d45da7b4-2f18-4b6e-8e1b-93d981839fbc"
      },
      "execution_count": 144,
      "outputs": [
        {
          "output_type": "stream",
          "name": "stdout",
          "text": [
            "16492\n",
            "['Africa Eastern and Southern', 'Africa Eastern and Southern', 'Africa Eastern and Southern', 'Africa Eastern and Southern', 'Africa Eastern and Southern', 'Africa Eastern and Southern', 'Africa Eastern and Southern', 'Africa Eastern and Southern', 'Africa Eastern and Southern', 'Africa Eastern and Southern', 'Africa Eastern and Southern', 'Africa Eastern and Southern', 'Africa Eastern and Southern', 'Africa Eastern and Southern', 'Africa Eastern and Southern', 'Africa Eastern and Southern', 'Africa Eastern and Southern', 'Africa Eastern and Southern', 'Africa Eastern and Southern', 'Africa Eastern and Southern', 'Africa Eastern and Southern', 'Africa Eastern and Southern', 'Africa Eastern and Southern', 'Africa Eastern and Southern', 'Africa Eastern and Southern', 'Africa Eastern and Southern', 'Africa Eastern and Southern', 'Africa Eastern and Southern', 'Africa Eastern and Southern', 'Africa Eastern and Southern', 'Africa Eastern and Southern', 'Africa Eastern and Southern', 'Africa Eastern and Southern', 'Africa Eastern and Southern', 'Africa Eastern and Southern', 'Africa Eastern and Southern', 'Africa Eastern and Southern', 'Africa Eastern and Southern', 'Africa Eastern and Southern', 'Africa Eastern and Southern', 'Africa Eastern and Southern', 'Africa Eastern and Southern', 'Africa Eastern and Southern', 'Africa Eastern and Southern', 'Africa Eastern and Southern', 'Africa Eastern and Southern', 'Africa Eastern and Southern', 'Africa Eastern and Southern', 'Africa Eastern and Southern', 'Africa Eastern and Southern', 'Africa Eastern and Southern', 'Africa Eastern and Southern', 'Africa Eastern and Southern', 'Africa Eastern and Southern', 'Africa Eastern and Southern', 'Africa Eastern and Southern', 'Africa Eastern and Southern', 'Africa Eastern and Southern', 'Africa Eastern and Southern', 'Africa Eastern and Southern', 'Africa Eastern and Southern', 'Africa Eastern and Southern', 'Africa Western and Central', 'Africa Western and Central', 'Africa Western and Central', 'Africa Western and Central', 'Africa Western and Central', 'Africa Western and Central', 'Africa Western and Central', 'Africa Western and Central', 'Africa Western and Central', 'Africa Western and Central', 'Africa Western and Central', 'Africa Western and Central', 'Africa Western and Central', 'Africa Western and Central', 'Africa Western and Central', 'Africa Western and Central', 'Africa Western and Central', 'Africa Western and Central', 'Africa Western and Central', 'Africa Western and Central', 'Africa Western and Central', 'Africa Western and Central', 'Africa Western and Central', 'Africa Western and Central', 'Africa Western and Central', 'Africa Western and Central', 'Africa Western and Central', 'Africa Western and Central', 'Africa Western and Central', 'Africa Western and Central', 'Africa Western and Central', 'Africa Western and Central', 'Africa Western and Central', 'Africa Western and Central', 'Africa Western and Central', 'Africa Western and Central', 'Africa Western and Central', 'Africa Western and Central', 'Africa Western and Central', 'Africa Western and Central', 'Africa Western and Central', 'Africa Western and Central', 'Africa Western and Central', 'Africa Western and Central', 'Africa Western and Central', 'Africa Western and Central', 'Africa Western and Central', 'Africa Western and Central', 'Africa Western and Central', 'Africa Western and Central', 'Africa Western and Central', 'Africa Western and Central', 'Africa Western and Central', 'Africa Western and Central', 'Africa Western and Central', 'Africa Western and Central', 'Africa Western and Central', 'Africa Western and Central', 'Africa Western and Central', 'Africa Western and Central', 'Africa Western and Central', 'Africa Western and Central', 'Andorra', 'Andorra', 'Andorra', 'Andorra', 'Andorra', 'Andorra', 'Andorra', 'Andorra', 'Andorra', 'Andorra', 'Andorra', 'Andorra', 'Andorra', 'Andorra', 'Andorra', 'Andorra', 'Andorra', 'Andorra', 'Andorra', 'Andorra', 'Andorra', 'Andorra', 'Andorra', 'Andorra', 'Andorra', 'Andorra', 'Andorra', 'Andorra', 'Andorra', 'Andorra', 'Andorra', 'Andorra', 'Andorra', 'Andorra', 'Andorra', 'Andorra', 'Andorra', 'Andorra', 'Andorra', 'Andorra', 'Andorra', 'Andorra', 'Andorra', 'Andorra', 'Andorra', 'Andorra', 'Andorra', 'Andorra', 'Andorra', 'Andorra', 'Andorra', 'Andorra', 'Andorra', 'Andorra', 'Andorra', 'Andorra', 'Andorra', 'Andorra', 'Andorra', 'Andorra', 'Andorra', 'Andorra', 'Arab World', 'Arab World', 'Arab World', 'Arab World', 'Arab World', 'Arab World', 'Arab World', 'Arab World', 'Arab World', 'Arab World', 'Arab World', 'Arab World', 'Arab World', 'Arab World', 'Arab World', 'Arab World', 'Arab World', 'Arab World', 'Arab World', 'Arab World', 'Arab World', 'Arab World', 'Arab World', 'Arab World', 'Arab World', 'Arab World', 'Arab World', 'Arab World', 'Arab World', 'Arab World', 'Arab World', 'Arab World', 'Arab World', 'Arab World', 'Arab World', 'Arab World', 'Arab World', 'Arab World', 'Arab World', 'Arab World', 'Arab World', 'Arab World', 'Arab World', 'Arab World', 'Arab World', 'Arab World', 'Arab World', 'Arab World', 'Arab World', 'Arab World', 'Arab World', 'Arab World', 'Arab World', 'Arab World', 'Arab World', 'Arab World', 'Arab World', 'Arab World', 'Arab World', 'Arab World', 'Arab World', 'Arab World', 'American Samoa', 'American Samoa', 'American Samoa', 'American Samoa', 'American Samoa', 'American Samoa', 'American Samoa', 'American Samoa', 'American Samoa', 'American Samoa', 'American Samoa', 'American Samoa', 'American Samoa', 'American Samoa', 'American Samoa', 'American Samoa', 'American Samoa', 'American Samoa', 'American Samoa', 'American Samoa', 'American Samoa', 'American Samoa', 'American Samoa', 'American Samoa', 'American Samoa', 'American Samoa', 'American Samoa', 'American Samoa', 'American Samoa', 'American Samoa', 'American Samoa', 'American Samoa', 'American Samoa', 'American Samoa', 'American Samoa', 'American Samoa', 'American Samoa', 'American Samoa', 'American Samoa', 'American Samoa', 'American Samoa', 'American Samoa', 'American Samoa', 'American Samoa', 'American Samoa', 'American Samoa', 'American Samoa', 'American Samoa', 'American Samoa', 'American Samoa', 'American Samoa', 'American Samoa', 'American Samoa', 'American Samoa', 'American Samoa', 'American Samoa', 'American Samoa', 'American Samoa', 'American Samoa', 'American Samoa', 'American Samoa', 'American Samoa', 'Bahamas, The', 'Bahamas, The', 'Bahamas, The', 'Bahamas, The', 'Bahamas, The', 'Bahamas, The', 'Bahamas, The', 'Bahamas, The', 'Bahamas, The', 'Bahamas, The', 'Bahamas, The', 'Bahamas, The', 'Bahamas, The', 'Bahamas, The', 'Bahamas, The', 'Bahamas, The', 'Bahamas, The', 'Bahamas, The', 'Bahamas, The', 'Bahamas, The', 'Bahamas, The', 'Bahamas, The', 'Bahamas, The', 'Bahamas, The', 'Bahamas, The', 'Bahamas, The', 'Bahamas, The', 'Bahamas, The', 'Bahamas, The', 'Bahamas, The', 'Bahamas, The', 'Bahamas, The', 'Bahamas, The', 'Bahamas, The', 'Bahamas, The', 'Bahamas, The', 'Bahamas, The', 'Bahamas, The', 'Bahamas, The', 'Bahamas, The', 'Bahamas, The', 'Bahamas, The', 'Bahamas, The', 'Bahamas, The', 'Bahamas, The', 'Bahamas, The', 'Bahamas, The', 'Bahamas, The', 'Bahamas, The', 'Bahamas, The', 'Bahamas, The', 'Bahamas, The', 'Bahamas, The', 'Bahamas, The', 'Bahamas, The', 'Bahamas, The', 'Bahamas, The', 'Bahamas, The', 'Bahamas, The', 'Bahamas, The', 'Bahamas, The', 'Bahamas, The', 'Brunei Darussalam', 'Brunei Darussalam', 'Brunei Darussalam', 'Brunei Darussalam', 'Brunei Darussalam', 'Brunei Darussalam', 'Brunei Darussalam', 'Brunei Darussalam', 'Brunei Darussalam', 'Brunei Darussalam', 'Brunei Darussalam', 'Brunei Darussalam', 'Brunei Darussalam', 'Brunei Darussalam', 'Brunei Darussalam', 'Brunei Darussalam', 'Brunei Darussalam', 'Brunei Darussalam', 'Brunei Darussalam', 'Brunei Darussalam', 'Brunei Darussalam', 'Brunei Darussalam', 'Brunei Darussalam', 'Brunei Darussalam', 'Brunei Darussalam', 'Brunei Darussalam', 'Brunei Darussalam', 'Brunei Darussalam', 'Brunei Darussalam', 'Brunei Darussalam', 'Brunei Darussalam', 'Brunei Darussalam', 'Brunei Darussalam', 'Brunei Darussalam', 'Brunei Darussalam', 'Brunei Darussalam', 'Brunei Darussalam', 'Brunei Darussalam', 'Brunei Darussalam', 'Brunei Darussalam', 'Brunei Darussalam', 'Brunei Darussalam', 'Brunei Darussalam', 'Brunei Darussalam', 'Brunei Darussalam', 'Brunei Darussalam', 'Brunei Darussalam', 'Brunei Darussalam', 'Brunei Darussalam', 'Brunei Darussalam', 'Brunei Darussalam', 'Brunei Darussalam', 'Brunei Darussalam', 'Brunei Darussalam', 'Brunei Darussalam', 'Brunei Darussalam', 'Brunei Darussalam', 'Brunei Darussalam', 'Brunei Darussalam', 'Brunei Darussalam', 'Brunei Darussalam', 'Brunei Darussalam', 'Bhutan', 'Bhutan', 'Bhutan', 'Bhutan', 'Bhutan', 'Bhutan', 'Bhutan', 'Bhutan', 'Bhutan', 'Bhutan', 'Bhutan', 'Bhutan', 'Bhutan', 'Bhutan', 'Bhutan', 'Bhutan', 'Bhutan', 'Bhutan', 'Bhutan', 'Bhutan', 'Bhutan', 'Bhutan', 'Bhutan', 'Bhutan', 'Bhutan', 'Bhutan', 'Bhutan', 'Bhutan', 'Bhutan', 'Bhutan', 'Bhutan', 'Bhutan', 'Bhutan', 'Bhutan', 'Bhutan', 'Bhutan', 'Bhutan', 'Bhutan', 'Bhutan', 'Bhutan', 'Bhutan', 'Bhutan', 'Bhutan', 'Bhutan', 'Bhutan', 'Bhutan', 'Bhutan', 'Bhutan', 'Bhutan', 'Bhutan', 'Bhutan', 'Bhutan', 'Bhutan', 'Bhutan', 'Bhutan', 'Bhutan', 'Bhutan', 'Bhutan', 'Bhutan', 'Bhutan', 'Bhutan', 'Bhutan', 'Botswana', 'Botswana', 'Botswana', 'Botswana', 'Botswana', 'Botswana', 'Botswana', 'Botswana', 'Botswana', 'Botswana', 'Botswana', 'Botswana', 'Botswana', 'Botswana', 'Botswana', 'Botswana', 'Botswana', 'Botswana', 'Botswana', 'Botswana', 'Botswana', 'Botswana', 'Botswana', 'Botswana', 'Botswana', 'Botswana', 'Botswana', 'Botswana', 'Botswana', 'Botswana', 'Botswana', 'Botswana', 'Botswana', 'Botswana', 'Botswana', 'Botswana', 'Botswana', 'Botswana', 'Botswana', 'Botswana', 'Botswana', 'Botswana', 'Botswana', 'Botswana', 'Botswana', 'Botswana', 'Botswana', 'Botswana', 'Botswana', 'Botswana', 'Botswana', 'Botswana', 'Botswana', 'Botswana', 'Botswana', 'Botswana', 'Botswana', 'Botswana', 'Botswana', 'Botswana', 'Botswana', 'Botswana', 'Central Europe and the Baltics', 'Central Europe and the Baltics', 'Central Europe and the Baltics', 'Central Europe and the Baltics', 'Central Europe and the Baltics', 'Central Europe and the Baltics', 'Central Europe and the Baltics', 'Central Europe and the Baltics', 'Central Europe and the Baltics', 'Central Europe and the Baltics', 'Central Europe and the Baltics', 'Central Europe and the Baltics', 'Central Europe and the Baltics', 'Central Europe and the Baltics', 'Central Europe and the Baltics', 'Central Europe and the Baltics', 'Central Europe and the Baltics', 'Central Europe and the Baltics', 'Central Europe and the Baltics', 'Central Europe and the Baltics', 'Central Europe and the Baltics', 'Central Europe and the Baltics', 'Central Europe and the Baltics', 'Central Europe and the Baltics', 'Central Europe and the Baltics', 'Central Europe and the Baltics', 'Central Europe and the Baltics', 'Central Europe and the Baltics', 'Central Europe and the Baltics', 'Central Europe and the Baltics', 'Central Europe and the Baltics', 'Central Europe and the Baltics', 'Central Europe and the Baltics', 'Central Europe and the Baltics', 'Central Europe and the Baltics', 'Central Europe and the Baltics', 'Central Europe and the Baltics', 'Central Europe and the Baltics', 'Central Europe and the Baltics', 'Central Europe and the Baltics', 'Central Europe and the Baltics', 'Central Europe and the Baltics', 'Central Europe and the Baltics', 'Central Europe and the Baltics', 'Central Europe and the Baltics', 'Central Europe and the Baltics', 'Central Europe and the Baltics', 'Central Europe and the Baltics', 'Central Europe and the Baltics', 'Central Europe and the Baltics', 'Central Europe and the Baltics', 'Central Europe and the Baltics', 'Central Europe and the Baltics', 'Central Europe and the Baltics', 'Central Europe and the Baltics', 'Central Europe and the Baltics', 'Central Europe and the Baltics', 'Central Europe and the Baltics', 'Central Europe and the Baltics', 'Central Europe and the Baltics', 'Central Europe and the Baltics', 'Central Europe and the Baltics', 'Channel Islands', 'Channel Islands', 'Channel Islands', 'Channel Islands', 'Channel Islands', 'Channel Islands', 'Channel Islands', 'Channel Islands', 'Channel Islands', 'Channel Islands', 'Channel Islands', 'Channel Islands', 'Channel Islands', 'Channel Islands', 'Channel Islands', 'Channel Islands', 'Channel Islands', 'Channel Islands', 'Channel Islands', 'Channel Islands', 'Channel Islands', 'Channel Islands', 'Channel Islands', 'Channel Islands', 'Channel Islands', 'Channel Islands', 'Channel Islands', 'Channel Islands', 'Channel Islands', 'Channel Islands', 'Channel Islands', 'Channel Islands', 'Channel Islands', 'Channel Islands', 'Channel Islands', 'Channel Islands', 'Channel Islands', 'Channel Islands', 'Channel Islands', 'Channel Islands', 'Channel Islands', 'Channel Islands', 'Channel Islands', 'Channel Islands', 'Channel Islands', 'Channel Islands', 'Channel Islands', 'Channel Islands', 'Channel Islands', 'Channel Islands', 'Channel Islands', 'Channel Islands', 'Channel Islands', 'Channel Islands', 'Channel Islands', 'Channel Islands', 'Channel Islands', 'Channel Islands', 'Channel Islands', 'Channel Islands', 'Channel Islands', 'Channel Islands', 'Congo, Dem. Rep.', 'Congo, Dem. Rep.', 'Congo, Dem. Rep.', 'Congo, Dem. Rep.', 'Congo, Dem. Rep.', 'Congo, Dem. Rep.', 'Congo, Dem. Rep.', 'Congo, Dem. Rep.', 'Congo, Dem. Rep.', 'Congo, Dem. Rep.', 'Congo, Dem. Rep.', 'Congo, Dem. Rep.', 'Congo, Dem. Rep.', 'Congo, Dem. Rep.', 'Congo, Dem. Rep.', 'Congo, Dem. Rep.', 'Congo, Dem. Rep.', 'Congo, Dem. Rep.', 'Congo, Dem. Rep.', 'Congo, Dem. Rep.', 'Congo, Dem. Rep.', 'Congo, Dem. Rep.', 'Congo, Dem. Rep.', 'Congo, Dem. Rep.', 'Congo, Dem. Rep.', 'Congo, Dem. Rep.', 'Congo, Dem. Rep.', 'Congo, Dem. Rep.', 'Congo, Dem. Rep.', 'Congo, Dem. Rep.', 'Congo, Dem. Rep.', 'Congo, Dem. Rep.', 'Congo, Dem. Rep.', 'Congo, Dem. Rep.', 'Congo, Dem. Rep.', 'Congo, Dem. Rep.', 'Congo, Dem. Rep.', 'Congo, Dem. Rep.', 'Congo, Dem. Rep.', 'Congo, Dem. Rep.', 'Congo, Dem. Rep.', 'Congo, Dem. Rep.', 'Congo, Dem. Rep.', 'Congo, Dem. Rep.', 'Congo, Dem. Rep.', 'Congo, Dem. Rep.', 'Congo, Dem. Rep.', 'Congo, Dem. Rep.', 'Congo, Dem. Rep.', 'Congo, Dem. Rep.', 'Congo, Dem. Rep.', 'Congo, Dem. Rep.', 'Congo, Dem. Rep.', 'Congo, Dem. Rep.', 'Congo, Dem. Rep.', 'Congo, Dem. Rep.', 'Congo, Dem. Rep.', 'Congo, Dem. Rep.', 'Congo, Dem. Rep.', 'Congo, Dem. Rep.', 'Congo, Dem. Rep.', 'Congo, Dem. Rep.', 'Congo, Rep.', 'Congo, Rep.', 'Congo, Rep.', 'Congo, Rep.', 'Congo, Rep.', 'Congo, Rep.', 'Congo, Rep.', 'Congo, Rep.', 'Congo, Rep.', 'Congo, Rep.', 'Congo, Rep.', 'Congo, Rep.', 'Congo, Rep.', 'Congo, Rep.', 'Congo, Rep.', 'Congo, Rep.', 'Congo, Rep.', 'Congo, Rep.', 'Congo, Rep.', 'Congo, Rep.', 'Congo, Rep.', 'Congo, Rep.', 'Congo, Rep.', 'Congo, Rep.', 'Congo, Rep.', 'Congo, Rep.', 'Congo, Rep.', 'Congo, Rep.', 'Congo, Rep.', 'Congo, Rep.', 'Congo, Rep.', 'Congo, Rep.', 'Congo, Rep.', 'Congo, Rep.', 'Congo, Rep.', 'Congo, Rep.', 'Congo, Rep.', 'Congo, Rep.', 'Congo, Rep.', 'Congo, Rep.', 'Congo, Rep.', 'Congo, Rep.', 'Congo, Rep.', 'Congo, Rep.', 'Congo, Rep.', 'Congo, Rep.', 'Congo, Rep.', 'Congo, Rep.', 'Congo, Rep.', 'Congo, Rep.', 'Congo, Rep.', 'Congo, Rep.', 'Congo, Rep.', 'Congo, Rep.', 'Congo, Rep.', 'Congo, Rep.', 'Congo, Rep.', 'Congo, Rep.', 'Congo, Rep.', 'Congo, Rep.', 'Congo, Rep.', 'Congo, Rep.', 'Cabo Verde', 'Cabo Verde', 'Cabo Verde', 'Cabo Verde', 'Cabo Verde', 'Cabo Verde', 'Cabo Verde', 'Cabo Verde', 'Cabo Verde', 'Cabo Verde', 'Cabo Verde', 'Cabo Verde', 'Cabo Verde', 'Cabo Verde', 'Cabo Verde', 'Cabo Verde', 'Cabo Verde', 'Cabo Verde', 'Cabo Verde', 'Cabo Verde', 'Cabo Verde', 'Cabo Verde', 'Cabo Verde', 'Cabo Verde', 'Cabo Verde', 'Cabo Verde', 'Cabo Verde', 'Cabo Verde', 'Cabo Verde', 'Cabo Verde', 'Cabo Verde', 'Cabo Verde', 'Cabo Verde', 'Cabo Verde', 'Cabo Verde', 'Cabo Verde', 'Cabo Verde', 'Cabo Verde', 'Cabo Verde', 'Cabo Verde', 'Cabo Verde', 'Cabo Verde', 'Cabo Verde', 'Cabo Verde', 'Cabo Verde', 'Cabo Verde', 'Cabo Verde', 'Cabo Verde', 'Cabo Verde', 'Cabo Verde', 'Cabo Verde', 'Cabo Verde', 'Cabo Verde', 'Cabo Verde', 'Cabo Verde', 'Cabo Verde', 'Cabo Verde', 'Cabo Verde', 'Cabo Verde', 'Cabo Verde', 'Cabo Verde', 'Cabo Verde', 'Caribbean small states', 'Caribbean small states', 'Caribbean small states', 'Caribbean small states', 'Caribbean small states', 'Caribbean small states', 'Caribbean small states', 'Caribbean small states', 'Caribbean small states', 'Caribbean small states', 'Caribbean small states', 'Caribbean small states', 'Caribbean small states', 'Caribbean small states', 'Caribbean small states', 'Caribbean small states', 'Caribbean small states', 'Caribbean small states', 'Caribbean small states', 'Caribbean small states', 'Caribbean small states', 'Caribbean small states', 'Caribbean small states', 'Caribbean small states', 'Caribbean small states', 'Caribbean small states', 'Caribbean small states', 'Caribbean small states', 'Caribbean small states', 'Caribbean small states', 'Caribbean small states', 'Caribbean small states', 'Caribbean small states', 'Caribbean small states', 'Caribbean small states', 'Caribbean small states', 'Caribbean small states', 'Caribbean small states', 'Caribbean small states', 'Caribbean small states', 'Caribbean small states', 'Caribbean small states', 'Caribbean small states', 'Caribbean small states', 'Caribbean small states', 'Caribbean small states', 'Caribbean small states', 'Caribbean small states', 'Caribbean small states', 'Caribbean small states', 'Caribbean small states', 'Caribbean small states', 'Caribbean small states', 'Caribbean small states', 'Caribbean small states', 'Caribbean small states', 'Caribbean small states', 'Caribbean small states', 'Caribbean small states', 'Caribbean small states', 'Caribbean small states', 'Caribbean small states', 'Cayman Islands', 'Cayman Islands', 'Cayman Islands', 'Cayman Islands', 'Cayman Islands', 'Cayman Islands', 'Cayman Islands', 'Cayman Islands', 'Cayman Islands', 'Cayman Islands', 'Cayman Islands', 'Cayman Islands', 'Cayman Islands', 'Cayman Islands', 'Cayman Islands', 'Cayman Islands', 'Cayman Islands', 'Cayman Islands', 'Cayman Islands', 'Cayman Islands', 'Cayman Islands', 'Cayman Islands', 'Cayman Islands', 'Cayman Islands', 'Cayman Islands', 'Cayman Islands', 'Cayman Islands', 'Cayman Islands', 'Cayman Islands', 'Cayman Islands', 'Cayman Islands', 'Cayman Islands', 'Cayman Islands', 'Cayman Islands', 'Cayman Islands', 'Cayman Islands', 'Cayman Islands', 'Cayman Islands', 'Cayman Islands', 'Cayman Islands', 'Cayman Islands', 'Cayman Islands', 'Cayman Islands', 'Cayman Islands', 'Cayman Islands', 'Cayman Islands', 'Cayman Islands', 'Cayman Islands', 'Cayman Islands', 'Cayman Islands', 'Cayman Islands', 'Cayman Islands', 'Cayman Islands', 'Cayman Islands', 'Cayman Islands', 'Cayman Islands', 'Cayman Islands', 'Cayman Islands', 'Cayman Islands', 'Cayman Islands', 'Cayman Islands', 'Cayman Islands', 'East Asia & Pacific (excluding high income)', 'East Asia & Pacific (excluding high income)', 'East Asia & Pacific (excluding high income)', 'East Asia & Pacific (excluding high income)', 'East Asia & Pacific (excluding high income)', 'East Asia & Pacific (excluding high income)', 'East Asia & Pacific (excluding high income)', 'East Asia & Pacific (excluding high income)', 'East Asia & Pacific (excluding high income)', 'East Asia & Pacific (excluding high income)', 'East Asia & Pacific (excluding high income)', 'East Asia & Pacific (excluding high income)', 'East Asia & Pacific (excluding high income)', 'East Asia & Pacific (excluding high income)', 'East Asia & Pacific (excluding high income)', 'East Asia & Pacific (excluding high income)', 'East Asia & Pacific (excluding high income)', 'East Asia & Pacific (excluding high income)', 'East Asia & Pacific (excluding high income)', 'East Asia & Pacific (excluding high income)', 'East Asia & Pacific (excluding high income)', 'East Asia & Pacific (excluding high income)', 'East Asia & Pacific (excluding high income)', 'East Asia & Pacific (excluding high income)', 'East Asia & Pacific (excluding high income)', 'East Asia & Pacific (excluding high income)', 'East Asia & Pacific (excluding high income)', 'East Asia & Pacific (excluding high income)', 'East Asia & Pacific (excluding high income)', 'East Asia & Pacific (excluding high income)', 'East Asia & Pacific (excluding high income)', 'East Asia & Pacific (excluding high income)', 'East Asia & Pacific (excluding high income)', 'East Asia & Pacific (excluding high income)', 'East Asia & Pacific (excluding high income)', 'East Asia & Pacific (excluding high income)', 'East Asia & Pacific (excluding high income)', 'East Asia & Pacific (excluding high income)', 'East Asia & Pacific (excluding high income)', 'East Asia & Pacific (excluding high income)', 'East Asia & Pacific (excluding high income)', 'East Asia & Pacific (excluding high income)', 'East Asia & Pacific (excluding high income)', 'East Asia & Pacific (excluding high income)', 'East Asia & Pacific (excluding high income)', 'East Asia & Pacific (excluding high income)', 'East Asia & Pacific (excluding high income)', 'East Asia & Pacific (excluding high income)', 'East Asia & Pacific (excluding high income)', 'East Asia & Pacific (excluding high income)', 'East Asia & Pacific (excluding high income)', 'East Asia & Pacific (excluding high income)', 'East Asia & Pacific (excluding high income)', 'East Asia & Pacific (excluding high income)', 'East Asia & Pacific (excluding high income)', 'East Asia & Pacific (excluding high income)', 'East Asia & Pacific (excluding high income)', 'East Asia & Pacific (excluding high income)', 'East Asia & Pacific (excluding high income)', 'East Asia & Pacific (excluding high income)', 'East Asia & Pacific (excluding high income)', 'East Asia & Pacific (excluding high income)', 'Early-demographic dividend', 'Early-demographic dividend', 'Early-demographic dividend', 'Early-demographic dividend', 'Early-demographic dividend', 'Early-demographic dividend', 'Early-demographic dividend', 'Early-demographic dividend', 'Early-demographic dividend', 'Early-demographic dividend', 'Early-demographic dividend', 'Early-demographic dividend', 'Early-demographic dividend', 'Early-demographic dividend', 'Early-demographic dividend', 'Early-demographic dividend', 'Early-demographic dividend', 'Early-demographic dividend', 'Early-demographic dividend', 'Early-demographic dividend', 'Early-demographic dividend', 'Early-demographic dividend', 'Early-demographic dividend', 'Early-demographic dividend', 'Early-demographic dividend', 'Early-demographic dividend', 'Early-demographic dividend', 'Early-demographic dividend', 'Early-demographic dividend', 'Early-demographic dividend', 'Early-demographic dividend', 'Early-demographic dividend', 'Early-demographic dividend', 'Early-demographic dividend', 'Early-demographic dividend', 'Early-demographic dividend', 'Early-demographic dividend', 'Early-demographic dividend', 'Early-demographic dividend', 'Early-demographic dividend', 'Early-demographic dividend', 'Early-demographic dividend', 'Early-demographic dividend', 'Early-demographic dividend', 'Early-demographic dividend', 'Early-demographic dividend', 'Early-demographic dividend', 'Early-demographic dividend', 'Early-demographic dividend', 'Early-demographic dividend', 'Early-demographic dividend', 'Early-demographic dividend', 'Early-demographic dividend', 'Early-demographic dividend', 'Early-demographic dividend', 'Early-demographic dividend', 'Early-demographic dividend', 'Early-demographic dividend', 'Early-demographic dividend', 'Early-demographic dividend', 'Early-demographic dividend', 'Early-demographic dividend', 'East Asia & Pacific', 'East Asia & Pacific', 'East Asia & Pacific', 'East Asia & Pacific', 'East Asia & Pacific', 'East Asia & Pacific', 'East Asia & Pacific', 'East Asia & Pacific', 'East Asia & Pacific', 'East Asia & Pacific', 'East Asia & Pacific', 'East Asia & Pacific', 'East Asia & Pacific', 'East Asia & Pacific', 'East Asia & Pacific', 'East Asia & Pacific', 'East Asia & Pacific', 'East Asia & Pacific', 'East Asia & Pacific', 'East Asia & Pacific', 'East Asia & Pacific', 'East Asia & Pacific', 'East Asia & Pacific', 'East Asia & Pacific', 'East Asia & Pacific', 'East Asia & Pacific', 'East Asia & Pacific', 'East Asia & Pacific', 'East Asia & Pacific', 'East Asia & Pacific', 'East Asia & Pacific', 'East Asia & Pacific', 'East Asia & Pacific', 'East Asia & Pacific', 'East Asia & Pacific', 'East Asia & Pacific', 'East Asia & Pacific', 'East Asia & Pacific', 'East Asia & Pacific', 'East Asia & Pacific', 'East Asia & Pacific', 'East Asia & Pacific', 'East Asia & Pacific', 'East Asia & Pacific', 'East Asia & Pacific', 'East Asia & Pacific', 'East Asia & Pacific', 'East Asia & Pacific', 'East Asia & Pacific', 'East Asia & Pacific', 'East Asia & Pacific', 'East Asia & Pacific', 'East Asia & Pacific', 'East Asia & Pacific', 'East Asia & Pacific', 'East Asia & Pacific', 'East Asia & Pacific', 'East Asia & Pacific', 'East Asia & Pacific', 'East Asia & Pacific', 'East Asia & Pacific', 'East Asia & Pacific', 'Europe & Central Asia (excluding high income)', 'Europe & Central Asia (excluding high income)', 'Europe & Central Asia (excluding high income)', 'Europe & Central Asia (excluding high income)', 'Europe & Central Asia (excluding high income)', 'Europe & Central Asia (excluding high income)', 'Europe & Central Asia (excluding high income)', 'Europe & Central Asia (excluding high income)', 'Europe & Central Asia (excluding high income)', 'Europe & Central Asia (excluding high income)', 'Europe & Central Asia (excluding high income)', 'Europe & Central Asia (excluding high income)', 'Europe & Central Asia (excluding high income)', 'Europe & Central Asia (excluding high income)', 'Europe & Central Asia (excluding high income)', 'Europe & Central Asia (excluding high income)', 'Europe & Central Asia (excluding high income)', 'Europe & Central Asia (excluding high income)', 'Europe & Central Asia (excluding high income)', 'Europe & Central Asia (excluding high income)', 'Europe & Central Asia (excluding high income)', 'Europe & Central Asia (excluding high income)', 'Europe & Central Asia (excluding high income)', 'Europe & Central Asia (excluding high income)', 'Europe & Central Asia (excluding high income)', 'Europe & Central Asia (excluding high income)', 'Europe & Central Asia (excluding high income)', 'Europe & Central Asia (excluding high income)', 'Europe & Central Asia (excluding high income)', 'Europe & Central Asia (excluding high income)', 'Europe & Central Asia (excluding high income)', 'Europe & Central Asia (excluding high income)', 'Europe & Central Asia (excluding high income)', 'Europe & Central Asia (excluding high income)', 'Europe & Central Asia (excluding high income)', 'Europe & Central Asia (excluding high income)', 'Europe & Central Asia (excluding high income)', 'Europe & Central Asia (excluding high income)', 'Europe & Central Asia (excluding high income)', 'Europe & Central Asia (excluding high income)', 'Europe & Central Asia (excluding high income)', 'Europe & Central Asia (excluding high income)', 'Europe & Central Asia (excluding high income)', 'Europe & Central Asia (excluding high income)', 'Europe & Central Asia (excluding high income)', 'Europe & Central Asia (excluding high income)', 'Europe & Central Asia (excluding high income)', 'Europe & Central Asia (excluding high income)', 'Europe & Central Asia (excluding high income)', 'Europe & Central Asia (excluding high income)', 'Europe & Central Asia (excluding high income)', 'Europe & Central Asia (excluding high income)', 'Europe & Central Asia (excluding high income)', 'Europe & Central Asia (excluding high income)', 'Europe & Central Asia (excluding high income)', 'Europe & Central Asia (excluding high income)', 'Europe & Central Asia (excluding high income)', 'Europe & Central Asia (excluding high income)', 'Europe & Central Asia (excluding high income)', 'Europe & Central Asia (excluding high income)', 'Europe & Central Asia (excluding high income)', 'Europe & Central Asia (excluding high income)', 'Europe & Central Asia', 'Europe & Central Asia', 'Europe & Central Asia', 'Europe & Central Asia', 'Europe & Central Asia', 'Europe & Central Asia', 'Europe & Central Asia', 'Europe & Central Asia', 'Europe & Central Asia', 'Europe & Central Asia', 'Europe & Central Asia', 'Europe & Central Asia', 'Europe & Central Asia', 'Europe & Central Asia', 'Europe & Central Asia', 'Europe & Central Asia', 'Europe & Central Asia', 'Europe & Central Asia', 'Europe & Central Asia', 'Europe & Central Asia', 'Europe & Central Asia', 'Europe & Central Asia', 'Europe & Central Asia', 'Europe & Central Asia', 'Europe & Central Asia', 'Europe & Central Asia', 'Europe & Central Asia', 'Europe & Central Asia', 'Europe & Central Asia', 'Europe & Central Asia', 'Europe & Central Asia', 'Europe & Central Asia', 'Europe & Central Asia', 'Europe & Central Asia', 'Europe & Central Asia', 'Europe & Central Asia', 'Europe & Central Asia', 'Europe & Central Asia', 'Europe & Central Asia', 'Europe & Central Asia', 'Europe & Central Asia', 'Europe & Central Asia', 'Europe & Central Asia', 'Europe & Central Asia', 'Europe & Central Asia', 'Europe & Central Asia', 'Europe & Central Asia', 'Europe & Central Asia', 'Europe & Central Asia', 'Europe & Central Asia', 'Europe & Central Asia', 'Europe & Central Asia', 'Europe & Central Asia', 'Europe & Central Asia', 'Europe & Central Asia', 'Europe & Central Asia', 'Europe & Central Asia', 'Europe & Central Asia', 'Europe & Central Asia', 'Europe & Central Asia', 'Europe & Central Asia', 'Europe & Central Asia', 'Egypt, Arab Rep.', 'Egypt, Arab Rep.', 'Egypt, Arab Rep.', 'Egypt, Arab Rep.', 'Egypt, Arab Rep.', 'Egypt, Arab Rep.', 'Egypt, Arab Rep.', 'Egypt, Arab Rep.', 'Egypt, Arab Rep.', 'Egypt, Arab Rep.', 'Egypt, Arab Rep.', 'Egypt, Arab Rep.', 'Egypt, Arab Rep.', 'Egypt, Arab Rep.', 'Egypt, Arab Rep.', 'Egypt, Arab Rep.', 'Egypt, Arab Rep.', 'Egypt, Arab Rep.', 'Egypt, Arab Rep.', 'Egypt, Arab Rep.', 'Egypt, Arab Rep.', 'Egypt, Arab Rep.', 'Egypt, Arab Rep.', 'Egypt, Arab Rep.', 'Egypt, Arab Rep.', 'Egypt, Arab Rep.', 'Egypt, Arab Rep.', 'Egypt, Arab Rep.', 'Egypt, Arab Rep.', 'Egypt, Arab Rep.', 'Egypt, Arab Rep.', 'Egypt, Arab Rep.', 'Egypt, Arab Rep.', 'Egypt, Arab Rep.', 'Egypt, Arab Rep.', 'Egypt, Arab Rep.', 'Egypt, Arab Rep.', 'Egypt, Arab Rep.', 'Egypt, Arab Rep.', 'Egypt, Arab Rep.', 'Egypt, Arab Rep.', 'Egypt, Arab Rep.', 'Egypt, Arab Rep.', 'Egypt, Arab Rep.', 'Egypt, Arab Rep.', 'Egypt, Arab Rep.', 'Egypt, Arab Rep.', 'Egypt, Arab Rep.', 'Egypt, Arab Rep.', 'Egypt, Arab Rep.', 'Egypt, Arab Rep.', 'Egypt, Arab Rep.', 'Egypt, Arab Rep.', 'Egypt, Arab Rep.', 'Egypt, Arab Rep.', 'Egypt, Arab Rep.', 'Egypt, Arab Rep.', 'Egypt, Arab Rep.', 'Egypt, Arab Rep.', 'Egypt, Arab Rep.', 'Egypt, Arab Rep.', 'Egypt, Arab Rep.', 'Euro area', 'Euro area', 'Euro area', 'Euro area', 'Euro area', 'Euro area', 'Euro area', 'Euro area', 'Euro area', 'Euro area', 'Euro area', 'Euro area', 'Euro area', 'Euro area', 'Euro area', 'Euro area', 'Euro area', 'Euro area', 'Euro area', 'Euro area', 'Euro area', 'Euro area', 'Euro area', 'Euro area', 'Euro area', 'Euro area', 'Euro area', 'Euro area', 'Euro area', 'Euro area', 'Euro area', 'Euro area', 'Euro area', 'Euro area', 'Euro area', 'Euro area', 'Euro area', 'Euro area', 'Euro area', 'Euro area', 'Euro area', 'Euro area', 'Euro area', 'Euro area', 'Euro area', 'Euro area', 'Euro area', 'Euro area', 'Euro area', 'Euro area', 'Euro area', 'Euro area', 'Euro area', 'Euro area', 'Euro area', 'Euro area', 'Euro area', 'Euro area', 'Euro area', 'Euro area', 'Euro area', 'Euro area', 'European Union', 'European Union', 'European Union', 'European Union', 'European Union', 'European Union', 'European Union', 'European Union', 'European Union', 'European Union', 'European Union', 'European Union', 'European Union', 'European Union', 'European Union', 'European Union', 'European Union', 'European Union', 'European Union', 'European Union', 'European Union', 'European Union', 'European Union', 'European Union', 'European Union', 'European Union', 'European Union', 'European Union', 'European Union', 'European Union', 'European Union', 'European Union', 'European Union', 'European Union', 'European Union', 'European Union', 'European Union', 'European Union', 'European Union', 'European Union', 'European Union', 'European Union', 'European Union', 'European Union', 'European Union', 'European Union', 'European Union', 'European Union', 'European Union', 'European Union', 'European Union', 'European Union', 'European Union', 'European Union', 'European Union', 'European Union', 'European Union', 'European Union', 'European Union', 'European Union', 'European Union', 'European Union', 'Fragile and conflict affected situations', 'Fragile and conflict affected situations', 'Fragile and conflict affected situations', 'Fragile and conflict affected situations', 'Fragile and conflict affected situations', 'Fragile and conflict affected situations', 'Fragile and conflict affected situations', 'Fragile and conflict affected situations', 'Fragile and conflict affected situations', 'Fragile and conflict affected situations', 'Fragile and conflict affected situations', 'Fragile and conflict affected situations', 'Fragile and conflict affected situations', 'Fragile and conflict affected situations', 'Fragile and conflict affected situations', 'Fragile and conflict affected situations', 'Fragile and conflict affected situations', 'Fragile and conflict affected situations', 'Fragile and conflict affected situations', 'Fragile and conflict affected situations', 'Fragile and conflict affected situations', 'Fragile and conflict affected situations', 'Fragile and conflict affected situations', 'Fragile and conflict affected situations', 'Fragile and conflict affected situations', 'Fragile and conflict affected situations', 'Fragile and conflict affected situations', 'Fragile and conflict affected situations', 'Fragile and conflict affected situations', 'Fragile and conflict affected situations', 'Fragile and conflict affected situations', 'Fragile and conflict affected situations', 'Fragile and conflict affected situations', 'Fragile and conflict affected situations', 'Fragile and conflict affected situations', 'Fragile and conflict affected situations', 'Fragile and conflict affected situations', 'Fragile and conflict affected situations', 'Fragile and conflict affected situations', 'Fragile and conflict affected situations', 'Fragile and conflict affected situations', 'Fragile and conflict affected situations', 'Fragile and conflict affected situations', 'Fragile and conflict affected situations', 'Fragile and conflict affected situations', 'Fragile and conflict affected situations', 'Fragile and conflict affected situations', 'Fragile and conflict affected situations', 'Fragile and conflict affected situations', 'Fragile and conflict affected situations', 'Fragile and conflict affected situations', 'Fragile and conflict affected situations', 'Fragile and conflict affected situations', 'Fragile and conflict affected situations', 'Fragile and conflict affected situations', 'Fragile and conflict affected situations', 'Fragile and conflict affected situations', 'Fragile and conflict affected situations', 'Fragile and conflict affected situations', 'Fragile and conflict affected situations', 'Fragile and conflict affected situations', 'Fragile and conflict affected situations', 'Faroe Islands', 'Faroe Islands', 'Faroe Islands', 'Faroe Islands', 'Faroe Islands', 'Faroe Islands', 'Faroe Islands', 'Faroe Islands', 'Faroe Islands', 'Faroe Islands', 'Faroe Islands', 'Faroe Islands', 'Faroe Islands', 'Faroe Islands', 'Faroe Islands', 'Faroe Islands', 'Faroe Islands', 'Faroe Islands', 'Faroe Islands', 'Faroe Islands', 'Faroe Islands', 'Faroe Islands', 'Faroe Islands', 'Faroe Islands', 'Faroe Islands', 'Faroe Islands', 'Faroe Islands', 'Faroe Islands', 'Faroe Islands', 'Faroe Islands', 'Faroe Islands', 'Faroe Islands', 'Faroe Islands', 'Faroe Islands', 'Faroe Islands', 'Faroe Islands', 'Faroe Islands', 'Faroe Islands', 'Faroe Islands', 'Faroe Islands', 'Faroe Islands', 'Faroe Islands', 'Faroe Islands', 'Faroe Islands', 'Faroe Islands', 'Faroe Islands', 'Faroe Islands', 'Faroe Islands', 'Faroe Islands', 'Faroe Islands', 'Faroe Islands', 'Faroe Islands', 'Faroe Islands', 'Faroe Islands', 'Faroe Islands', 'Faroe Islands', 'Faroe Islands', 'Faroe Islands', 'Faroe Islands', 'Faroe Islands', 'Faroe Islands', 'Faroe Islands', 'Micronesia, Fed. Sts.', 'Micronesia, Fed. Sts.', 'Micronesia, Fed. Sts.', 'Micronesia, Fed. Sts.', 'Micronesia, Fed. Sts.', 'Micronesia, Fed. Sts.', 'Micronesia, Fed. Sts.', 'Micronesia, Fed. Sts.', 'Micronesia, Fed. Sts.', 'Micronesia, Fed. Sts.', 'Micronesia, Fed. Sts.', 'Micronesia, Fed. Sts.', 'Micronesia, Fed. Sts.', 'Micronesia, Fed. Sts.', 'Micronesia, Fed. Sts.', 'Micronesia, Fed. Sts.', 'Micronesia, Fed. Sts.', 'Micronesia, Fed. Sts.', 'Micronesia, Fed. Sts.', 'Micronesia, Fed. Sts.', 'Micronesia, Fed. Sts.', 'Micronesia, Fed. Sts.', 'Micronesia, Fed. Sts.', 'Micronesia, Fed. Sts.', 'Micronesia, Fed. Sts.', 'Micronesia, Fed. Sts.', 'Micronesia, Fed. Sts.', 'Micronesia, Fed. Sts.', 'Micronesia, Fed. Sts.', 'Micronesia, Fed. Sts.', 'Micronesia, Fed. Sts.', 'Micronesia, Fed. Sts.', 'Micronesia, Fed. Sts.', 'Micronesia, Fed. Sts.', 'Micronesia, Fed. Sts.', 'Micronesia, Fed. Sts.', 'Micronesia, Fed. Sts.', 'Micronesia, Fed. Sts.', 'Micronesia, Fed. Sts.', 'Micronesia, Fed. Sts.', 'Micronesia, Fed. Sts.', 'Micronesia, Fed. Sts.', 'Micronesia, Fed. Sts.', 'Micronesia, Fed. Sts.', 'Micronesia, Fed. Sts.', 'Micronesia, Fed. Sts.', 'Micronesia, Fed. Sts.', 'Micronesia, Fed. Sts.', 'Micronesia, Fed. Sts.', 'Micronesia, Fed. Sts.', 'Micronesia, Fed. Sts.', 'Micronesia, Fed. Sts.', 'Micronesia, Fed. Sts.', 'Micronesia, Fed. Sts.', 'Micronesia, Fed. Sts.', 'Micronesia, Fed. Sts.', 'Micronesia, Fed. Sts.', 'Micronesia, Fed. Sts.', 'Micronesia, Fed. Sts.', 'Micronesia, Fed. Sts.', 'Micronesia, Fed. Sts.', 'Micronesia, Fed. Sts.', 'Gibraltar', 'Gibraltar', 'Gibraltar', 'Gibraltar', 'Gibraltar', 'Gibraltar', 'Gibraltar', 'Gibraltar', 'Gibraltar', 'Gibraltar', 'Gibraltar', 'Gibraltar', 'Gibraltar', 'Gibraltar', 'Gibraltar', 'Gibraltar', 'Gibraltar', 'Gibraltar', 'Gibraltar', 'Gibraltar', 'Gibraltar', 'Gibraltar', 'Gibraltar', 'Gibraltar', 'Gibraltar', 'Gibraltar', 'Gibraltar', 'Gibraltar', 'Gibraltar', 'Gibraltar', 'Gibraltar', 'Gibraltar', 'Gibraltar', 'Gibraltar', 'Gibraltar', 'Gibraltar', 'Gibraltar', 'Gibraltar', 'Gibraltar', 'Gibraltar', 'Gibraltar', 'Gibraltar', 'Gibraltar', 'Gibraltar', 'Gibraltar', 'Gibraltar', 'Gibraltar', 'Gibraltar', 'Gibraltar', 'Gibraltar', 'Gibraltar', 'Gibraltar', 'Gibraltar', 'Gibraltar', 'Gibraltar', 'Gibraltar', 'Gibraltar', 'Gibraltar', 'Gibraltar', 'Gibraltar', 'Gibraltar', 'Gibraltar', 'Gambia, The', 'Gambia, The', 'Gambia, The', 'Gambia, The', 'Gambia, The', 'Gambia, The', 'Gambia, The', 'Gambia, The', 'Gambia, The', 'Gambia, The', 'Gambia, The', 'Gambia, The', 'Gambia, The', 'Gambia, The', 'Gambia, The', 'Gambia, The', 'Gambia, The', 'Gambia, The', 'Gambia, The', 'Gambia, The', 'Gambia, The', 'Gambia, The', 'Gambia, The', 'Gambia, The', 'Gambia, The', 'Gambia, The', 'Gambia, The', 'Gambia, The', 'Gambia, The', 'Gambia, The', 'Gambia, The', 'Gambia, The', 'Gambia, The', 'Gambia, The', 'Gambia, The', 'Gambia, The', 'Gambia, The', 'Gambia, The', 'Gambia, The', 'Gambia, The', 'Gambia, The', 'Gambia, The', 'Gambia, The', 'Gambia, The', 'Gambia, The', 'Gambia, The', 'Gambia, The', 'Gambia, The', 'Gambia, The', 'Gambia, The', 'Gambia, The', 'Gambia, The', 'Gambia, The', 'Gambia, The', 'Gambia, The', 'Gambia, The', 'Gambia, The', 'Gambia, The', 'Gambia, The', 'Gambia, The', 'Gambia, The', 'Gambia, The', 'Guam', 'Guam', 'Guam', 'Guam', 'Guam', 'Guam', 'Guam', 'Guam', 'Guam', 'Guam', 'Guam', 'Guam', 'Guam', 'Guam', 'Guam', 'Guam', 'Guam', 'Guam', 'Guam', 'Guam', 'Guam', 'Guam', 'Guam', 'Guam', 'Guam', 'Guam', 'Guam', 'Guam', 'Guam', 'Guam', 'Guam', 'Guam', 'Guam', 'Guam', 'Guam', 'Guam', 'Guam', 'Guam', 'Guam', 'Guam', 'Guam', 'Guam', 'Guam', 'Guam', 'Guam', 'Guam', 'Guam', 'Guam', 'Guam', 'Guam', 'Guam', 'Guam', 'Guam', 'Guam', 'Guam', 'Guam', 'Guam', 'Guam', 'Guam', 'Guam', 'Guam', 'Guam', 'High income', 'High income', 'High income', 'High income', 'High income', 'High income', 'High income', 'High income', 'High income', 'High income', 'High income', 'High income', 'High income', 'High income', 'High income', 'High income', 'High income', 'High income', 'High income', 'High income', 'High income', 'High income', 'High income', 'High income', 'High income', 'High income', 'High income', 'High income', 'High income', 'High income', 'High income', 'High income', 'High income', 'High income', 'High income', 'High income', 'High income', 'High income', 'High income', 'High income', 'High income', 'High income', 'High income', 'High income', 'High income', 'High income', 'High income', 'High income', 'High income', 'High income', 'High income', 'High income', 'High income', 'High income', 'High income', 'High income', 'High income', 'High income', 'High income', 'High income', 'High income', 'High income', 'Hong Kong SAR, China', 'Hong Kong SAR, China', 'Hong Kong SAR, China', 'Hong Kong SAR, China', 'Hong Kong SAR, China', 'Hong Kong SAR, China', 'Hong Kong SAR, China', 'Hong Kong SAR, China', 'Hong Kong SAR, China', 'Hong Kong SAR, China', 'Hong Kong SAR, China', 'Hong Kong SAR, China', 'Hong Kong SAR, China', 'Hong Kong SAR, China', 'Hong Kong SAR, China', 'Hong Kong SAR, China', 'Hong Kong SAR, China', 'Hong Kong SAR, China', 'Hong Kong SAR, China', 'Hong Kong SAR, China', 'Hong Kong SAR, China', 'Hong Kong SAR, China', 'Hong Kong SAR, China', 'Hong Kong SAR, China', 'Hong Kong SAR, China', 'Hong Kong SAR, China', 'Hong Kong SAR, China', 'Hong Kong SAR, China', 'Hong Kong SAR, China', 'Hong Kong SAR, China', 'Hong Kong SAR, China', 'Hong Kong SAR, China', 'Hong Kong SAR, China', 'Hong Kong SAR, China', 'Hong Kong SAR, China', 'Hong Kong SAR, China', 'Hong Kong SAR, China', 'Hong Kong SAR, China', 'Hong Kong SAR, China', 'Hong Kong SAR, China', 'Hong Kong SAR, China', 'Hong Kong SAR, China', 'Hong Kong SAR, China', 'Hong Kong SAR, China', 'Hong Kong SAR, China', 'Hong Kong SAR, China', 'Hong Kong SAR, China', 'Hong Kong SAR, China', 'Hong Kong SAR, China', 'Hong Kong SAR, China', 'Hong Kong SAR, China', 'Hong Kong SAR, China', 'Hong Kong SAR, China', 'Hong Kong SAR, China', 'Hong Kong SAR, China', 'Hong Kong SAR, China', 'Hong Kong SAR, China', 'Hong Kong SAR, China', 'Hong Kong SAR, China', 'Hong Kong SAR, China', 'Hong Kong SAR, China', 'Hong Kong SAR, China', 'Heavily indebted poor countries (HIPC)', 'Heavily indebted poor countries (HIPC)', 'Heavily indebted poor countries (HIPC)', 'Heavily indebted poor countries (HIPC)', 'Heavily indebted poor countries (HIPC)', 'Heavily indebted poor countries (HIPC)', 'Heavily indebted poor countries (HIPC)', 'Heavily indebted poor countries (HIPC)', 'Heavily indebted poor countries (HIPC)', 'Heavily indebted poor countries (HIPC)', 'Heavily indebted poor countries (HIPC)', 'Heavily indebted poor countries (HIPC)', 'Heavily indebted poor countries (HIPC)', 'Heavily indebted poor countries (HIPC)', 'Heavily indebted poor countries (HIPC)', 'Heavily indebted poor countries (HIPC)', 'Heavily indebted poor countries (HIPC)', 'Heavily indebted poor countries (HIPC)', 'Heavily indebted poor countries (HIPC)', 'Heavily indebted poor countries (HIPC)', 'Heavily indebted poor countries (HIPC)', 'Heavily indebted poor countries (HIPC)', 'Heavily indebted poor countries (HIPC)', 'Heavily indebted poor countries (HIPC)', 'Heavily indebted poor countries (HIPC)', 'Heavily indebted poor countries (HIPC)', 'Heavily indebted poor countries (HIPC)', 'Heavily indebted poor countries (HIPC)', 'Heavily indebted poor countries (HIPC)', 'Heavily indebted poor countries (HIPC)', 'Heavily indebted poor countries (HIPC)', 'Heavily indebted poor countries (HIPC)', 'Heavily indebted poor countries (HIPC)', 'Heavily indebted poor countries (HIPC)', 'Heavily indebted poor countries (HIPC)', 'Heavily indebted poor countries (HIPC)', 'Heavily indebted poor countries (HIPC)', 'Heavily indebted poor countries (HIPC)', 'Heavily indebted poor countries (HIPC)', 'Heavily indebted poor countries (HIPC)', 'Heavily indebted poor countries (HIPC)', 'Heavily indebted poor countries (HIPC)', 'Heavily indebted poor countries (HIPC)', 'Heavily indebted poor countries (HIPC)', 'Heavily indebted poor countries (HIPC)', 'Heavily indebted poor countries (HIPC)', 'Heavily indebted poor countries (HIPC)', 'Heavily indebted poor countries (HIPC)', 'Heavily indebted poor countries (HIPC)', 'Heavily indebted poor countries (HIPC)', 'Heavily indebted poor countries (HIPC)', 'Heavily indebted poor countries (HIPC)', 'Heavily indebted poor countries (HIPC)', 'Heavily indebted poor countries (HIPC)', 'Heavily indebted poor countries (HIPC)', 'Heavily indebted poor countries (HIPC)', 'Heavily indebted poor countries (HIPC)', 'Heavily indebted poor countries (HIPC)', 'Heavily indebted poor countries (HIPC)', 'Heavily indebted poor countries (HIPC)', 'Heavily indebted poor countries (HIPC)', 'Heavily indebted poor countries (HIPC)', 'IBRD only', 'IBRD only', 'IBRD only', 'IBRD only', 'IBRD only', 'IBRD only', 'IBRD only', 'IBRD only', 'IBRD only', 'IBRD only', 'IBRD only', 'IBRD only', 'IBRD only', 'IBRD only', 'IBRD only', 'IBRD only', 'IBRD only', 'IBRD only', 'IBRD only', 'IBRD only', 'IBRD only', 'IBRD only', 'IBRD only', 'IBRD only', 'IBRD only', 'IBRD only', 'IBRD only', 'IBRD only', 'IBRD only', 'IBRD only', 'IBRD only', 'IBRD only', 'IBRD only', 'IBRD only', 'IBRD only', 'IBRD only', 'IBRD only', 'IBRD only', 'IBRD only', 'IBRD only', 'IBRD only', 'IBRD only', 'IBRD only', 'IBRD only', 'IBRD only', 'IBRD only', 'IBRD only', 'IBRD only', 'IBRD only', 'IBRD only', 'IBRD only', 'IBRD only', 'IBRD only', 'IBRD only', 'IBRD only', 'IBRD only', 'IBRD only', 'IBRD only', 'IBRD only', 'IBRD only', 'IBRD only', 'IBRD only', 'IDA & IBRD total', 'IDA & IBRD total', 'IDA & IBRD total', 'IDA & IBRD total', 'IDA & IBRD total', 'IDA & IBRD total', 'IDA & IBRD total', 'IDA & IBRD total', 'IDA & IBRD total', 'IDA & IBRD total', 'IDA & IBRD total', 'IDA & IBRD total', 'IDA & IBRD total', 'IDA & IBRD total', 'IDA & IBRD total', 'IDA & IBRD total', 'IDA & IBRD total', 'IDA & IBRD total', 'IDA & IBRD total', 'IDA & IBRD total', 'IDA & IBRD total', 'IDA & IBRD total', 'IDA & IBRD total', 'IDA & IBRD total', 'IDA & IBRD total', 'IDA & IBRD total', 'IDA & IBRD total', 'IDA & IBRD total', 'IDA & IBRD total', 'IDA & IBRD total', 'IDA & IBRD total', 'IDA & IBRD total', 'IDA & IBRD total', 'IDA & IBRD total', 'IDA & IBRD total', 'IDA & IBRD total', 'IDA & IBRD total', 'IDA & IBRD total', 'IDA & IBRD total', 'IDA & IBRD total', 'IDA & IBRD total', 'IDA & IBRD total', 'IDA & IBRD total', 'IDA & IBRD total', 'IDA & IBRD total', 'IDA & IBRD total', 'IDA & IBRD total', 'IDA & IBRD total', 'IDA & IBRD total', 'IDA & IBRD total', 'IDA & IBRD total', 'IDA & IBRD total', 'IDA & IBRD total', 'IDA & IBRD total', 'IDA & IBRD total', 'IDA & IBRD total', 'IDA & IBRD total', 'IDA & IBRD total', 'IDA & IBRD total', 'IDA & IBRD total', 'IDA & IBRD total', 'IDA & IBRD total', 'IDA total', 'IDA total', 'IDA total', 'IDA total', 'IDA total', 'IDA total', 'IDA total', 'IDA total', 'IDA total', 'IDA total', 'IDA total', 'IDA total', 'IDA total', 'IDA total', 'IDA total', 'IDA total', 'IDA total', 'IDA total', 'IDA total', 'IDA total', 'IDA total', 'IDA total', 'IDA total', 'IDA total', 'IDA total', 'IDA total', 'IDA total', 'IDA total', 'IDA total', 'IDA total', 'IDA total', 'IDA total', 'IDA total', 'IDA total', 'IDA total', 'IDA total', 'IDA total', 'IDA total', 'IDA total', 'IDA total', 'IDA total', 'IDA total', 'IDA total', 'IDA total', 'IDA total', 'IDA total', 'IDA total', 'IDA total', 'IDA total', 'IDA total', 'IDA total', 'IDA total', 'IDA total', 'IDA total', 'IDA total', 'IDA total', 'IDA total', 'IDA total', 'IDA total', 'IDA total', 'IDA total', 'IDA total', 'IDA blend', 'IDA blend', 'IDA blend', 'IDA blend', 'IDA blend', 'IDA blend', 'IDA blend', 'IDA blend', 'IDA blend', 'IDA blend', 'IDA blend', 'IDA blend', 'IDA blend', 'IDA blend', 'IDA blend', 'IDA blend', 'IDA blend', 'IDA blend', 'IDA blend', 'IDA blend', 'IDA blend', 'IDA blend', 'IDA blend', 'IDA blend', 'IDA blend', 'IDA blend', 'IDA blend', 'IDA blend', 'IDA blend', 'IDA blend', 'IDA blend', 'IDA blend', 'IDA blend', 'IDA blend', 'IDA blend', 'IDA blend', 'IDA blend', 'IDA blend', 'IDA blend', 'IDA blend', 'IDA blend', 'IDA blend', 'IDA blend', 'IDA blend', 'IDA blend', 'IDA blend', 'IDA blend', 'IDA blend', 'IDA blend', 'IDA blend', 'IDA blend', 'IDA blend', 'IDA blend', 'IDA blend', 'IDA blend', 'IDA blend', 'IDA blend', 'IDA blend', 'IDA blend', 'IDA blend', 'IDA blend', 'IDA blend', 'IDA only', 'IDA only', 'IDA only', 'IDA only', 'IDA only', 'IDA only', 'IDA only', 'IDA only', 'IDA only', 'IDA only', 'IDA only', 'IDA only', 'IDA only', 'IDA only', 'IDA only', 'IDA only', 'IDA only', 'IDA only', 'IDA only', 'IDA only', 'IDA only', 'IDA only', 'IDA only', 'IDA only', 'IDA only', 'IDA only', 'IDA only', 'IDA only', 'IDA only', 'IDA only', 'IDA only', 'IDA only', 'IDA only', 'IDA only', 'IDA only', 'IDA only', 'IDA only', 'IDA only', 'IDA only', 'IDA only', 'IDA only', 'IDA only', 'IDA only', 'IDA only', 'IDA only', 'IDA only', 'IDA only', 'IDA only', 'IDA only', 'IDA only', 'IDA only', 'IDA only', 'IDA only', 'IDA only', 'IDA only', 'IDA only', 'IDA only', 'IDA only', 'IDA only', 'IDA only', 'IDA only', 'IDA only', 'Isle of Man', 'Isle of Man', 'Isle of Man', 'Isle of Man', 'Isle of Man', 'Isle of Man', 'Isle of Man', 'Isle of Man', 'Isle of Man', 'Isle of Man', 'Isle of Man', 'Isle of Man', 'Isle of Man', 'Isle of Man', 'Isle of Man', 'Isle of Man', 'Isle of Man', 'Isle of Man', 'Isle of Man', 'Isle of Man', 'Isle of Man', 'Isle of Man', 'Isle of Man', 'Isle of Man', 'Isle of Man', 'Isle of Man', 'Isle of Man', 'Isle of Man', 'Isle of Man', 'Isle of Man', 'Isle of Man', 'Isle of Man', 'Isle of Man', 'Isle of Man', 'Isle of Man', 'Isle of Man', 'Isle of Man', 'Isle of Man', 'Isle of Man', 'Isle of Man', 'Isle of Man', 'Isle of Man', 'Isle of Man', 'Isle of Man', 'Isle of Man', 'Isle of Man', 'Isle of Man', 'Isle of Man', 'Isle of Man', 'Isle of Man', 'Isle of Man', 'Isle of Man', 'Isle of Man', 'Isle of Man', 'Isle of Man', 'Isle of Man', 'Isle of Man', 'Isle of Man', 'Isle of Man', 'Isle of Man', 'Isle of Man', 'Isle of Man', 'Not classified', 'Not classified', 'Not classified', 'Not classified', 'Not classified', 'Not classified', 'Not classified', 'Not classified', 'Not classified', 'Not classified', 'Not classified', 'Not classified', 'Not classified', 'Not classified', 'Not classified', 'Not classified', 'Not classified', 'Not classified', 'Not classified', 'Not classified', 'Not classified', 'Not classified', 'Not classified', 'Not classified', 'Not classified', 'Not classified', 'Not classified', 'Not classified', 'Not classified', 'Not classified', 'Not classified', 'Not classified', 'Not classified', 'Not classified', 'Not classified', 'Not classified', 'Not classified', 'Not classified', 'Not classified', 'Not classified', 'Not classified', 'Not classified', 'Not classified', 'Not classified', 'Not classified', 'Not classified', 'Not classified', 'Not classified', 'Not classified', 'Not classified', 'Not classified', 'Not classified', 'Not classified', 'Not classified', 'Not classified', 'Not classified', 'Not classified', 'Not classified', 'Not classified', 'Not classified', 'Not classified', 'Not classified', 'Iran, Islamic Rep.', 'Iran, Islamic Rep.', 'Iran, Islamic Rep.', 'Iran, Islamic Rep.', 'Iran, Islamic Rep.', 'Iran, Islamic Rep.', 'Iran, Islamic Rep.', 'Iran, Islamic Rep.', 'Iran, Islamic Rep.', 'Iran, Islamic Rep.', 'Iran, Islamic Rep.', 'Iran, Islamic Rep.', 'Iran, Islamic Rep.', 'Iran, Islamic Rep.', 'Iran, Islamic Rep.', 'Iran, Islamic Rep.', 'Iran, Islamic Rep.', 'Iran, Islamic Rep.', 'Iran, Islamic Rep.', 'Iran, Islamic Rep.', 'Iran, Islamic Rep.', 'Iran, Islamic Rep.', 'Iran, Islamic Rep.', 'Iran, Islamic Rep.', 'Iran, Islamic Rep.', 'Iran, Islamic Rep.', 'Iran, Islamic Rep.', 'Iran, Islamic Rep.', 'Iran, Islamic Rep.', 'Iran, Islamic Rep.', 'Iran, Islamic Rep.', 'Iran, Islamic Rep.', 'Iran, Islamic Rep.', 'Iran, Islamic Rep.', 'Iran, Islamic Rep.', 'Iran, Islamic Rep.', 'Iran, Islamic Rep.', 'Iran, Islamic Rep.', 'Iran, Islamic Rep.', 'Iran, Islamic Rep.', 'Iran, Islamic Rep.', 'Iran, Islamic Rep.', 'Iran, Islamic Rep.', 'Iran, Islamic Rep.', 'Iran, Islamic Rep.', 'Iran, Islamic Rep.', 'Iran, Islamic Rep.', 'Iran, Islamic Rep.', 'Iran, Islamic Rep.', 'Iran, Islamic Rep.', 'Iran, Islamic Rep.', 'Iran, Islamic Rep.', 'Iran, Islamic Rep.', 'Iran, Islamic Rep.', 'Iran, Islamic Rep.', 'Iran, Islamic Rep.', 'Iran, Islamic Rep.', 'Iran, Islamic Rep.', 'Iran, Islamic Rep.', 'Iran, Islamic Rep.', 'Iran, Islamic Rep.', 'Iran, Islamic Rep.', 'Kyrgyz Republic', 'Kyrgyz Republic', 'Kyrgyz Republic', 'Kyrgyz Republic', 'Kyrgyz Republic', 'Kyrgyz Republic', 'Kyrgyz Republic', 'Kyrgyz Republic', 'Kyrgyz Republic', 'Kyrgyz Republic', 'Kyrgyz Republic', 'Kyrgyz Republic', 'Kyrgyz Republic', 'Kyrgyz Republic', 'Kyrgyz Republic', 'Kyrgyz Republic', 'Kyrgyz Republic', 'Kyrgyz Republic', 'Kyrgyz Republic', 'Kyrgyz Republic', 'Kyrgyz Republic', 'Kyrgyz Republic', 'Kyrgyz Republic', 'Kyrgyz Republic', 'Kyrgyz Republic', 'Kyrgyz Republic', 'Kyrgyz Republic', 'Kyrgyz Republic', 'Kyrgyz Republic', 'Kyrgyz Republic', 'Kyrgyz Republic', 'Kyrgyz Republic', 'Kyrgyz Republic', 'Kyrgyz Republic', 'Kyrgyz Republic', 'Kyrgyz Republic', 'Kyrgyz Republic', 'Kyrgyz Republic', 'Kyrgyz Republic', 'Kyrgyz Republic', 'Kyrgyz Republic', 'Kyrgyz Republic', 'Kyrgyz Republic', 'Kyrgyz Republic', 'Kyrgyz Republic', 'Kyrgyz Republic', 'Kyrgyz Republic', 'Kyrgyz Republic', 'Kyrgyz Republic', 'Kyrgyz Republic', 'Kyrgyz Republic', 'Kyrgyz Republic', 'Kyrgyz Republic', 'Kyrgyz Republic', 'Kyrgyz Republic', 'Kyrgyz Republic', 'Kyrgyz Republic', 'Kyrgyz Republic', 'Kyrgyz Republic', 'Kyrgyz Republic', 'Kyrgyz Republic', 'Kyrgyz Republic', 'Kiribati', 'Kiribati', 'Kiribati', 'Kiribati', 'Kiribati', 'Kiribati', 'Kiribati', 'Kiribati', 'Kiribati', 'Kiribati', 'Kiribati', 'Kiribati', 'Kiribati', 'Kiribati', 'Kiribati', 'Kiribati', 'Kiribati', 'Kiribati', 'Kiribati', 'Kiribati', 'Kiribati', 'Kiribati', 'Kiribati', 'Kiribati', 'Kiribati', 'Kiribati', 'Kiribati', 'Kiribati', 'Kiribati', 'Kiribati', 'Kiribati', 'Kiribati', 'Kiribati', 'Kiribati', 'Kiribati', 'Kiribati', 'Kiribati', 'Kiribati', 'Kiribati', 'Kiribati', 'Kiribati', 'Kiribati', 'Kiribati', 'Kiribati', 'Kiribati', 'Kiribati', 'Kiribati', 'Kiribati', 'Kiribati', 'Kiribati', 'Kiribati', 'Kiribati', 'Kiribati', 'Kiribati', 'Kiribati', 'Kiribati', 'Kiribati', 'Kiribati', 'Kiribati', 'Kiribati', 'Kiribati', 'Kiribati', 'St. Kitts and Nevis', 'St. Kitts and Nevis', 'St. Kitts and Nevis', 'St. Kitts and Nevis', 'St. Kitts and Nevis', 'St. Kitts and Nevis', 'St. Kitts and Nevis', 'St. Kitts and Nevis', 'St. Kitts and Nevis', 'St. Kitts and Nevis', 'St. Kitts and Nevis', 'St. Kitts and Nevis', 'St. Kitts and Nevis', 'St. Kitts and Nevis', 'St. Kitts and Nevis', 'St. Kitts and Nevis', 'St. Kitts and Nevis', 'St. Kitts and Nevis', 'St. Kitts and Nevis', 'St. Kitts and Nevis', 'St. Kitts and Nevis', 'St. Kitts and Nevis', 'St. Kitts and Nevis', 'St. Kitts and Nevis', 'St. Kitts and Nevis', 'St. Kitts and Nevis', 'St. Kitts and Nevis', 'St. Kitts and Nevis', 'St. Kitts and Nevis', 'St. Kitts and Nevis', 'St. Kitts and Nevis', 'St. Kitts and Nevis', 'St. Kitts and Nevis', 'St. Kitts and Nevis', 'St. Kitts and Nevis', 'St. Kitts and Nevis', 'St. Kitts and Nevis', 'St. Kitts and Nevis', 'St. Kitts and Nevis', 'St. Kitts and Nevis', 'St. Kitts and Nevis', 'St. Kitts and Nevis', 'St. Kitts and Nevis', 'St. Kitts and Nevis', 'St. Kitts and Nevis', 'St. Kitts and Nevis', 'St. Kitts and Nevis', 'St. Kitts and Nevis', 'St. Kitts and Nevis', 'St. Kitts and Nevis', 'St. Kitts and Nevis', 'St. Kitts and Nevis', 'St. Kitts and Nevis', 'St. Kitts and Nevis', 'St. Kitts and Nevis', 'St. Kitts and Nevis', 'St. Kitts and Nevis', 'St. Kitts and Nevis', 'St. Kitts and Nevis', 'St. Kitts and Nevis', 'St. Kitts and Nevis', 'St. Kitts and Nevis', 'Korea, Rep.', 'Korea, Rep.', 'Korea, Rep.', 'Korea, Rep.', 'Korea, Rep.', 'Korea, Rep.', 'Korea, Rep.', 'Korea, Rep.', 'Korea, Rep.', 'Korea, Rep.', 'Korea, Rep.', 'Korea, Rep.', 'Korea, Rep.', 'Korea, Rep.', 'Korea, Rep.', 'Korea, Rep.', 'Korea, Rep.', 'Korea, Rep.', 'Korea, Rep.', 'Korea, Rep.', 'Korea, Rep.', 'Korea, Rep.', 'Korea, Rep.', 'Korea, Rep.', 'Korea, Rep.', 'Korea, Rep.', 'Korea, Rep.', 'Korea, Rep.', 'Korea, Rep.', 'Korea, Rep.', 'Korea, Rep.', 'Korea, Rep.', 'Korea, Rep.', 'Korea, Rep.', 'Korea, Rep.', 'Korea, Rep.', 'Korea, Rep.', 'Korea, Rep.', 'Korea, Rep.', 'Korea, Rep.', 'Korea, Rep.', 'Korea, Rep.', 'Korea, Rep.', 'Korea, Rep.', 'Korea, Rep.', 'Korea, Rep.', 'Korea, Rep.', 'Korea, Rep.', 'Korea, Rep.', 'Korea, Rep.', 'Korea, Rep.', 'Korea, Rep.', 'Korea, Rep.', 'Korea, Rep.', 'Korea, Rep.', 'Korea, Rep.', 'Korea, Rep.', 'Korea, Rep.', 'Korea, Rep.', 'Korea, Rep.', 'Korea, Rep.', 'Korea, Rep.', 'Latin America & Caribbean (excluding high income)', 'Latin America & Caribbean (excluding high income)', 'Latin America & Caribbean (excluding high income)', 'Latin America & Caribbean (excluding high income)', 'Latin America & Caribbean (excluding high income)', 'Latin America & Caribbean (excluding high income)', 'Latin America & Caribbean (excluding high income)', 'Latin America & Caribbean (excluding high income)', 'Latin America & Caribbean (excluding high income)', 'Latin America & Caribbean (excluding high income)', 'Latin America & Caribbean (excluding high income)', 'Latin America & Caribbean (excluding high income)', 'Latin America & Caribbean (excluding high income)', 'Latin America & Caribbean (excluding high income)', 'Latin America & Caribbean (excluding high income)', 'Latin America & Caribbean (excluding high income)', 'Latin America & Caribbean (excluding high income)', 'Latin America & Caribbean (excluding high income)', 'Latin America & Caribbean (excluding high income)', 'Latin America & Caribbean (excluding high income)', 'Latin America & Caribbean (excluding high income)', 'Latin America & Caribbean (excluding high income)', 'Latin America & Caribbean (excluding high income)', 'Latin America & Caribbean (excluding high income)', 'Latin America & Caribbean (excluding high income)', 'Latin America & Caribbean (excluding high income)', 'Latin America & Caribbean (excluding high income)', 'Latin America & Caribbean (excluding high income)', 'Latin America & Caribbean (excluding high income)', 'Latin America & Caribbean (excluding high income)', 'Latin America & Caribbean (excluding high income)', 'Latin America & Caribbean (excluding high income)', 'Latin America & Caribbean (excluding high income)', 'Latin America & Caribbean (excluding high income)', 'Latin America & Caribbean (excluding high income)', 'Latin America & Caribbean (excluding high income)', 'Latin America & Caribbean (excluding high income)', 'Latin America & Caribbean (excluding high income)', 'Latin America & Caribbean (excluding high income)', 'Latin America & Caribbean (excluding high income)', 'Latin America & Caribbean (excluding high income)', 'Latin America & Caribbean (excluding high income)', 'Latin America & Caribbean (excluding high income)', 'Latin America & Caribbean (excluding high income)', 'Latin America & Caribbean (excluding high income)', 'Latin America & Caribbean (excluding high income)', 'Latin America & Caribbean (excluding high income)', 'Latin America & Caribbean (excluding high income)', 'Latin America & Caribbean (excluding high income)', 'Latin America & Caribbean (excluding high income)', 'Latin America & Caribbean (excluding high income)', 'Latin America & Caribbean (excluding high income)', 'Latin America & Caribbean (excluding high income)', 'Latin America & Caribbean (excluding high income)', 'Latin America & Caribbean (excluding high income)', 'Latin America & Caribbean (excluding high income)', 'Latin America & Caribbean (excluding high income)', 'Latin America & Caribbean (excluding high income)', 'Latin America & Caribbean (excluding high income)', 'Latin America & Caribbean (excluding high income)', 'Latin America & Caribbean (excluding high income)', 'Latin America & Caribbean (excluding high income)', 'Lao PDR', 'Lao PDR', 'Lao PDR', 'Lao PDR', 'Lao PDR', 'Lao PDR', 'Lao PDR', 'Lao PDR', 'Lao PDR', 'Lao PDR', 'Lao PDR', 'Lao PDR', 'Lao PDR', 'Lao PDR', 'Lao PDR', 'Lao PDR', 'Lao PDR', 'Lao PDR', 'Lao PDR', 'Lao PDR', 'Lao PDR', 'Lao PDR', 'Lao PDR', 'Lao PDR', 'Lao PDR', 'Lao PDR', 'Lao PDR', 'Lao PDR', 'Lao PDR', 'Lao PDR', 'Lao PDR', 'Lao PDR', 'Lao PDR', 'Lao PDR', 'Lao PDR', 'Lao PDR', 'Lao PDR', 'Lao PDR', 'Lao PDR', 'Lao PDR', 'Lao PDR', 'Lao PDR', 'Lao PDR', 'Lao PDR', 'Lao PDR', 'Lao PDR', 'Lao PDR', 'Lao PDR', 'Lao PDR', 'Lao PDR', 'Lao PDR', 'Lao PDR', 'Lao PDR', 'Lao PDR', 'Lao PDR', 'Lao PDR', 'Lao PDR', 'Lao PDR', 'Lao PDR', 'Lao PDR', 'Lao PDR', 'Lao PDR', 'St. Lucia', 'St. Lucia', 'St. Lucia', 'St. Lucia', 'St. Lucia', 'St. Lucia', 'St. Lucia', 'St. Lucia', 'St. Lucia', 'St. Lucia', 'St. Lucia', 'St. Lucia', 'St. Lucia', 'St. Lucia', 'St. Lucia', 'St. Lucia', 'St. Lucia', 'St. Lucia', 'St. Lucia', 'St. Lucia', 'St. Lucia', 'St. Lucia', 'St. Lucia', 'St. Lucia', 'St. Lucia', 'St. Lucia', 'St. Lucia', 'St. Lucia', 'St. Lucia', 'St. Lucia', 'St. Lucia', 'St. Lucia', 'St. Lucia', 'St. Lucia', 'St. Lucia', 'St. Lucia', 'St. Lucia', 'St. Lucia', 'St. Lucia', 'St. Lucia', 'St. Lucia', 'St. Lucia', 'St. Lucia', 'St. Lucia', 'St. Lucia', 'St. Lucia', 'St. Lucia', 'St. Lucia', 'St. Lucia', 'St. Lucia', 'St. Lucia', 'St. Lucia', 'St. Lucia', 'St. Lucia', 'St. Lucia', 'St. Lucia', 'St. Lucia', 'St. Lucia', 'St. Lucia', 'St. Lucia', 'St. Lucia', 'St. Lucia', 'Latin America & Caribbean', 'Latin America & Caribbean', 'Latin America & Caribbean', 'Latin America & Caribbean', 'Latin America & Caribbean', 'Latin America & Caribbean', 'Latin America & Caribbean', 'Latin America & Caribbean', 'Latin America & Caribbean', 'Latin America & Caribbean', 'Latin America & Caribbean', 'Latin America & Caribbean', 'Latin America & Caribbean', 'Latin America & Caribbean', 'Latin America & Caribbean', 'Latin America & Caribbean', 'Latin America & Caribbean', 'Latin America & Caribbean', 'Latin America & Caribbean', 'Latin America & Caribbean', 'Latin America & Caribbean', 'Latin America & Caribbean', 'Latin America & Caribbean', 'Latin America & Caribbean', 'Latin America & Caribbean', 'Latin America & Caribbean', 'Latin America & Caribbean', 'Latin America & Caribbean', 'Latin America & Caribbean', 'Latin America & Caribbean', 'Latin America & Caribbean', 'Latin America & Caribbean', 'Latin America & Caribbean', 'Latin America & Caribbean', 'Latin America & Caribbean', 'Latin America & Caribbean', 'Latin America & Caribbean', 'Latin America & Caribbean', 'Latin America & Caribbean', 'Latin America & Caribbean', 'Latin America & Caribbean', 'Latin America & Caribbean', 'Latin America & Caribbean', 'Latin America & Caribbean', 'Latin America & Caribbean', 'Latin America & Caribbean', 'Latin America & Caribbean', 'Latin America & Caribbean', 'Latin America & Caribbean', 'Latin America & Caribbean', 'Latin America & Caribbean', 'Latin America & Caribbean', 'Latin America & Caribbean', 'Latin America & Caribbean', 'Latin America & Caribbean', 'Latin America & Caribbean', 'Latin America & Caribbean', 'Latin America & Caribbean', 'Latin America & Caribbean', 'Latin America & Caribbean', 'Latin America & Caribbean', 'Latin America & Caribbean', 'Least developed countries: UN classification', 'Least developed countries: UN classification', 'Least developed countries: UN classification', 'Least developed countries: UN classification', 'Least developed countries: UN classification', 'Least developed countries: UN classification', 'Least developed countries: UN classification', 'Least developed countries: UN classification', 'Least developed countries: UN classification', 'Least developed countries: UN classification', 'Least developed countries: UN classification', 'Least developed countries: UN classification', 'Least developed countries: UN classification', 'Least developed countries: UN classification', 'Least developed countries: UN classification', 'Least developed countries: UN classification', 'Least developed countries: UN classification', 'Least developed countries: UN classification', 'Least developed countries: UN classification', 'Least developed countries: UN classification', 'Least developed countries: UN classification', 'Least developed countries: UN classification', 'Least developed countries: UN classification', 'Least developed countries: UN classification', 'Least developed countries: UN classification', 'Least developed countries: UN classification', 'Least developed countries: UN classification', 'Least developed countries: UN classification', 'Least developed countries: UN classification', 'Least developed countries: UN classification', 'Least developed countries: UN classification', 'Least developed countries: UN classification', 'Least developed countries: UN classification', 'Least developed countries: UN classification', 'Least developed countries: UN classification', 'Least developed countries: UN classification', 'Least developed countries: UN classification', 'Least developed countries: UN classification', 'Least developed countries: UN classification', 'Least developed countries: UN classification', 'Least developed countries: UN classification', 'Least developed countries: UN classification', 'Least developed countries: UN classification', 'Least developed countries: UN classification', 'Least developed countries: UN classification', 'Least developed countries: UN classification', 'Least developed countries: UN classification', 'Least developed countries: UN classification', 'Least developed countries: UN classification', 'Least developed countries: UN classification', 'Least developed countries: UN classification', 'Least developed countries: UN classification', 'Least developed countries: UN classification', 'Least developed countries: UN classification', 'Least developed countries: UN classification', 'Least developed countries: UN classification', 'Least developed countries: UN classification', 'Least developed countries: UN classification', 'Least developed countries: UN classification', 'Least developed countries: UN classification', 'Least developed countries: UN classification', 'Least developed countries: UN classification', 'Low income', 'Low income', 'Low income', 'Low income', 'Low income', 'Low income', 'Low income', 'Low income', 'Low income', 'Low income', 'Low income', 'Low income', 'Low income', 'Low income', 'Low income', 'Low income', 'Low income', 'Low income', 'Low income', 'Low income', 'Low income', 'Low income', 'Low income', 'Low income', 'Low income', 'Low income', 'Low income', 'Low income', 'Low income', 'Low income', 'Low income', 'Low income', 'Low income', 'Low income', 'Low income', 'Low income', 'Low income', 'Low income', 'Low income', 'Low income', 'Low income', 'Low income', 'Low income', 'Low income', 'Low income', 'Low income', 'Low income', 'Low income', 'Low income', 'Low income', 'Low income', 'Low income', 'Low income', 'Low income', 'Low income', 'Low income', 'Low income', 'Low income', 'Low income', 'Low income', 'Low income', 'Low income', 'Liechtenstein', 'Liechtenstein', 'Liechtenstein', 'Liechtenstein', 'Liechtenstein', 'Liechtenstein', 'Liechtenstein', 'Liechtenstein', 'Liechtenstein', 'Liechtenstein', 'Liechtenstein', 'Liechtenstein', 'Liechtenstein', 'Liechtenstein', 'Liechtenstein', 'Liechtenstein', 'Liechtenstein', 'Liechtenstein', 'Liechtenstein', 'Liechtenstein', 'Liechtenstein', 'Liechtenstein', 'Liechtenstein', 'Liechtenstein', 'Liechtenstein', 'Liechtenstein', 'Liechtenstein', 'Liechtenstein', 'Liechtenstein', 'Liechtenstein', 'Liechtenstein', 'Liechtenstein', 'Liechtenstein', 'Liechtenstein', 'Liechtenstein', 'Liechtenstein', 'Liechtenstein', 'Liechtenstein', 'Liechtenstein', 'Liechtenstein', 'Liechtenstein', 'Liechtenstein', 'Liechtenstein', 'Liechtenstein', 'Liechtenstein', 'Liechtenstein', 'Liechtenstein', 'Liechtenstein', 'Liechtenstein', 'Liechtenstein', 'Liechtenstein', 'Liechtenstein', 'Liechtenstein', 'Liechtenstein', 'Liechtenstein', 'Liechtenstein', 'Liechtenstein', 'Liechtenstein', 'Liechtenstein', 'Liechtenstein', 'Liechtenstein', 'Liechtenstein', 'Lower middle income', 'Lower middle income', 'Lower middle income', 'Lower middle income', 'Lower middle income', 'Lower middle income', 'Lower middle income', 'Lower middle income', 'Lower middle income', 'Lower middle income', 'Lower middle income', 'Lower middle income', 'Lower middle income', 'Lower middle income', 'Lower middle income', 'Lower middle income', 'Lower middle income', 'Lower middle income', 'Lower middle income', 'Lower middle income', 'Lower middle income', 'Lower middle income', 'Lower middle income', 'Lower middle income', 'Lower middle income', 'Lower middle income', 'Lower middle income', 'Lower middle income', 'Lower middle income', 'Lower middle income', 'Lower middle income', 'Lower middle income', 'Lower middle income', 'Lower middle income', 'Lower middle income', 'Lower middle income', 'Lower middle income', 'Lower middle income', 'Lower middle income', 'Lower middle income', 'Lower middle income', 'Lower middle income', 'Lower middle income', 'Lower middle income', 'Lower middle income', 'Lower middle income', 'Lower middle income', 'Lower middle income', 'Lower middle income', 'Lower middle income', 'Lower middle income', 'Lower middle income', 'Lower middle income', 'Lower middle income', 'Lower middle income', 'Lower middle income', 'Lower middle income', 'Lower middle income', 'Lower middle income', 'Lower middle income', 'Lower middle income', 'Lower middle income', 'Low & middle income', 'Low & middle income', 'Low & middle income', 'Low & middle income', 'Low & middle income', 'Low & middle income', 'Low & middle income', 'Low & middle income', 'Low & middle income', 'Low & middle income', 'Low & middle income', 'Low & middle income', 'Low & middle income', 'Low & middle income', 'Low & middle income', 'Low & middle income', 'Low & middle income', 'Low & middle income', 'Low & middle income', 'Low & middle income', 'Low & middle income', 'Low & middle income', 'Low & middle income', 'Low & middle income', 'Low & middle income', 'Low & middle income', 'Low & middle income', 'Low & middle income', 'Low & middle income', 'Low & middle income', 'Low & middle income', 'Low & middle income', 'Low & middle income', 'Low & middle income', 'Low & middle income', 'Low & middle income', 'Low & middle income', 'Low & middle income', 'Low & middle income', 'Low & middle income', 'Low & middle income', 'Low & middle income', 'Low & middle income', 'Low & middle income', 'Low & middle income', 'Low & middle income', 'Low & middle income', 'Low & middle income', 'Low & middle income', 'Low & middle income', 'Low & middle income', 'Low & middle income', 'Low & middle income', 'Low & middle income', 'Low & middle income', 'Low & middle income', 'Low & middle income', 'Low & middle income', 'Low & middle income', 'Low & middle income', 'Low & middle income', 'Low & middle income', 'Lesotho', 'Lesotho', 'Lesotho', 'Lesotho', 'Lesotho', 'Lesotho', 'Lesotho', 'Lesotho', 'Lesotho', 'Lesotho', 'Lesotho', 'Lesotho', 'Lesotho', 'Lesotho', 'Lesotho', 'Lesotho', 'Lesotho', 'Lesotho', 'Lesotho', 'Lesotho', 'Lesotho', 'Lesotho', 'Lesotho', 'Lesotho', 'Lesotho', 'Lesotho', 'Lesotho', 'Lesotho', 'Lesotho', 'Lesotho', 'Lesotho', 'Lesotho', 'Lesotho', 'Lesotho', 'Lesotho', 'Lesotho', 'Lesotho', 'Lesotho', 'Lesotho', 'Lesotho', 'Lesotho', 'Lesotho', 'Lesotho', 'Lesotho', 'Lesotho', 'Lesotho', 'Lesotho', 'Lesotho', 'Lesotho', 'Lesotho', 'Lesotho', 'Lesotho', 'Lesotho', 'Lesotho', 'Lesotho', 'Lesotho', 'Lesotho', 'Lesotho', 'Lesotho', 'Lesotho', 'Lesotho', 'Lesotho', 'Late-demographic dividend', 'Late-demographic dividend', 'Late-demographic dividend', 'Late-demographic dividend', 'Late-demographic dividend', 'Late-demographic dividend', 'Late-demographic dividend', 'Late-demographic dividend', 'Late-demographic dividend', 'Late-demographic dividend', 'Late-demographic dividend', 'Late-demographic dividend', 'Late-demographic dividend', 'Late-demographic dividend', 'Late-demographic dividend', 'Late-demographic dividend', 'Late-demographic dividend', 'Late-demographic dividend', 'Late-demographic dividend', 'Late-demographic dividend', 'Late-demographic dividend', 'Late-demographic dividend', 'Late-demographic dividend', 'Late-demographic dividend', 'Late-demographic dividend', 'Late-demographic dividend', 'Late-demographic dividend', 'Late-demographic dividend', 'Late-demographic dividend', 'Late-demographic dividend', 'Late-demographic dividend', 'Late-demographic dividend', 'Late-demographic dividend', 'Late-demographic dividend', 'Late-demographic dividend', 'Late-demographic dividend', 'Late-demographic dividend', 'Late-demographic dividend', 'Late-demographic dividend', 'Late-demographic dividend', 'Late-demographic dividend', 'Late-demographic dividend', 'Late-demographic dividend', 'Late-demographic dividend', 'Late-demographic dividend', 'Late-demographic dividend', 'Late-demographic dividend', 'Late-demographic dividend', 'Late-demographic dividend', 'Late-demographic dividend', 'Late-demographic dividend', 'Late-demographic dividend', 'Late-demographic dividend', 'Late-demographic dividend', 'Late-demographic dividend', 'Late-demographic dividend', 'Late-demographic dividend', 'Late-demographic dividend', 'Late-demographic dividend', 'Late-demographic dividend', 'Late-demographic dividend', 'Late-demographic dividend', 'Macao SAR, China', 'Macao SAR, China', 'Macao SAR, China', 'Macao SAR, China', 'Macao SAR, China', 'Macao SAR, China', 'Macao SAR, China', 'Macao SAR, China', 'Macao SAR, China', 'Macao SAR, China', 'Macao SAR, China', 'Macao SAR, China', 'Macao SAR, China', 'Macao SAR, China', 'Macao SAR, China', 'Macao SAR, China', 'Macao SAR, China', 'Macao SAR, China', 'Macao SAR, China', 'Macao SAR, China', 'Macao SAR, China', 'Macao SAR, China', 'Macao SAR, China', 'Macao SAR, China', 'Macao SAR, China', 'Macao SAR, China', 'Macao SAR, China', 'Macao SAR, China', 'Macao SAR, China', 'Macao SAR, China', 'Macao SAR, China', 'Macao SAR, China', 'Macao SAR, China', 'Macao SAR, China', 'Macao SAR, China', 'Macao SAR, China', 'Macao SAR, China', 'Macao SAR, China', 'Macao SAR, China', 'Macao SAR, China', 'Macao SAR, China', 'Macao SAR, China', 'Macao SAR, China', 'Macao SAR, China', 'Macao SAR, China', 'Macao SAR, China', 'Macao SAR, China', 'Macao SAR, China', 'Macao SAR, China', 'Macao SAR, China', 'Macao SAR, China', 'Macao SAR, China', 'Macao SAR, China', 'Macao SAR, China', 'Macao SAR, China', 'Macao SAR, China', 'Macao SAR, China', 'Macao SAR, China', 'Macao SAR, China', 'Macao SAR, China', 'Macao SAR, China', 'Macao SAR, China', 'St. Martin (French part)', 'St. Martin (French part)', 'St. Martin (French part)', 'St. Martin (French part)', 'St. Martin (French part)', 'St. Martin (French part)', 'St. Martin (French part)', 'St. Martin (French part)', 'St. Martin (French part)', 'St. Martin (French part)', 'St. Martin (French part)', 'St. Martin (French part)', 'St. Martin (French part)', 'St. Martin (French part)', 'St. Martin (French part)', 'St. Martin (French part)', 'St. Martin (French part)', 'St. Martin (French part)', 'St. Martin (French part)', 'St. Martin (French part)', 'St. Martin (French part)', 'St. Martin (French part)', 'St. Martin (French part)', 'St. Martin (French part)', 'St. Martin (French part)', 'St. Martin (French part)', 'St. Martin (French part)', 'St. Martin (French part)', 'St. Martin (French part)', 'St. Martin (French part)', 'St. Martin (French part)', 'St. Martin (French part)', 'St. Martin (French part)', 'St. Martin (French part)', 'St. Martin (French part)', 'St. Martin (French part)', 'St. Martin (French part)', 'St. Martin (French part)', 'St. Martin (French part)', 'St. Martin (French part)', 'St. Martin (French part)', 'St. Martin (French part)', 'St. Martin (French part)', 'St. Martin (French part)', 'St. Martin (French part)', 'St. Martin (French part)', 'St. Martin (French part)', 'St. Martin (French part)', 'St. Martin (French part)', 'St. Martin (French part)', 'St. Martin (French part)', 'St. Martin (French part)', 'St. Martin (French part)', 'St. Martin (French part)', 'St. Martin (French part)', 'St. Martin (French part)', 'St. Martin (French part)', 'St. Martin (French part)', 'St. Martin (French part)', 'St. Martin (French part)', 'St. Martin (French part)', 'St. Martin (French part)', 'Monaco', 'Monaco', 'Monaco', 'Monaco', 'Monaco', 'Monaco', 'Monaco', 'Monaco', 'Monaco', 'Monaco', 'Monaco', 'Monaco', 'Monaco', 'Monaco', 'Monaco', 'Monaco', 'Monaco', 'Monaco', 'Monaco', 'Monaco', 'Monaco', 'Monaco', 'Monaco', 'Monaco', 'Monaco', 'Monaco', 'Monaco', 'Monaco', 'Monaco', 'Monaco', 'Monaco', 'Monaco', 'Monaco', 'Monaco', 'Monaco', 'Monaco', 'Monaco', 'Monaco', 'Monaco', 'Monaco', 'Monaco', 'Monaco', 'Monaco', 'Monaco', 'Monaco', 'Monaco', 'Monaco', 'Monaco', 'Monaco', 'Monaco', 'Monaco', 'Monaco', 'Monaco', 'Monaco', 'Monaco', 'Monaco', 'Monaco', 'Monaco', 'Monaco', 'Monaco', 'Monaco', 'Monaco', 'Maldives', 'Maldives', 'Maldives', 'Maldives', 'Maldives', 'Maldives', 'Maldives', 'Maldives', 'Maldives', 'Maldives', 'Maldives', 'Maldives', 'Maldives', 'Maldives', 'Maldives', 'Maldives', 'Maldives', 'Maldives', 'Maldives', 'Maldives', 'Maldives', 'Maldives', 'Maldives', 'Maldives', 'Maldives', 'Maldives', 'Maldives', 'Maldives', 'Maldives', 'Maldives', 'Maldives', 'Maldives', 'Maldives', 'Maldives', 'Maldives', 'Maldives', 'Maldives', 'Maldives', 'Maldives', 'Maldives', 'Maldives', 'Maldives', 'Maldives', 'Maldives', 'Maldives', 'Maldives', 'Maldives', 'Maldives', 'Maldives', 'Maldives', 'Maldives', 'Maldives', 'Maldives', 'Maldives', 'Maldives', 'Maldives', 'Maldives', 'Maldives', 'Maldives', 'Maldives', 'Maldives', 'Maldives', 'Middle East & North Africa', 'Middle East & North Africa', 'Middle East & North Africa', 'Middle East & North Africa', 'Middle East & North Africa', 'Middle East & North Africa', 'Middle East & North Africa', 'Middle East & North Africa', 'Middle East & North Africa', 'Middle East & North Africa', 'Middle East & North Africa', 'Middle East & North Africa', 'Middle East & North Africa', 'Middle East & North Africa', 'Middle East & North Africa', 'Middle East & North Africa', 'Middle East & North Africa', 'Middle East & North Africa', 'Middle East & North Africa', 'Middle East & North Africa', 'Middle East & North Africa', 'Middle East & North Africa', 'Middle East & North Africa', 'Middle East & North Africa', 'Middle East & North Africa', 'Middle East & North Africa', 'Middle East & North Africa', 'Middle East & North Africa', 'Middle East & North Africa', 'Middle East & North Africa', 'Middle East & North Africa', 'Middle East & North Africa', 'Middle East & North Africa', 'Middle East & North Africa', 'Middle East & North Africa', 'Middle East & North Africa', 'Middle East & North Africa', 'Middle East & North Africa', 'Middle East & North Africa', 'Middle East & North Africa', 'Middle East & North Africa', 'Middle East & North Africa', 'Middle East & North Africa', 'Middle East & North Africa', 'Middle East & North Africa', 'Middle East & North Africa', 'Middle East & North Africa', 'Middle East & North Africa', 'Middle East & North Africa', 'Middle East & North Africa', 'Middle East & North Africa', 'Middle East & North Africa', 'Middle East & North Africa', 'Middle East & North Africa', 'Middle East & North Africa', 'Middle East & North Africa', 'Middle East & North Africa', 'Middle East & North Africa', 'Middle East & North Africa', 'Middle East & North Africa', 'Middle East & North Africa', 'Middle East & North Africa', 'Marshall Islands', 'Marshall Islands', 'Marshall Islands', 'Marshall Islands', 'Marshall Islands', 'Marshall Islands', 'Marshall Islands', 'Marshall Islands', 'Marshall Islands', 'Marshall Islands', 'Marshall Islands', 'Marshall Islands', 'Marshall Islands', 'Marshall Islands', 'Marshall Islands', 'Marshall Islands', 'Marshall Islands', 'Marshall Islands', 'Marshall Islands', 'Marshall Islands', 'Marshall Islands', 'Marshall Islands', 'Marshall Islands', 'Marshall Islands', 'Marshall Islands', 'Marshall Islands', 'Marshall Islands', 'Marshall Islands', 'Marshall Islands', 'Marshall Islands', 'Marshall Islands', 'Marshall Islands', 'Marshall Islands', 'Marshall Islands', 'Marshall Islands', 'Marshall Islands', 'Marshall Islands', 'Marshall Islands', 'Marshall Islands', 'Marshall Islands', 'Marshall Islands', 'Marshall Islands', 'Marshall Islands', 'Marshall Islands', 'Marshall Islands', 'Marshall Islands', 'Marshall Islands', 'Marshall Islands', 'Marshall Islands', 'Marshall Islands', 'Marshall Islands', 'Marshall Islands', 'Marshall Islands', 'Marshall Islands', 'Marshall Islands', 'Marshall Islands', 'Marshall Islands', 'Marshall Islands', 'Marshall Islands', 'Marshall Islands', 'Marshall Islands', 'Marshall Islands', 'Middle income', 'Middle income', 'Middle income', 'Middle income', 'Middle income', 'Middle income', 'Middle income', 'Middle income', 'Middle income', 'Middle income', 'Middle income', 'Middle income', 'Middle income', 'Middle income', 'Middle income', 'Middle income', 'Middle income', 'Middle income', 'Middle income', 'Middle income', 'Middle income', 'Middle income', 'Middle income', 'Middle income', 'Middle income', 'Middle income', 'Middle income', 'Middle income', 'Middle income', 'Middle income', 'Middle income', 'Middle income', 'Middle income', 'Middle income', 'Middle income', 'Middle income', 'Middle income', 'Middle income', 'Middle income', 'Middle income', 'Middle income', 'Middle income', 'Middle income', 'Middle income', 'Middle income', 'Middle income', 'Middle income', 'Middle income', 'Middle income', 'Middle income', 'Middle income', 'Middle income', 'Middle income', 'Middle income', 'Middle income', 'Middle income', 'Middle income', 'Middle income', 'Middle income', 'Middle income', 'Middle income', 'Middle income', 'Middle East & North Africa (excluding high income)', 'Middle East & North Africa (excluding high income)', 'Middle East & North Africa (excluding high income)', 'Middle East & North Africa (excluding high income)', 'Middle East & North Africa (excluding high income)', 'Middle East & North Africa (excluding high income)', 'Middle East & North Africa (excluding high income)', 'Middle East & North Africa (excluding high income)', 'Middle East & North Africa (excluding high income)', 'Middle East & North Africa (excluding high income)', 'Middle East & North Africa (excluding high income)', 'Middle East & North Africa (excluding high income)', 'Middle East & North Africa (excluding high income)', 'Middle East & North Africa (excluding high income)', 'Middle East & North Africa (excluding high income)', 'Middle East & North Africa (excluding high income)', 'Middle East & North Africa (excluding high income)', 'Middle East & North Africa (excluding high income)', 'Middle East & North Africa (excluding high income)', 'Middle East & North Africa (excluding high income)', 'Middle East & North Africa (excluding high income)', 'Middle East & North Africa (excluding high income)', 'Middle East & North Africa (excluding high income)', 'Middle East & North Africa (excluding high income)', 'Middle East & North Africa (excluding high income)', 'Middle East & North Africa (excluding high income)', 'Middle East & North Africa (excluding high income)', 'Middle East & North Africa (excluding high income)', 'Middle East & North Africa (excluding high income)', 'Middle East & North Africa (excluding high income)', 'Middle East & North Africa (excluding high income)', 'Middle East & North Africa (excluding high income)', 'Middle East & North Africa (excluding high income)', 'Middle East & North Africa (excluding high income)', 'Middle East & North Africa (excluding high income)', 'Middle East & North Africa (excluding high income)', 'Middle East & North Africa (excluding high income)', 'Middle East & North Africa (excluding high income)', 'Middle East & North Africa (excluding high income)', 'Middle East & North Africa (excluding high income)', 'Middle East & North Africa (excluding high income)', 'Middle East & North Africa (excluding high income)', 'Middle East & North Africa (excluding high income)', 'Middle East & North Africa (excluding high income)', 'Middle East & North Africa (excluding high income)', 'Middle East & North Africa (excluding high income)', 'Middle East & North Africa (excluding high income)', 'Middle East & North Africa (excluding high income)', 'Middle East & North Africa (excluding high income)', 'Middle East & North Africa (excluding high income)', 'Middle East & North Africa (excluding high income)', 'Middle East & North Africa (excluding high income)', 'Middle East & North Africa (excluding high income)', 'Middle East & North Africa (excluding high income)', 'Middle East & North Africa (excluding high income)', 'Middle East & North Africa (excluding high income)', 'Middle East & North Africa (excluding high income)', 'Middle East & North Africa (excluding high income)', 'Middle East & North Africa (excluding high income)', 'Middle East & North Africa (excluding high income)', 'Middle East & North Africa (excluding high income)', 'Middle East & North Africa (excluding high income)', 'Northern Mariana Islands', 'Northern Mariana Islands', 'Northern Mariana Islands', 'Northern Mariana Islands', 'Northern Mariana Islands', 'Northern Mariana Islands', 'Northern Mariana Islands', 'Northern Mariana Islands', 'Northern Mariana Islands', 'Northern Mariana Islands', 'Northern Mariana Islands', 'Northern Mariana Islands', 'Northern Mariana Islands', 'Northern Mariana Islands', 'Northern Mariana Islands', 'Northern Mariana Islands', 'Northern Mariana Islands', 'Northern Mariana Islands', 'Northern Mariana Islands', 'Northern Mariana Islands', 'Northern Mariana Islands', 'Northern Mariana Islands', 'Northern Mariana Islands', 'Northern Mariana Islands', 'Northern Mariana Islands', 'Northern Mariana Islands', 'Northern Mariana Islands', 'Northern Mariana Islands', 'Northern Mariana Islands', 'Northern Mariana Islands', 'Northern Mariana Islands', 'Northern Mariana Islands', 'Northern Mariana Islands', 'Northern Mariana Islands', 'Northern Mariana Islands', 'Northern Mariana Islands', 'Northern Mariana Islands', 'Northern Mariana Islands', 'Northern Mariana Islands', 'Northern Mariana Islands', 'Northern Mariana Islands', 'Northern Mariana Islands', 'Northern Mariana Islands', 'Northern Mariana Islands', 'Northern Mariana Islands', 'Northern Mariana Islands', 'Northern Mariana Islands', 'Northern Mariana Islands', 'Northern Mariana Islands', 'Northern Mariana Islands', 'Northern Mariana Islands', 'Northern Mariana Islands', 'Northern Mariana Islands', 'Northern Mariana Islands', 'Northern Mariana Islands', 'Northern Mariana Islands', 'Northern Mariana Islands', 'Northern Mariana Islands', 'Northern Mariana Islands', 'Northern Mariana Islands', 'Northern Mariana Islands', 'Northern Mariana Islands', 'North America', 'North America', 'North America', 'North America', 'North America', 'North America', 'North America', 'North America', 'North America', 'North America', 'North America', 'North America', 'North America', 'North America', 'North America', 'North America', 'North America', 'North America', 'North America', 'North America', 'North America', 'North America', 'North America', 'North America', 'North America', 'North America', 'North America', 'North America', 'North America', 'North America', 'North America', 'North America', 'North America', 'North America', 'North America', 'North America', 'North America', 'North America', 'North America', 'North America', 'North America', 'North America', 'North America', 'North America', 'North America', 'North America', 'North America', 'North America', 'North America', 'North America', 'North America', 'North America', 'North America', 'North America', 'North America', 'North America', 'North America', 'North America', 'North America', 'North America', 'North America', 'North America', 'Namibia', 'Namibia', 'Namibia', 'Namibia', 'Namibia', 'Namibia', 'Namibia', 'Namibia', 'Namibia', 'Namibia', 'Namibia', 'Namibia', 'Namibia', 'Namibia', 'Namibia', 'Namibia', 'Namibia', 'Namibia', 'Namibia', 'Namibia', 'Namibia', 'Namibia', 'Namibia', 'Namibia', 'Namibia', 'Namibia', 'Namibia', 'Namibia', 'Namibia', 'Namibia', 'Namibia', 'Namibia', 'Namibia', 'Namibia', 'Namibia', 'Namibia', 'Namibia', 'Namibia', 'Namibia', 'Namibia', 'Namibia', 'Namibia', 'Namibia', 'Namibia', 'Namibia', 'Namibia', 'Namibia', 'Namibia', 'Namibia', 'Namibia', 'Namibia', 'Namibia', 'Namibia', 'Namibia', 'Namibia', 'Namibia', 'Namibia', 'Namibia', 'Namibia', 'Namibia', 'Namibia', 'Namibia', 'Nauru', 'Nauru', 'Nauru', 'Nauru', 'Nauru', 'Nauru', 'Nauru', 'Nauru', 'Nauru', 'Nauru', 'Nauru', 'Nauru', 'Nauru', 'Nauru', 'Nauru', 'Nauru', 'Nauru', 'Nauru', 'Nauru', 'Nauru', 'Nauru', 'Nauru', 'Nauru', 'Nauru', 'Nauru', 'Nauru', 'Nauru', 'Nauru', 'Nauru', 'Nauru', 'Nauru', 'Nauru', 'Nauru', 'Nauru', 'Nauru', 'Nauru', 'Nauru', 'Nauru', 'Nauru', 'Nauru', 'Nauru', 'Nauru', 'Nauru', 'Nauru', 'Nauru', 'Nauru', 'Nauru', 'Nauru', 'Nauru', 'Nauru', 'Nauru', 'Nauru', 'Nauru', 'Nauru', 'Nauru', 'Nauru', 'Nauru', 'Nauru', 'Nauru', 'Nauru', 'Nauru', 'Nauru', 'OECD members', 'OECD members', 'OECD members', 'OECD members', 'OECD members', 'OECD members', 'OECD members', 'OECD members', 'OECD members', 'OECD members', 'OECD members', 'OECD members', 'OECD members', 'OECD members', 'OECD members', 'OECD members', 'OECD members', 'OECD members', 'OECD members', 'OECD members', 'OECD members', 'OECD members', 'OECD members', 'OECD members', 'OECD members', 'OECD members', 'OECD members', 'OECD members', 'OECD members', 'OECD members', 'OECD members', 'OECD members', 'OECD members', 'OECD members', 'OECD members', 'OECD members', 'OECD members', 'OECD members', 'OECD members', 'OECD members', 'OECD members', 'OECD members', 'OECD members', 'OECD members', 'OECD members', 'OECD members', 'OECD members', 'OECD members', 'OECD members', 'OECD members', 'OECD members', 'OECD members', 'OECD members', 'OECD members', 'OECD members', 'OECD members', 'OECD members', 'OECD members', 'OECD members', 'OECD members', 'OECD members', 'OECD members', 'Oman', 'Oman', 'Oman', 'Oman', 'Oman', 'Oman', 'Oman', 'Oman', 'Oman', 'Oman', 'Oman', 'Oman', 'Oman', 'Oman', 'Oman', 'Oman', 'Oman', 'Oman', 'Oman', 'Oman', 'Oman', 'Oman', 'Oman', 'Oman', 'Oman', 'Oman', 'Oman', 'Oman', 'Oman', 'Oman', 'Oman', 'Oman', 'Oman', 'Oman', 'Oman', 'Oman', 'Oman', 'Oman', 'Oman', 'Oman', 'Oman', 'Oman', 'Oman', 'Oman', 'Oman', 'Oman', 'Oman', 'Oman', 'Oman', 'Oman', 'Oman', 'Oman', 'Oman', 'Oman', 'Oman', 'Oman', 'Oman', 'Oman', 'Oman', 'Oman', 'Oman', 'Oman', 'Other small states', 'Other small states', 'Other small states', 'Other small states', 'Other small states', 'Other small states', 'Other small states', 'Other small states', 'Other small states', 'Other small states', 'Other small states', 'Other small states', 'Other small states', 'Other small states', 'Other small states', 'Other small states', 'Other small states', 'Other small states', 'Other small states', 'Other small states', 'Other small states', 'Other small states', 'Other small states', 'Other small states', 'Other small states', 'Other small states', 'Other small states', 'Other small states', 'Other small states', 'Other small states', 'Other small states', 'Other small states', 'Other small states', 'Other small states', 'Other small states', 'Other small states', 'Other small states', 'Other small states', 'Other small states', 'Other small states', 'Other small states', 'Other small states', 'Other small states', 'Other small states', 'Other small states', 'Other small states', 'Other small states', 'Other small states', 'Other small states', 'Other small states', 'Other small states', 'Other small states', 'Other small states', 'Other small states', 'Other small states', 'Other small states', 'Other small states', 'Other small states', 'Other small states', 'Other small states', 'Other small states', 'Other small states', 'Pre-demographic dividend', 'Pre-demographic dividend', 'Pre-demographic dividend', 'Pre-demographic dividend', 'Pre-demographic dividend', 'Pre-demographic dividend', 'Pre-demographic dividend', 'Pre-demographic dividend', 'Pre-demographic dividend', 'Pre-demographic dividend', 'Pre-demographic dividend', 'Pre-demographic dividend', 'Pre-demographic dividend', 'Pre-demographic dividend', 'Pre-demographic dividend', 'Pre-demographic dividend', 'Pre-demographic dividend', 'Pre-demographic dividend', 'Pre-demographic dividend', 'Pre-demographic dividend', 'Pre-demographic dividend', 'Pre-demographic dividend', 'Pre-demographic dividend', 'Pre-demographic dividend', 'Pre-demographic dividend', 'Pre-demographic dividend', 'Pre-demographic dividend', 'Pre-demographic dividend', 'Pre-demographic dividend', 'Pre-demographic dividend', 'Pre-demographic dividend', 'Pre-demographic dividend', 'Pre-demographic dividend', 'Pre-demographic dividend', 'Pre-demographic dividend', 'Pre-demographic dividend', 'Pre-demographic dividend', 'Pre-demographic dividend', 'Pre-demographic dividend', 'Pre-demographic dividend', 'Pre-demographic dividend', 'Pre-demographic dividend', 'Pre-demographic dividend', 'Pre-demographic dividend', 'Pre-demographic dividend', 'Pre-demographic dividend', 'Pre-demographic dividend', 'Pre-demographic dividend', 'Pre-demographic dividend', 'Pre-demographic dividend', 'Pre-demographic dividend', 'Pre-demographic dividend', 'Pre-demographic dividend', 'Pre-demographic dividend', 'Pre-demographic dividend', 'Pre-demographic dividend', 'Pre-demographic dividend', 'Pre-demographic dividend', 'Pre-demographic dividend', 'Pre-demographic dividend', 'Pre-demographic dividend', 'Pre-demographic dividend', \"Korea, Dem. People's Rep.\", \"Korea, Dem. People's Rep.\", \"Korea, Dem. People's Rep.\", \"Korea, Dem. People's Rep.\", \"Korea, Dem. People's Rep.\", \"Korea, Dem. People's Rep.\", \"Korea, Dem. People's Rep.\", \"Korea, Dem. People's Rep.\", \"Korea, Dem. People's Rep.\", \"Korea, Dem. People's Rep.\", \"Korea, Dem. People's Rep.\", \"Korea, Dem. People's Rep.\", \"Korea, Dem. People's Rep.\", \"Korea, Dem. People's Rep.\", \"Korea, Dem. People's Rep.\", \"Korea, Dem. People's Rep.\", \"Korea, Dem. People's Rep.\", \"Korea, Dem. People's Rep.\", \"Korea, Dem. People's Rep.\", \"Korea, Dem. People's Rep.\", \"Korea, Dem. People's Rep.\", \"Korea, Dem. People's Rep.\", \"Korea, Dem. People's Rep.\", \"Korea, Dem. People's Rep.\", \"Korea, Dem. People's Rep.\", \"Korea, Dem. People's Rep.\", \"Korea, Dem. People's Rep.\", \"Korea, Dem. People's Rep.\", \"Korea, Dem. People's Rep.\", \"Korea, Dem. People's Rep.\", \"Korea, Dem. People's Rep.\", \"Korea, Dem. People's Rep.\", \"Korea, Dem. People's Rep.\", \"Korea, Dem. People's Rep.\", \"Korea, Dem. People's Rep.\", \"Korea, Dem. People's Rep.\", \"Korea, Dem. People's Rep.\", \"Korea, Dem. People's Rep.\", \"Korea, Dem. People's Rep.\", \"Korea, Dem. People's Rep.\", \"Korea, Dem. People's Rep.\", \"Korea, Dem. People's Rep.\", \"Korea, Dem. People's Rep.\", \"Korea, Dem. People's Rep.\", \"Korea, Dem. People's Rep.\", \"Korea, Dem. People's Rep.\", \"Korea, Dem. People's Rep.\", \"Korea, Dem. People's Rep.\", \"Korea, Dem. People's Rep.\", \"Korea, Dem. People's Rep.\", \"Korea, Dem. People's Rep.\", \"Korea, Dem. People's Rep.\", \"Korea, Dem. People's Rep.\", \"Korea, Dem. People's Rep.\", \"Korea, Dem. People's Rep.\", \"Korea, Dem. People's Rep.\", \"Korea, Dem. People's Rep.\", \"Korea, Dem. People's Rep.\", \"Korea, Dem. People's Rep.\", \"Korea, Dem. People's Rep.\", \"Korea, Dem. People's Rep.\", \"Korea, Dem. People's Rep.\", 'West Bank and Gaza', 'West Bank and Gaza', 'West Bank and Gaza', 'West Bank and Gaza', 'West Bank and Gaza', 'West Bank and Gaza', 'West Bank and Gaza', 'West Bank and Gaza', 'West Bank and Gaza', 'West Bank and Gaza', 'West Bank and Gaza', 'West Bank and Gaza', 'West Bank and Gaza', 'West Bank and Gaza', 'West Bank and Gaza', 'West Bank and Gaza', 'West Bank and Gaza', 'West Bank and Gaza', 'West Bank and Gaza', 'West Bank and Gaza', 'West Bank and Gaza', 'West Bank and Gaza', 'West Bank and Gaza', 'West Bank and Gaza', 'West Bank and Gaza', 'West Bank and Gaza', 'West Bank and Gaza', 'West Bank and Gaza', 'West Bank and Gaza', 'West Bank and Gaza', 'West Bank and Gaza', 'West Bank and Gaza', 'West Bank and Gaza', 'West Bank and Gaza', 'West Bank and Gaza', 'West Bank and Gaza', 'West Bank and Gaza', 'West Bank and Gaza', 'West Bank and Gaza', 'West Bank and Gaza', 'West Bank and Gaza', 'West Bank and Gaza', 'West Bank and Gaza', 'West Bank and Gaza', 'West Bank and Gaza', 'West Bank and Gaza', 'West Bank and Gaza', 'West Bank and Gaza', 'West Bank and Gaza', 'West Bank and Gaza', 'West Bank and Gaza', 'West Bank and Gaza', 'West Bank and Gaza', 'West Bank and Gaza', 'West Bank and Gaza', 'West Bank and Gaza', 'West Bank and Gaza', 'West Bank and Gaza', 'West Bank and Gaza', 'West Bank and Gaza', 'West Bank and Gaza', 'West Bank and Gaza', 'Pacific island small states', 'Pacific island small states', 'Pacific island small states', 'Pacific island small states', 'Pacific island small states', 'Pacific island small states', 'Pacific island small states', 'Pacific island small states', 'Pacific island small states', 'Pacific island small states', 'Pacific island small states', 'Pacific island small states', 'Pacific island small states', 'Pacific island small states', 'Pacific island small states', 'Pacific island small states', 'Pacific island small states', 'Pacific island small states', 'Pacific island small states', 'Pacific island small states', 'Pacific island small states', 'Pacific island small states', 'Pacific island small states', 'Pacific island small states', 'Pacific island small states', 'Pacific island small states', 'Pacific island small states', 'Pacific island small states', 'Pacific island small states', 'Pacific island small states', 'Pacific island small states', 'Pacific island small states', 'Pacific island small states', 'Pacific island small states', 'Pacific island small states', 'Pacific island small states', 'Pacific island small states', 'Pacific island small states', 'Pacific island small states', 'Pacific island small states', 'Pacific island small states', 'Pacific island small states', 'Pacific island small states', 'Pacific island small states', 'Pacific island small states', 'Pacific island small states', 'Pacific island small states', 'Pacific island small states', 'Pacific island small states', 'Pacific island small states', 'Pacific island small states', 'Pacific island small states', 'Pacific island small states', 'Pacific island small states', 'Pacific island small states', 'Pacific island small states', 'Pacific island small states', 'Pacific island small states', 'Pacific island small states', 'Pacific island small states', 'Pacific island small states', 'Pacific island small states', 'Post-demographic dividend', 'Post-demographic dividend', 'Post-demographic dividend', 'Post-demographic dividend', 'Post-demographic dividend', 'Post-demographic dividend', 'Post-demographic dividend', 'Post-demographic dividend', 'Post-demographic dividend', 'Post-demographic dividend', 'Post-demographic dividend', 'Post-demographic dividend', 'Post-demographic dividend', 'Post-demographic dividend', 'Post-demographic dividend', 'Post-demographic dividend', 'Post-demographic dividend', 'Post-demographic dividend', 'Post-demographic dividend', 'Post-demographic dividend', 'Post-demographic dividend', 'Post-demographic dividend', 'Post-demographic dividend', 'Post-demographic dividend', 'Post-demographic dividend', 'Post-demographic dividend', 'Post-demographic dividend', 'Post-demographic dividend', 'Post-demographic dividend', 'Post-demographic dividend', 'Post-demographic dividend', 'Post-demographic dividend', 'Post-demographic dividend', 'Post-demographic dividend', 'Post-demographic dividend', 'Post-demographic dividend', 'Post-demographic dividend', 'Post-demographic dividend', 'Post-demographic dividend', 'Post-demographic dividend', 'Post-demographic dividend', 'Post-demographic dividend', 'Post-demographic dividend', 'Post-demographic dividend', 'Post-demographic dividend', 'Post-demographic dividend', 'Post-demographic dividend', 'Post-demographic dividend', 'Post-demographic dividend', 'Post-demographic dividend', 'Post-demographic dividend', 'Post-demographic dividend', 'Post-demographic dividend', 'Post-demographic dividend', 'Post-demographic dividend', 'Post-demographic dividend', 'Post-demographic dividend', 'Post-demographic dividend', 'Post-demographic dividend', 'Post-demographic dividend', 'Post-demographic dividend', 'Post-demographic dividend', 'Russian Federation', 'Russian Federation', 'Russian Federation', 'Russian Federation', 'Russian Federation', 'Russian Federation', 'Russian Federation', 'Russian Federation', 'Russian Federation', 'Russian Federation', 'Russian Federation', 'Russian Federation', 'Russian Federation', 'Russian Federation', 'Russian Federation', 'Russian Federation', 'Russian Federation', 'Russian Federation', 'Russian Federation', 'Russian Federation', 'Russian Federation', 'Russian Federation', 'Russian Federation', 'Russian Federation', 'Russian Federation', 'Russian Federation', 'Russian Federation', 'Russian Federation', 'Russian Federation', 'Russian Federation', 'Russian Federation', 'Russian Federation', 'Russian Federation', 'Russian Federation', 'Russian Federation', 'Russian Federation', 'Russian Federation', 'Russian Federation', 'Russian Federation', 'Russian Federation', 'Russian Federation', 'Russian Federation', 'Russian Federation', 'Russian Federation', 'Russian Federation', 'Russian Federation', 'Russian Federation', 'Russian Federation', 'Russian Federation', 'Russian Federation', 'Russian Federation', 'Russian Federation', 'Russian Federation', 'Russian Federation', 'Russian Federation', 'Russian Federation', 'Russian Federation', 'Russian Federation', 'Russian Federation', 'Russian Federation', 'Russian Federation', 'Russian Federation', 'South Asia', 'South Asia', 'South Asia', 'South Asia', 'South Asia', 'South Asia', 'South Asia', 'South Asia', 'South Asia', 'South Asia', 'South Asia', 'South Asia', 'South Asia', 'South Asia', 'South Asia', 'South Asia', 'South Asia', 'South Asia', 'South Asia', 'South Asia', 'South Asia', 'South Asia', 'South Asia', 'South Asia', 'South Asia', 'South Asia', 'South Asia', 'South Asia', 'South Asia', 'South Asia', 'South Asia', 'South Asia', 'South Asia', 'South Asia', 'South Asia', 'South Asia', 'South Asia', 'South Asia', 'South Asia', 'South Asia', 'South Asia', 'South Asia', 'South Asia', 'South Asia', 'South Asia', 'South Asia', 'South Asia', 'South Asia', 'South Asia', 'South Asia', 'South Asia', 'South Asia', 'South Asia', 'South Asia', 'South Asia', 'South Asia', 'South Asia', 'South Asia', 'South Asia', 'South Asia', 'South Asia', 'South Asia', 'San Marino', 'San Marino', 'San Marino', 'San Marino', 'San Marino', 'San Marino', 'San Marino', 'San Marino', 'San Marino', 'San Marino', 'San Marino', 'San Marino', 'San Marino', 'San Marino', 'San Marino', 'San Marino', 'San Marino', 'San Marino', 'San Marino', 'San Marino', 'San Marino', 'San Marino', 'San Marino', 'San Marino', 'San Marino', 'San Marino', 'San Marino', 'San Marino', 'San Marino', 'San Marino', 'San Marino', 'San Marino', 'San Marino', 'San Marino', 'San Marino', 'San Marino', 'San Marino', 'San Marino', 'San Marino', 'San Marino', 'San Marino', 'San Marino', 'San Marino', 'San Marino', 'San Marino', 'San Marino', 'San Marino', 'San Marino', 'San Marino', 'San Marino', 'San Marino', 'San Marino', 'San Marino', 'San Marino', 'San Marino', 'San Marino', 'San Marino', 'San Marino', 'San Marino', 'San Marino', 'San Marino', 'San Marino', 'Sub-Saharan Africa (excluding high income)', 'Sub-Saharan Africa (excluding high income)', 'Sub-Saharan Africa (excluding high income)', 'Sub-Saharan Africa (excluding high income)', 'Sub-Saharan Africa (excluding high income)', 'Sub-Saharan Africa (excluding high income)', 'Sub-Saharan Africa (excluding high income)', 'Sub-Saharan Africa (excluding high income)', 'Sub-Saharan Africa (excluding high income)', 'Sub-Saharan Africa (excluding high income)', 'Sub-Saharan Africa (excluding high income)', 'Sub-Saharan Africa (excluding high income)', 'Sub-Saharan Africa (excluding high income)', 'Sub-Saharan Africa (excluding high income)', 'Sub-Saharan Africa (excluding high income)', 'Sub-Saharan Africa (excluding high income)', 'Sub-Saharan Africa (excluding high income)', 'Sub-Saharan Africa (excluding high income)', 'Sub-Saharan Africa (excluding high income)', 'Sub-Saharan Africa (excluding high income)', 'Sub-Saharan Africa (excluding high income)', 'Sub-Saharan Africa (excluding high income)', 'Sub-Saharan Africa (excluding high income)', 'Sub-Saharan Africa (excluding high income)', 'Sub-Saharan Africa (excluding high income)', 'Sub-Saharan Africa (excluding high income)', 'Sub-Saharan Africa (excluding high income)', 'Sub-Saharan Africa (excluding high income)', 'Sub-Saharan Africa (excluding high income)', 'Sub-Saharan Africa (excluding high income)', 'Sub-Saharan Africa (excluding high income)', 'Sub-Saharan Africa (excluding high income)', 'Sub-Saharan Africa (excluding high income)', 'Sub-Saharan Africa (excluding high income)', 'Sub-Saharan Africa (excluding high income)', 'Sub-Saharan Africa (excluding high income)', 'Sub-Saharan Africa (excluding high income)', 'Sub-Saharan Africa (excluding high income)', 'Sub-Saharan Africa (excluding high income)', 'Sub-Saharan Africa (excluding high income)', 'Sub-Saharan Africa (excluding high income)', 'Sub-Saharan Africa (excluding high income)', 'Sub-Saharan Africa (excluding high income)', 'Sub-Saharan Africa (excluding high income)', 'Sub-Saharan Africa (excluding high income)', 'Sub-Saharan Africa (excluding high income)', 'Sub-Saharan Africa (excluding high income)', 'Sub-Saharan Africa (excluding high income)', 'Sub-Saharan Africa (excluding high income)', 'Sub-Saharan Africa (excluding high income)', 'Sub-Saharan Africa (excluding high income)', 'Sub-Saharan Africa (excluding high income)', 'Sub-Saharan Africa (excluding high income)', 'Sub-Saharan Africa (excluding high income)', 'Sub-Saharan Africa (excluding high income)', 'Sub-Saharan Africa (excluding high income)', 'Sub-Saharan Africa (excluding high income)', 'Sub-Saharan Africa (excluding high income)', 'Sub-Saharan Africa (excluding high income)', 'Sub-Saharan Africa (excluding high income)', 'Sub-Saharan Africa (excluding high income)', 'Sub-Saharan Africa (excluding high income)', 'Sub-Saharan Africa', 'Sub-Saharan Africa', 'Sub-Saharan Africa', 'Sub-Saharan Africa', 'Sub-Saharan Africa', 'Sub-Saharan Africa', 'Sub-Saharan Africa', 'Sub-Saharan Africa', 'Sub-Saharan Africa', 'Sub-Saharan Africa', 'Sub-Saharan Africa', 'Sub-Saharan Africa', 'Sub-Saharan Africa', 'Sub-Saharan Africa', 'Sub-Saharan Africa', 'Sub-Saharan Africa', 'Sub-Saharan Africa', 'Sub-Saharan Africa', 'Sub-Saharan Africa', 'Sub-Saharan Africa', 'Sub-Saharan Africa', 'Sub-Saharan Africa', 'Sub-Saharan Africa', 'Sub-Saharan Africa', 'Sub-Saharan Africa', 'Sub-Saharan Africa', 'Sub-Saharan Africa', 'Sub-Saharan Africa', 'Sub-Saharan Africa', 'Sub-Saharan Africa', 'Sub-Saharan Africa', 'Sub-Saharan Africa', 'Sub-Saharan Africa', 'Sub-Saharan Africa', 'Sub-Saharan Africa', 'Sub-Saharan Africa', 'Sub-Saharan Africa', 'Sub-Saharan Africa', 'Sub-Saharan Africa', 'Sub-Saharan Africa', 'Sub-Saharan Africa', 'Sub-Saharan Africa', 'Sub-Saharan Africa', 'Sub-Saharan Africa', 'Sub-Saharan Africa', 'Sub-Saharan Africa', 'Sub-Saharan Africa', 'Sub-Saharan Africa', 'Sub-Saharan Africa', 'Sub-Saharan Africa', 'Sub-Saharan Africa', 'Sub-Saharan Africa', 'Sub-Saharan Africa', 'Sub-Saharan Africa', 'Sub-Saharan Africa', 'Sub-Saharan Africa', 'Sub-Saharan Africa', 'Sub-Saharan Africa', 'Sub-Saharan Africa', 'Sub-Saharan Africa', 'Sub-Saharan Africa', 'Sub-Saharan Africa', 'Small states', 'Small states', 'Small states', 'Small states', 'Small states', 'Small states', 'Small states', 'Small states', 'Small states', 'Small states', 'Small states', 'Small states', 'Small states', 'Small states', 'Small states', 'Small states', 'Small states', 'Small states', 'Small states', 'Small states', 'Small states', 'Small states', 'Small states', 'Small states', 'Small states', 'Small states', 'Small states', 'Small states', 'Small states', 'Small states', 'Small states', 'Small states', 'Small states', 'Small states', 'Small states', 'Small states', 'Small states', 'Small states', 'Small states', 'Small states', 'Small states', 'Small states', 'Small states', 'Small states', 'Small states', 'Small states', 'Small states', 'Small states', 'Small states', 'Small states', 'Small states', 'Small states', 'Small states', 'Small states', 'Small states', 'Small states', 'Small states', 'Small states', 'Small states', 'Small states', 'Small states', 'Small states', 'Slovak Republic', 'Slovak Republic', 'Slovak Republic', 'Slovak Republic', 'Slovak Republic', 'Slovak Republic', 'Slovak Republic', 'Slovak Republic', 'Slovak Republic', 'Slovak Republic', 'Slovak Republic', 'Slovak Republic', 'Slovak Republic', 'Slovak Republic', 'Slovak Republic', 'Slovak Republic', 'Slovak Republic', 'Slovak Republic', 'Slovak Republic', 'Slovak Republic', 'Slovak Republic', 'Slovak Republic', 'Slovak Republic', 'Slovak Republic', 'Slovak Republic', 'Slovak Republic', 'Slovak Republic', 'Slovak Republic', 'Slovak Republic', 'Slovak Republic', 'Slovak Republic', 'Slovak Republic', 'Slovak Republic', 'Slovak Republic', 'Slovak Republic', 'Slovak Republic', 'Slovak Republic', 'Slovak Republic', 'Slovak Republic', 'Slovak Republic', 'Slovak Republic', 'Slovak Republic', 'Slovak Republic', 'Slovak Republic', 'Slovak Republic', 'Slovak Republic', 'Slovak Republic', 'Slovak Republic', 'Slovak Republic', 'Slovak Republic', 'Slovak Republic', 'Slovak Republic', 'Slovak Republic', 'Slovak Republic', 'Slovak Republic', 'Slovak Republic', 'Slovak Republic', 'Slovak Republic', 'Slovak Republic', 'Slovak Republic', 'Slovak Republic', 'Slovak Republic', 'Seychelles', 'Seychelles', 'Seychelles', 'Seychelles', 'Seychelles', 'Seychelles', 'Seychelles', 'Seychelles', 'Seychelles', 'Seychelles', 'Seychelles', 'Seychelles', 'Seychelles', 'Seychelles', 'Seychelles', 'Seychelles', 'Seychelles', 'Seychelles', 'Seychelles', 'Seychelles', 'Seychelles', 'Seychelles', 'Seychelles', 'Seychelles', 'Seychelles', 'Seychelles', 'Seychelles', 'Seychelles', 'Seychelles', 'Seychelles', 'Seychelles', 'Seychelles', 'Seychelles', 'Seychelles', 'Seychelles', 'Seychelles', 'Seychelles', 'Seychelles', 'Seychelles', 'Seychelles', 'Seychelles', 'Seychelles', 'Seychelles', 'Seychelles', 'Seychelles', 'Seychelles', 'Seychelles', 'Seychelles', 'Seychelles', 'Seychelles', 'Seychelles', 'Seychelles', 'Seychelles', 'Seychelles', 'Seychelles', 'Seychelles', 'Seychelles', 'Seychelles', 'Seychelles', 'Seychelles', 'Seychelles', 'Seychelles', 'Syrian Arab Republic', 'Syrian Arab Republic', 'Syrian Arab Republic', 'Syrian Arab Republic', 'Syrian Arab Republic', 'Syrian Arab Republic', 'Syrian Arab Republic', 'Syrian Arab Republic', 'Syrian Arab Republic', 'Syrian Arab Republic', 'Syrian Arab Republic', 'Syrian Arab Republic', 'Syrian Arab Republic', 'Syrian Arab Republic', 'Syrian Arab Republic', 'Syrian Arab Republic', 'Syrian Arab Republic', 'Syrian Arab Republic', 'Syrian Arab Republic', 'Syrian Arab Republic', 'Syrian Arab Republic', 'Syrian Arab Republic', 'Syrian Arab Republic', 'Syrian Arab Republic', 'Syrian Arab Republic', 'Syrian Arab Republic', 'Syrian Arab Republic', 'Syrian Arab Republic', 'Syrian Arab Republic', 'Syrian Arab Republic', 'Syrian Arab Republic', 'Syrian Arab Republic', 'Syrian Arab Republic', 'Syrian Arab Republic', 'Syrian Arab Republic', 'Syrian Arab Republic', 'Syrian Arab Republic', 'Syrian Arab Republic', 'Syrian Arab Republic', 'Syrian Arab Republic', 'Syrian Arab Republic', 'Syrian Arab Republic', 'Syrian Arab Republic', 'Syrian Arab Republic', 'Syrian Arab Republic', 'Syrian Arab Republic', 'Syrian Arab Republic', 'Syrian Arab Republic', 'Syrian Arab Republic', 'Syrian Arab Republic', 'Syrian Arab Republic', 'Syrian Arab Republic', 'Syrian Arab Republic', 'Syrian Arab Republic', 'Syrian Arab Republic', 'Syrian Arab Republic', 'Syrian Arab Republic', 'Syrian Arab Republic', 'Syrian Arab Republic', 'Syrian Arab Republic', 'Syrian Arab Republic', 'Syrian Arab Republic', 'Turks and Caicos Islands', 'Turks and Caicos Islands', 'Turks and Caicos Islands', 'Turks and Caicos Islands', 'Turks and Caicos Islands', 'Turks and Caicos Islands', 'Turks and Caicos Islands', 'Turks and Caicos Islands', 'Turks and Caicos Islands', 'Turks and Caicos Islands', 'Turks and Caicos Islands', 'Turks and Caicos Islands', 'Turks and Caicos Islands', 'Turks and Caicos Islands', 'Turks and Caicos Islands', 'Turks and Caicos Islands', 'Turks and Caicos Islands', 'Turks and Caicos Islands', 'Turks and Caicos Islands', 'Turks and Caicos Islands', 'Turks and Caicos Islands', 'Turks and Caicos Islands', 'Turks and Caicos Islands', 'Turks and Caicos Islands', 'Turks and Caicos Islands', 'Turks and Caicos Islands', 'Turks and Caicos Islands', 'Turks and Caicos Islands', 'Turks and Caicos Islands', 'Turks and Caicos Islands', 'Turks and Caicos Islands', 'Turks and Caicos Islands', 'Turks and Caicos Islands', 'Turks and Caicos Islands', 'Turks and Caicos Islands', 'Turks and Caicos Islands', 'Turks and Caicos Islands', 'Turks and Caicos Islands', 'Turks and Caicos Islands', 'Turks and Caicos Islands', 'Turks and Caicos Islands', 'Turks and Caicos Islands', 'Turks and Caicos Islands', 'Turks and Caicos Islands', 'Turks and Caicos Islands', 'Turks and Caicos Islands', 'Turks and Caicos Islands', 'Turks and Caicos Islands', 'Turks and Caicos Islands', 'Turks and Caicos Islands', 'Turks and Caicos Islands', 'Turks and Caicos Islands', 'Turks and Caicos Islands', 'Turks and Caicos Islands', 'Turks and Caicos Islands', 'Turks and Caicos Islands', 'Turks and Caicos Islands', 'Turks and Caicos Islands', 'Turks and Caicos Islands', 'Turks and Caicos Islands', 'Turks and Caicos Islands', 'Turks and Caicos Islands', 'East Asia & Pacific (IDA & IBRD countries)', 'East Asia & Pacific (IDA & IBRD countries)', 'East Asia & Pacific (IDA & IBRD countries)', 'East Asia & Pacific (IDA & IBRD countries)', 'East Asia & Pacific (IDA & IBRD countries)', 'East Asia & Pacific (IDA & IBRD countries)', 'East Asia & Pacific (IDA & IBRD countries)', 'East Asia & Pacific (IDA & IBRD countries)', 'East Asia & Pacific (IDA & IBRD countries)', 'East Asia & Pacific (IDA & IBRD countries)', 'East Asia & Pacific (IDA & IBRD countries)', 'East Asia & Pacific (IDA & IBRD countries)', 'East Asia & Pacific (IDA & IBRD countries)', 'East Asia & Pacific (IDA & IBRD countries)', 'East Asia & Pacific (IDA & IBRD countries)', 'East Asia & Pacific (IDA & IBRD countries)', 'East Asia & Pacific (IDA & IBRD countries)', 'East Asia & Pacific (IDA & IBRD countries)', 'East Asia & Pacific (IDA & IBRD countries)', 'East Asia & Pacific (IDA & IBRD countries)', 'East Asia & Pacific (IDA & IBRD countries)', 'East Asia & Pacific (IDA & IBRD countries)', 'East Asia & Pacific (IDA & IBRD countries)', 'East Asia & Pacific (IDA & IBRD countries)', 'East Asia & Pacific (IDA & IBRD countries)', 'East Asia & Pacific (IDA & IBRD countries)', 'East Asia & Pacific (IDA & IBRD countries)', 'East Asia & Pacific (IDA & IBRD countries)', 'East Asia & Pacific (IDA & IBRD countries)', 'East Asia & Pacific (IDA & IBRD countries)', 'East Asia & Pacific (IDA & IBRD countries)', 'East Asia & Pacific (IDA & IBRD countries)', 'East Asia & Pacific (IDA & IBRD countries)', 'East Asia & Pacific (IDA & IBRD countries)', 'East Asia & Pacific (IDA & IBRD countries)', 'East Asia & Pacific (IDA & IBRD countries)', 'East Asia & Pacific (IDA & IBRD countries)', 'East Asia & Pacific (IDA & IBRD countries)', 'East Asia & Pacific (IDA & IBRD countries)', 'East Asia & Pacific (IDA & IBRD countries)', 'East Asia & Pacific (IDA & IBRD countries)', 'East Asia & Pacific (IDA & IBRD countries)', 'East Asia & Pacific (IDA & IBRD countries)', 'East Asia & Pacific (IDA & IBRD countries)', 'East Asia & Pacific (IDA & IBRD countries)', 'East Asia & Pacific (IDA & IBRD countries)', 'East Asia & Pacific (IDA & IBRD countries)', 'East Asia & Pacific (IDA & IBRD countries)', 'East Asia & Pacific (IDA & IBRD countries)', 'East Asia & Pacific (IDA & IBRD countries)', 'East Asia & Pacific (IDA & IBRD countries)', 'East Asia & Pacific (IDA & IBRD countries)', 'East Asia & Pacific (IDA & IBRD countries)', 'East Asia & Pacific (IDA & IBRD countries)', 'East Asia & Pacific (IDA & IBRD countries)', 'East Asia & Pacific (IDA & IBRD countries)', 'East Asia & Pacific (IDA & IBRD countries)', 'East Asia & Pacific (IDA & IBRD countries)', 'East Asia & Pacific (IDA & IBRD countries)', 'East Asia & Pacific (IDA & IBRD countries)', 'East Asia & Pacific (IDA & IBRD countries)', 'East Asia & Pacific (IDA & IBRD countries)', 'Europe & Central Asia (IDA & IBRD countries)', 'Europe & Central Asia (IDA & IBRD countries)', 'Europe & Central Asia (IDA & IBRD countries)', 'Europe & Central Asia (IDA & IBRD countries)', 'Europe & Central Asia (IDA & IBRD countries)', 'Europe & Central Asia (IDA & IBRD countries)', 'Europe & Central Asia (IDA & IBRD countries)', 'Europe & Central Asia (IDA & IBRD countries)', 'Europe & Central Asia (IDA & IBRD countries)', 'Europe & Central Asia (IDA & IBRD countries)', 'Europe & Central Asia (IDA & IBRD countries)', 'Europe & Central Asia (IDA & IBRD countries)', 'Europe & Central Asia (IDA & IBRD countries)', 'Europe & Central Asia (IDA & IBRD countries)', 'Europe & Central Asia (IDA & IBRD countries)', 'Europe & Central Asia (IDA & IBRD countries)', 'Europe & Central Asia (IDA & IBRD countries)', 'Europe & Central Asia (IDA & IBRD countries)', 'Europe & Central Asia (IDA & IBRD countries)', 'Europe & Central Asia (IDA & IBRD countries)', 'Europe & Central Asia (IDA & IBRD countries)', 'Europe & Central Asia (IDA & IBRD countries)', 'Europe & Central Asia (IDA & IBRD countries)', 'Europe & Central Asia (IDA & IBRD countries)', 'Europe & Central Asia (IDA & IBRD countries)', 'Europe & Central Asia (IDA & IBRD countries)', 'Europe & Central Asia (IDA & IBRD countries)', 'Europe & Central Asia (IDA & IBRD countries)', 'Europe & Central Asia (IDA & IBRD countries)', 'Europe & Central Asia (IDA & IBRD countries)', 'Europe & Central Asia (IDA & IBRD countries)', 'Europe & Central Asia (IDA & IBRD countries)', 'Europe & Central Asia (IDA & IBRD countries)', 'Europe & Central Asia (IDA & IBRD countries)', 'Europe & Central Asia (IDA & IBRD countries)', 'Europe & Central Asia (IDA & IBRD countries)', 'Europe & Central Asia (IDA & IBRD countries)', 'Europe & Central Asia (IDA & IBRD countries)', 'Europe & Central Asia (IDA & IBRD countries)', 'Europe & Central Asia (IDA & IBRD countries)', 'Europe & Central Asia (IDA & IBRD countries)', 'Europe & Central Asia (IDA & IBRD countries)', 'Europe & Central Asia (IDA & IBRD countries)', 'Europe & Central Asia (IDA & IBRD countries)', 'Europe & Central Asia (IDA & IBRD countries)', 'Europe & Central Asia (IDA & IBRD countries)', 'Europe & Central Asia (IDA & IBRD countries)', 'Europe & Central Asia (IDA & IBRD countries)', 'Europe & Central Asia (IDA & IBRD countries)', 'Europe & Central Asia (IDA & IBRD countries)', 'Europe & Central Asia (IDA & IBRD countries)', 'Europe & Central Asia (IDA & IBRD countries)', 'Europe & Central Asia (IDA & IBRD countries)', 'Europe & Central Asia (IDA & IBRD countries)', 'Europe & Central Asia (IDA & IBRD countries)', 'Europe & Central Asia (IDA & IBRD countries)', 'Europe & Central Asia (IDA & IBRD countries)', 'Europe & Central Asia (IDA & IBRD countries)', 'Europe & Central Asia (IDA & IBRD countries)', 'Europe & Central Asia (IDA & IBRD countries)', 'Europe & Central Asia (IDA & IBRD countries)', 'Europe & Central Asia (IDA & IBRD countries)', 'Latin America & the Caribbean (IDA & IBRD countries)', 'Latin America & the Caribbean (IDA & IBRD countries)', 'Latin America & the Caribbean (IDA & IBRD countries)', 'Latin America & the Caribbean (IDA & IBRD countries)', 'Latin America & the Caribbean (IDA & IBRD countries)', 'Latin America & the Caribbean (IDA & IBRD countries)', 'Latin America & the Caribbean (IDA & IBRD countries)', 'Latin America & the Caribbean (IDA & IBRD countries)', 'Latin America & the Caribbean (IDA & IBRD countries)', 'Latin America & the Caribbean (IDA & IBRD countries)', 'Latin America & the Caribbean (IDA & IBRD countries)', 'Latin America & the Caribbean (IDA & IBRD countries)', 'Latin America & the Caribbean (IDA & IBRD countries)', 'Latin America & the Caribbean (IDA & IBRD countries)', 'Latin America & the Caribbean (IDA & IBRD countries)', 'Latin America & the Caribbean (IDA & IBRD countries)', 'Latin America & the Caribbean (IDA & IBRD countries)', 'Latin America & the Caribbean (IDA & IBRD countries)', 'Latin America & the Caribbean (IDA & IBRD countries)', 'Latin America & the Caribbean (IDA & IBRD countries)', 'Latin America & the Caribbean (IDA & IBRD countries)', 'Latin America & the Caribbean (IDA & IBRD countries)', 'Latin America & the Caribbean (IDA & IBRD countries)', 'Latin America & the Caribbean (IDA & IBRD countries)', 'Latin America & the Caribbean (IDA & IBRD countries)', 'Latin America & the Caribbean (IDA & IBRD countries)', 'Latin America & the Caribbean (IDA & IBRD countries)', 'Latin America & the Caribbean (IDA & IBRD countries)', 'Latin America & the Caribbean (IDA & IBRD countries)', 'Latin America & the Caribbean (IDA & IBRD countries)', 'Latin America & the Caribbean (IDA & IBRD countries)', 'Latin America & the Caribbean (IDA & IBRD countries)', 'Latin America & the Caribbean (IDA & IBRD countries)', 'Latin America & the Caribbean (IDA & IBRD countries)', 'Latin America & the Caribbean (IDA & IBRD countries)', 'Latin America & the Caribbean (IDA & IBRD countries)', 'Latin America & the Caribbean (IDA & IBRD countries)', 'Latin America & the Caribbean (IDA & IBRD countries)', 'Latin America & the Caribbean (IDA & IBRD countries)', 'Latin America & the Caribbean (IDA & IBRD countries)', 'Latin America & the Caribbean (IDA & IBRD countries)', 'Latin America & the Caribbean (IDA & IBRD countries)', 'Latin America & the Caribbean (IDA & IBRD countries)', 'Latin America & the Caribbean (IDA & IBRD countries)', 'Latin America & the Caribbean (IDA & IBRD countries)', 'Latin America & the Caribbean (IDA & IBRD countries)', 'Latin America & the Caribbean (IDA & IBRD countries)', 'Latin America & the Caribbean (IDA & IBRD countries)', 'Latin America & the Caribbean (IDA & IBRD countries)', 'Latin America & the Caribbean (IDA & IBRD countries)', 'Latin America & the Caribbean (IDA & IBRD countries)', 'Latin America & the Caribbean (IDA & IBRD countries)', 'Latin America & the Caribbean (IDA & IBRD countries)', 'Latin America & the Caribbean (IDA & IBRD countries)', 'Latin America & the Caribbean (IDA & IBRD countries)', 'Latin America & the Caribbean (IDA & IBRD countries)', 'Latin America & the Caribbean (IDA & IBRD countries)', 'Latin America & the Caribbean (IDA & IBRD countries)', 'Latin America & the Caribbean (IDA & IBRD countries)', 'Latin America & the Caribbean (IDA & IBRD countries)', 'Latin America & the Caribbean (IDA & IBRD countries)', 'Latin America & the Caribbean (IDA & IBRD countries)', 'Timor-Leste', 'Timor-Leste', 'Timor-Leste', 'Timor-Leste', 'Timor-Leste', 'Timor-Leste', 'Timor-Leste', 'Timor-Leste', 'Timor-Leste', 'Timor-Leste', 'Timor-Leste', 'Timor-Leste', 'Timor-Leste', 'Timor-Leste', 'Timor-Leste', 'Timor-Leste', 'Timor-Leste', 'Timor-Leste', 'Timor-Leste', 'Timor-Leste', 'Timor-Leste', 'Timor-Leste', 'Timor-Leste', 'Timor-Leste', 'Timor-Leste', 'Timor-Leste', 'Timor-Leste', 'Timor-Leste', 'Timor-Leste', 'Timor-Leste', 'Timor-Leste', 'Timor-Leste', 'Timor-Leste', 'Timor-Leste', 'Timor-Leste', 'Timor-Leste', 'Timor-Leste', 'Timor-Leste', 'Timor-Leste', 'Timor-Leste', 'Timor-Leste', 'Timor-Leste', 'Timor-Leste', 'Timor-Leste', 'Timor-Leste', 'Timor-Leste', 'Timor-Leste', 'Timor-Leste', 'Timor-Leste', 'Timor-Leste', 'Timor-Leste', 'Timor-Leste', 'Timor-Leste', 'Timor-Leste', 'Timor-Leste', 'Timor-Leste', 'Timor-Leste', 'Timor-Leste', 'Timor-Leste', 'Timor-Leste', 'Timor-Leste', 'Timor-Leste', 'Middle East & North Africa (IDA & IBRD countries)', 'Middle East & North Africa (IDA & IBRD countries)', 'Middle East & North Africa (IDA & IBRD countries)', 'Middle East & North Africa (IDA & IBRD countries)', 'Middle East & North Africa (IDA & IBRD countries)', 'Middle East & North Africa (IDA & IBRD countries)', 'Middle East & North Africa (IDA & IBRD countries)', 'Middle East & North Africa (IDA & IBRD countries)', 'Middle East & North Africa (IDA & IBRD countries)', 'Middle East & North Africa (IDA & IBRD countries)', 'Middle East & North Africa (IDA & IBRD countries)', 'Middle East & North Africa (IDA & IBRD countries)', 'Middle East & North Africa (IDA & IBRD countries)', 'Middle East & North Africa (IDA & IBRD countries)', 'Middle East & North Africa (IDA & IBRD countries)', 'Middle East & North Africa (IDA & IBRD countries)', 'Middle East & North Africa (IDA & IBRD countries)', 'Middle East & North Africa (IDA & IBRD countries)', 'Middle East & North Africa (IDA & IBRD countries)', 'Middle East & North Africa (IDA & IBRD countries)', 'Middle East & North Africa (IDA & IBRD countries)', 'Middle East & North Africa (IDA & IBRD countries)', 'Middle East & North Africa (IDA & IBRD countries)', 'Middle East & North Africa (IDA & IBRD countries)', 'Middle East & North Africa (IDA & IBRD countries)', 'Middle East & North Africa (IDA & IBRD countries)', 'Middle East & North Africa (IDA & IBRD countries)', 'Middle East & North Africa (IDA & IBRD countries)', 'Middle East & North Africa (IDA & IBRD countries)', 'Middle East & North Africa (IDA & IBRD countries)', 'Middle East & North Africa (IDA & IBRD countries)', 'Middle East & North Africa (IDA & IBRD countries)', 'Middle East & North Africa (IDA & IBRD countries)', 'Middle East & North Africa (IDA & IBRD countries)', 'Middle East & North Africa (IDA & IBRD countries)', 'Middle East & North Africa (IDA & IBRD countries)', 'Middle East & North Africa (IDA & IBRD countries)', 'Middle East & North Africa (IDA & IBRD countries)', 'Middle East & North Africa (IDA & IBRD countries)', 'Middle East & North Africa (IDA & IBRD countries)', 'Middle East & North Africa (IDA & IBRD countries)', 'Middle East & North Africa (IDA & IBRD countries)', 'Middle East & North Africa (IDA & IBRD countries)', 'Middle East & North Africa (IDA & IBRD countries)', 'Middle East & North Africa (IDA & IBRD countries)', 'Middle East & North Africa (IDA & IBRD countries)', 'Middle East & North Africa (IDA & IBRD countries)', 'Middle East & North Africa (IDA & IBRD countries)', 'Middle East & North Africa (IDA & IBRD countries)', 'Middle East & North Africa (IDA & IBRD countries)', 'Middle East & North Africa (IDA & IBRD countries)', 'Middle East & North Africa (IDA & IBRD countries)', 'Middle East & North Africa (IDA & IBRD countries)', 'Middle East & North Africa (IDA & IBRD countries)', 'Middle East & North Africa (IDA & IBRD countries)', 'Middle East & North Africa (IDA & IBRD countries)', 'Middle East & North Africa (IDA & IBRD countries)', 'Middle East & North Africa (IDA & IBRD countries)', 'Middle East & North Africa (IDA & IBRD countries)', 'Middle East & North Africa (IDA & IBRD countries)', 'Middle East & North Africa (IDA & IBRD countries)', 'Middle East & North Africa (IDA & IBRD countries)', 'South Asia (IDA & IBRD)', 'South Asia (IDA & IBRD)', 'South Asia (IDA & IBRD)', 'South Asia (IDA & IBRD)', 'South Asia (IDA & IBRD)', 'South Asia (IDA & IBRD)', 'South Asia (IDA & IBRD)', 'South Asia (IDA & IBRD)', 'South Asia (IDA & IBRD)', 'South Asia (IDA & IBRD)', 'South Asia (IDA & IBRD)', 'South Asia (IDA & IBRD)', 'South Asia (IDA & IBRD)', 'South Asia (IDA & IBRD)', 'South Asia (IDA & IBRD)', 'South Asia (IDA & IBRD)', 'South Asia (IDA & IBRD)', 'South Asia (IDA & IBRD)', 'South Asia (IDA & IBRD)', 'South Asia (IDA & IBRD)', 'South Asia (IDA & IBRD)', 'South Asia (IDA & IBRD)', 'South Asia (IDA & IBRD)', 'South Asia (IDA & IBRD)', 'South Asia (IDA & IBRD)', 'South Asia (IDA & IBRD)', 'South Asia (IDA & IBRD)', 'South Asia (IDA & IBRD)', 'South Asia (IDA & IBRD)', 'South Asia (IDA & IBRD)', 'South Asia (IDA & IBRD)', 'South Asia (IDA & IBRD)', 'South Asia (IDA & IBRD)', 'South Asia (IDA & IBRD)', 'South Asia (IDA & IBRD)', 'South Asia (IDA & IBRD)', 'South Asia (IDA & IBRD)', 'South Asia (IDA & IBRD)', 'South Asia (IDA & IBRD)', 'South Asia (IDA & IBRD)', 'South Asia (IDA & IBRD)', 'South Asia (IDA & IBRD)', 'South Asia (IDA & IBRD)', 'South Asia (IDA & IBRD)', 'South Asia (IDA & IBRD)', 'South Asia (IDA & IBRD)', 'South Asia (IDA & IBRD)', 'South Asia (IDA & IBRD)', 'South Asia (IDA & IBRD)', 'South Asia (IDA & IBRD)', 'South Asia (IDA & IBRD)', 'South Asia (IDA & IBRD)', 'South Asia (IDA & IBRD)', 'South Asia (IDA & IBRD)', 'South Asia (IDA & IBRD)', 'South Asia (IDA & IBRD)', 'South Asia (IDA & IBRD)', 'South Asia (IDA & IBRD)', 'South Asia (IDA & IBRD)', 'South Asia (IDA & IBRD)', 'South Asia (IDA & IBRD)', 'South Asia (IDA & IBRD)', 'Sub-Saharan Africa (IDA & IBRD countries)', 'Sub-Saharan Africa (IDA & IBRD countries)', 'Sub-Saharan Africa (IDA & IBRD countries)', 'Sub-Saharan Africa (IDA & IBRD countries)', 'Sub-Saharan Africa (IDA & IBRD countries)', 'Sub-Saharan Africa (IDA & IBRD countries)', 'Sub-Saharan Africa (IDA & IBRD countries)', 'Sub-Saharan Africa (IDA & IBRD countries)', 'Sub-Saharan Africa (IDA & IBRD countries)', 'Sub-Saharan Africa (IDA & IBRD countries)', 'Sub-Saharan Africa (IDA & IBRD countries)', 'Sub-Saharan Africa (IDA & IBRD countries)', 'Sub-Saharan Africa (IDA & IBRD countries)', 'Sub-Saharan Africa (IDA & IBRD countries)', 'Sub-Saharan Africa (IDA & IBRD countries)', 'Sub-Saharan Africa (IDA & IBRD countries)', 'Sub-Saharan Africa (IDA & IBRD countries)', 'Sub-Saharan Africa (IDA & IBRD countries)', 'Sub-Saharan Africa (IDA & IBRD countries)', 'Sub-Saharan Africa (IDA & IBRD countries)', 'Sub-Saharan Africa (IDA & IBRD countries)', 'Sub-Saharan Africa (IDA & IBRD countries)', 'Sub-Saharan Africa (IDA & IBRD countries)', 'Sub-Saharan Africa (IDA & IBRD countries)', 'Sub-Saharan Africa (IDA & IBRD countries)', 'Sub-Saharan Africa (IDA & IBRD countries)', 'Sub-Saharan Africa (IDA & IBRD countries)', 'Sub-Saharan Africa (IDA & IBRD countries)', 'Sub-Saharan Africa (IDA & IBRD countries)', 'Sub-Saharan Africa (IDA & IBRD countries)', 'Sub-Saharan Africa (IDA & IBRD countries)', 'Sub-Saharan Africa (IDA & IBRD countries)', 'Sub-Saharan Africa (IDA & IBRD countries)', 'Sub-Saharan Africa (IDA & IBRD countries)', 'Sub-Saharan Africa (IDA & IBRD countries)', 'Sub-Saharan Africa (IDA & IBRD countries)', 'Sub-Saharan Africa (IDA & IBRD countries)', 'Sub-Saharan Africa (IDA & IBRD countries)', 'Sub-Saharan Africa (IDA & IBRD countries)', 'Sub-Saharan Africa (IDA & IBRD countries)', 'Sub-Saharan Africa (IDA & IBRD countries)', 'Sub-Saharan Africa (IDA & IBRD countries)', 'Sub-Saharan Africa (IDA & IBRD countries)', 'Sub-Saharan Africa (IDA & IBRD countries)', 'Sub-Saharan Africa (IDA & IBRD countries)', 'Sub-Saharan Africa (IDA & IBRD countries)', 'Sub-Saharan Africa (IDA & IBRD countries)', 'Sub-Saharan Africa (IDA & IBRD countries)', 'Sub-Saharan Africa (IDA & IBRD countries)', 'Sub-Saharan Africa (IDA & IBRD countries)', 'Sub-Saharan Africa (IDA & IBRD countries)', 'Sub-Saharan Africa (IDA & IBRD countries)', 'Sub-Saharan Africa (IDA & IBRD countries)', 'Sub-Saharan Africa (IDA & IBRD countries)', 'Sub-Saharan Africa (IDA & IBRD countries)', 'Sub-Saharan Africa (IDA & IBRD countries)', 'Sub-Saharan Africa (IDA & IBRD countries)', 'Sub-Saharan Africa (IDA & IBRD countries)', 'Sub-Saharan Africa (IDA & IBRD countries)', 'Sub-Saharan Africa (IDA & IBRD countries)', 'Sub-Saharan Africa (IDA & IBRD countries)', 'Sub-Saharan Africa (IDA & IBRD countries)', 'Turkiye', 'Turkiye', 'Turkiye', 'Turkiye', 'Turkiye', 'Turkiye', 'Turkiye', 'Turkiye', 'Turkiye', 'Turkiye', 'Turkiye', 'Turkiye', 'Turkiye', 'Turkiye', 'Turkiye', 'Turkiye', 'Turkiye', 'Turkiye', 'Turkiye', 'Turkiye', 'Turkiye', 'Turkiye', 'Turkiye', 'Turkiye', 'Turkiye', 'Turkiye', 'Turkiye', 'Turkiye', 'Turkiye', 'Turkiye', 'Turkiye', 'Turkiye', 'Turkiye', 'Turkiye', 'Turkiye', 'Turkiye', 'Turkiye', 'Turkiye', 'Turkiye', 'Turkiye', 'Turkiye', 'Turkiye', 'Turkiye', 'Turkiye', 'Turkiye', 'Turkiye', 'Turkiye', 'Turkiye', 'Turkiye', 'Turkiye', 'Turkiye', 'Turkiye', 'Turkiye', 'Turkiye', 'Turkiye', 'Turkiye', 'Turkiye', 'Turkiye', 'Turkiye', 'Turkiye', 'Turkiye', 'Turkiye', 'Tuvalu', 'Tuvalu', 'Tuvalu', 'Tuvalu', 'Tuvalu', 'Tuvalu', 'Tuvalu', 'Tuvalu', 'Tuvalu', 'Tuvalu', 'Tuvalu', 'Tuvalu', 'Tuvalu', 'Tuvalu', 'Tuvalu', 'Tuvalu', 'Tuvalu', 'Tuvalu', 'Tuvalu', 'Tuvalu', 'Tuvalu', 'Tuvalu', 'Tuvalu', 'Tuvalu', 'Tuvalu', 'Tuvalu', 'Tuvalu', 'Tuvalu', 'Tuvalu', 'Tuvalu', 'Tuvalu', 'Tuvalu', 'Tuvalu', 'Tuvalu', 'Tuvalu', 'Tuvalu', 'Tuvalu', 'Tuvalu', 'Tuvalu', 'Tuvalu', 'Tuvalu', 'Tuvalu', 'Tuvalu', 'Tuvalu', 'Tuvalu', 'Tuvalu', 'Tuvalu', 'Tuvalu', 'Tuvalu', 'Tuvalu', 'Tuvalu', 'Tuvalu', 'Tuvalu', 'Tuvalu', 'Tuvalu', 'Tuvalu', 'Tuvalu', 'Tuvalu', 'Tuvalu', 'Tuvalu', 'Tuvalu', 'Tuvalu', 'Upper middle income', 'Upper middle income', 'Upper middle income', 'Upper middle income', 'Upper middle income', 'Upper middle income', 'Upper middle income', 'Upper middle income', 'Upper middle income', 'Upper middle income', 'Upper middle income', 'Upper middle income', 'Upper middle income', 'Upper middle income', 'Upper middle income', 'Upper middle income', 'Upper middle income', 'Upper middle income', 'Upper middle income', 'Upper middle income', 'Upper middle income', 'Upper middle income', 'Upper middle income', 'Upper middle income', 'Upper middle income', 'Upper middle income', 'Upper middle income', 'Upper middle income', 'Upper middle income', 'Upper middle income', 'Upper middle income', 'Upper middle income', 'Upper middle income', 'Upper middle income', 'Upper middle income', 'Upper middle income', 'Upper middle income', 'Upper middle income', 'Upper middle income', 'Upper middle income', 'Upper middle income', 'Upper middle income', 'Upper middle income', 'Upper middle income', 'Upper middle income', 'Upper middle income', 'Upper middle income', 'Upper middle income', 'Upper middle income', 'Upper middle income', 'Upper middle income', 'Upper middle income', 'Upper middle income', 'Upper middle income', 'Upper middle income', 'Upper middle income', 'Upper middle income', 'Upper middle income', 'Upper middle income', 'Upper middle income', 'Upper middle income', 'Upper middle income', 'St. Vincent and the Grenadines', 'St. Vincent and the Grenadines', 'St. Vincent and the Grenadines', 'St. Vincent and the Grenadines', 'St. Vincent and the Grenadines', 'St. Vincent and the Grenadines', 'St. Vincent and the Grenadines', 'St. Vincent and the Grenadines', 'St. Vincent and the Grenadines', 'St. Vincent and the Grenadines', 'St. Vincent and the Grenadines', 'St. Vincent and the Grenadines', 'St. Vincent and the Grenadines', 'St. Vincent and the Grenadines', 'St. Vincent and the Grenadines', 'St. Vincent and the Grenadines', 'St. Vincent and the Grenadines', 'St. Vincent and the Grenadines', 'St. Vincent and the Grenadines', 'St. Vincent and the Grenadines', 'St. Vincent and the Grenadines', 'St. Vincent and the Grenadines', 'St. Vincent and the Grenadines', 'St. Vincent and the Grenadines', 'St. Vincent and the Grenadines', 'St. Vincent and the Grenadines', 'St. Vincent and the Grenadines', 'St. Vincent and the Grenadines', 'St. Vincent and the Grenadines', 'St. Vincent and the Grenadines', 'St. Vincent and the Grenadines', 'St. Vincent and the Grenadines', 'St. Vincent and the Grenadines', 'St. Vincent and the Grenadines', 'St. Vincent and the Grenadines', 'St. Vincent and the Grenadines', 'St. Vincent and the Grenadines', 'St. Vincent and the Grenadines', 'St. Vincent and the Grenadines', 'St. Vincent and the Grenadines', 'St. Vincent and the Grenadines', 'St. Vincent and the Grenadines', 'St. Vincent and the Grenadines', 'St. Vincent and the Grenadines', 'St. Vincent and the Grenadines', 'St. Vincent and the Grenadines', 'St. Vincent and the Grenadines', 'St. Vincent and the Grenadines', 'St. Vincent and the Grenadines', 'St. Vincent and the Grenadines', 'St. Vincent and the Grenadines', 'St. Vincent and the Grenadines', 'St. Vincent and the Grenadines', 'St. Vincent and the Grenadines', 'St. Vincent and the Grenadines', 'St. Vincent and the Grenadines', 'St. Vincent and the Grenadines', 'St. Vincent and the Grenadines', 'St. Vincent and the Grenadines', 'St. Vincent and the Grenadines', 'St. Vincent and the Grenadines', 'St. Vincent and the Grenadines', 'Venezuela, RB', 'Venezuela, RB', 'Venezuela, RB', 'Venezuela, RB', 'Venezuela, RB', 'Venezuela, RB', 'Venezuela, RB', 'Venezuela, RB', 'Venezuela, RB', 'Venezuela, RB', 'Venezuela, RB', 'Venezuela, RB', 'Venezuela, RB', 'Venezuela, RB', 'Venezuela, RB', 'Venezuela, RB', 'Venezuela, RB', 'Venezuela, RB', 'Venezuela, RB', 'Venezuela, RB', 'Venezuela, RB', 'Venezuela, RB', 'Venezuela, RB', 'Venezuela, RB', 'Venezuela, RB', 'Venezuela, RB', 'Venezuela, RB', 'Venezuela, RB', 'Venezuela, RB', 'Venezuela, RB', 'Venezuela, RB', 'Venezuela, RB', 'Venezuela, RB', 'Venezuela, RB', 'Venezuela, RB', 'Venezuela, RB', 'Venezuela, RB', 'Venezuela, RB', 'Venezuela, RB', 'Venezuela, RB', 'Venezuela, RB', 'Venezuela, RB', 'Venezuela, RB', 'Venezuela, RB', 'Venezuela, RB', 'Venezuela, RB', 'Venezuela, RB', 'Venezuela, RB', 'Venezuela, RB', 'Venezuela, RB', 'Venezuela, RB', 'Venezuela, RB', 'Venezuela, RB', 'Venezuela, RB', 'Venezuela, RB', 'Venezuela, RB', 'Venezuela, RB', 'Venezuela, RB', 'Venezuela, RB', 'Venezuela, RB', 'Venezuela, RB', 'Venezuela, RB', 'British Virgin Islands', 'British Virgin Islands', 'British Virgin Islands', 'British Virgin Islands', 'British Virgin Islands', 'British Virgin Islands', 'British Virgin Islands', 'British Virgin Islands', 'British Virgin Islands', 'British Virgin Islands', 'British Virgin Islands', 'British Virgin Islands', 'British Virgin Islands', 'British Virgin Islands', 'British Virgin Islands', 'British Virgin Islands', 'British Virgin Islands', 'British Virgin Islands', 'British Virgin Islands', 'British Virgin Islands', 'British Virgin Islands', 'British Virgin Islands', 'British Virgin Islands', 'British Virgin Islands', 'British Virgin Islands', 'British Virgin Islands', 'British Virgin Islands', 'British Virgin Islands', 'British Virgin Islands', 'British Virgin Islands', 'British Virgin Islands', 'British Virgin Islands', 'British Virgin Islands', 'British Virgin Islands', 'British Virgin Islands', 'British Virgin Islands', 'British Virgin Islands', 'British Virgin Islands', 'British Virgin Islands', 'British Virgin Islands', 'British Virgin Islands', 'British Virgin Islands', 'British Virgin Islands', 'British Virgin Islands', 'British Virgin Islands', 'British Virgin Islands', 'British Virgin Islands', 'British Virgin Islands', 'British Virgin Islands', 'British Virgin Islands', 'British Virgin Islands', 'British Virgin Islands', 'British Virgin Islands', 'British Virgin Islands', 'British Virgin Islands', 'British Virgin Islands', 'British Virgin Islands', 'British Virgin Islands', 'British Virgin Islands', 'British Virgin Islands', 'British Virgin Islands', 'British Virgin Islands', 'Virgin Islands (U.S.)', 'Virgin Islands (U.S.)', 'Virgin Islands (U.S.)', 'Virgin Islands (U.S.)', 'Virgin Islands (U.S.)', 'Virgin Islands (U.S.)', 'Virgin Islands (U.S.)', 'Virgin Islands (U.S.)', 'Virgin Islands (U.S.)', 'Virgin Islands (U.S.)', 'Virgin Islands (U.S.)', 'Virgin Islands (U.S.)', 'Virgin Islands (U.S.)', 'Virgin Islands (U.S.)', 'Virgin Islands (U.S.)', 'Virgin Islands (U.S.)', 'Virgin Islands (U.S.)', 'Virgin Islands (U.S.)', 'Virgin Islands (U.S.)', 'Virgin Islands (U.S.)', 'Virgin Islands (U.S.)', 'Virgin Islands (U.S.)', 'Virgin Islands (U.S.)', 'Virgin Islands (U.S.)', 'Virgin Islands (U.S.)', 'Virgin Islands (U.S.)', 'Virgin Islands (U.S.)', 'Virgin Islands (U.S.)', 'Virgin Islands (U.S.)', 'Virgin Islands (U.S.)', 'Virgin Islands (U.S.)', 'Virgin Islands (U.S.)', 'Virgin Islands (U.S.)', 'Virgin Islands (U.S.)', 'Virgin Islands (U.S.)', 'Virgin Islands (U.S.)', 'Virgin Islands (U.S.)', 'Virgin Islands (U.S.)', 'Virgin Islands (U.S.)', 'Virgin Islands (U.S.)', 'Virgin Islands (U.S.)', 'Virgin Islands (U.S.)', 'Virgin Islands (U.S.)', 'Virgin Islands (U.S.)', 'Virgin Islands (U.S.)', 'Virgin Islands (U.S.)', 'Virgin Islands (U.S.)', 'Virgin Islands (U.S.)', 'Virgin Islands (U.S.)', 'Virgin Islands (U.S.)', 'Virgin Islands (U.S.)', 'Virgin Islands (U.S.)', 'Virgin Islands (U.S.)', 'Virgin Islands (U.S.)', 'Virgin Islands (U.S.)', 'Virgin Islands (U.S.)', 'Virgin Islands (U.S.)', 'Virgin Islands (U.S.)', 'Virgin Islands (U.S.)', 'Virgin Islands (U.S.)', 'Virgin Islands (U.S.)', 'Virgin Islands (U.S.)', 'Vanuatu', 'Vanuatu', 'Vanuatu', 'Vanuatu', 'Vanuatu', 'Vanuatu', 'Vanuatu', 'Vanuatu', 'Vanuatu', 'Vanuatu', 'Vanuatu', 'Vanuatu', 'Vanuatu', 'Vanuatu', 'Vanuatu', 'Vanuatu', 'Vanuatu', 'Vanuatu', 'Vanuatu', 'Vanuatu', 'Vanuatu', 'Vanuatu', 'Vanuatu', 'Vanuatu', 'Vanuatu', 'Vanuatu', 'Vanuatu', 'Vanuatu', 'Vanuatu', 'Vanuatu', 'Vanuatu', 'Vanuatu', 'Vanuatu', 'Vanuatu', 'Vanuatu', 'Vanuatu', 'Vanuatu', 'Vanuatu', 'Vanuatu', 'Vanuatu', 'Vanuatu', 'Vanuatu', 'Vanuatu', 'Vanuatu', 'Vanuatu', 'Vanuatu', 'Vanuatu', 'Vanuatu', 'Vanuatu', 'Vanuatu', 'Vanuatu', 'Vanuatu', 'Vanuatu', 'Vanuatu', 'Vanuatu', 'Vanuatu', 'Vanuatu', 'Vanuatu', 'Vanuatu', 'Vanuatu', 'Vanuatu', 'Vanuatu', 'World', 'World', 'World', 'World', 'World', 'World', 'World', 'World', 'World', 'World', 'World', 'World', 'World', 'World', 'World', 'World', 'World', 'World', 'World', 'World', 'World', 'World', 'World', 'World', 'World', 'World', 'World', 'World', 'World', 'World', 'World', 'World', 'World', 'World', 'World', 'World', 'World', 'World', 'World', 'World', 'World', 'World', 'World', 'World', 'World', 'World', 'World', 'World', 'World', 'World', 'World', 'World', 'World', 'World', 'World', 'World', 'World', 'World', 'World', 'World', 'World', 'World', 'Kosovo', 'Kosovo', 'Kosovo', 'Kosovo', 'Kosovo', 'Kosovo', 'Kosovo', 'Kosovo', 'Kosovo', 'Kosovo', 'Kosovo', 'Kosovo', 'Kosovo', 'Kosovo', 'Kosovo', 'Kosovo', 'Kosovo', 'Kosovo', 'Kosovo', 'Kosovo', 'Kosovo', 'Kosovo', 'Kosovo', 'Kosovo', 'Kosovo', 'Kosovo', 'Kosovo', 'Kosovo', 'Kosovo', 'Kosovo', 'Kosovo', 'Kosovo', 'Kosovo', 'Kosovo', 'Kosovo', 'Kosovo', 'Kosovo', 'Kosovo', 'Kosovo', 'Kosovo', 'Kosovo', 'Kosovo', 'Kosovo', 'Kosovo', 'Kosovo', 'Kosovo', 'Kosovo', 'Kosovo', 'Kosovo', 'Kosovo', 'Kosovo', 'Kosovo', 'Kosovo', 'Kosovo', 'Kosovo', 'Kosovo', 'Kosovo', 'Kosovo', 'Kosovo', 'Kosovo', 'Kosovo', 'Kosovo', 'Yemen, Rep.', 'Yemen, Rep.', 'Yemen, Rep.', 'Yemen, Rep.', 'Yemen, Rep.', 'Yemen, Rep.', 'Yemen, Rep.', 'Yemen, Rep.', 'Yemen, Rep.', 'Yemen, Rep.', 'Yemen, Rep.', 'Yemen, Rep.', 'Yemen, Rep.', 'Yemen, Rep.', 'Yemen, Rep.', 'Yemen, Rep.', 'Yemen, Rep.', 'Yemen, Rep.', 'Yemen, Rep.', 'Yemen, Rep.', 'Yemen, Rep.', 'Yemen, Rep.', 'Yemen, Rep.', 'Yemen, Rep.', 'Yemen, Rep.', 'Yemen, Rep.', 'Yemen, Rep.', 'Yemen, Rep.', 'Yemen, Rep.', 'Yemen, Rep.', 'Yemen, Rep.', 'Yemen, Rep.', 'Yemen, Rep.', 'Yemen, Rep.', 'Yemen, Rep.', 'Yemen, Rep.', 'Yemen, Rep.', 'Yemen, Rep.', 'Yemen, Rep.', 'Yemen, Rep.', 'Yemen, Rep.', 'Yemen, Rep.', 'Yemen, Rep.', 'Yemen, Rep.', 'Yemen, Rep.', 'Yemen, Rep.', 'Yemen, Rep.', 'Yemen, Rep.', 'Yemen, Rep.', 'Yemen, Rep.', 'Yemen, Rep.', 'Yemen, Rep.', 'Yemen, Rep.', 'Yemen, Rep.', 'Yemen, Rep.', 'Yemen, Rep.', 'Yemen, Rep.', 'Yemen, Rep.', 'Yemen, Rep.', 'Yemen, Rep.', 'Yemen, Rep.', 'Yemen, Rep.']\n",
            "['Africa Eastern and Southern', 'Africa Western and Central', 'Andorra', 'Arab World', 'American Samoa', 'Bahamas, The', 'Brunei Darussalam', 'Bhutan', 'Botswana', 'Central Europe and the Baltics', 'Channel Islands', 'Congo, Dem. Rep.', 'Congo, Rep.', 'Cabo Verde', 'Caribbean small states', 'Cayman Islands', 'East Asia & Pacific (excluding high income)', 'Early-demographic dividend', 'East Asia & Pacific', 'Europe & Central Asia (excluding high income)', 'Europe & Central Asia', 'Egypt, Arab Rep.', 'Euro area', 'European Union', 'Fragile and conflict affected situations', 'Faroe Islands', 'Micronesia, Fed. Sts.', 'Gibraltar', 'Gambia, The', 'Guam', 'High income', 'Hong Kong SAR, China', 'Heavily indebted poor countries (HIPC)', 'IBRD only', 'IDA & IBRD total', 'IDA total', 'IDA blend', 'IDA only', 'Isle of Man', 'Not classified', 'Iran, Islamic Rep.', 'Kyrgyz Republic', 'Kiribati', 'St. Kitts and Nevis', 'Korea, Rep.', 'Latin America & Caribbean (excluding high income)', 'Lao PDR', 'St. Lucia', 'Latin America & Caribbean', 'Least developed countries: UN classification', 'Low income', 'Liechtenstein', 'Lower middle income', 'Low & middle income', 'Lesotho', 'Late-demographic dividend', 'Macao SAR, China', 'St. Martin (French part)', 'Monaco', 'Maldives', 'Middle East & North Africa', 'Marshall Islands', 'Middle income', 'Middle East & North Africa (excluding high income)', 'Northern Mariana Islands', 'North America', 'Namibia', 'Nauru', 'OECD members', 'Oman', 'Other small states', 'Pre-demographic dividend', \"Korea, Dem. People's Rep.\", 'West Bank and Gaza', 'Pacific island small states', 'Post-demographic dividend', 'Russian Federation', 'South Asia', 'San Marino', 'Sub-Saharan Africa (excluding high income)', 'Sub-Saharan Africa', 'Small states', 'Slovak Republic', 'Seychelles', 'Syrian Arab Republic', 'Turks and Caicos Islands', 'East Asia & Pacific (IDA & IBRD countries)', 'Europe & Central Asia (IDA & IBRD countries)', 'Latin America & the Caribbean (IDA & IBRD countries)', 'Timor-Leste', 'Middle East & North Africa (IDA & IBRD countries)', 'South Asia (IDA & IBRD)', 'Sub-Saharan Africa (IDA & IBRD countries)', 'Turkiye', 'Tuvalu', 'Upper middle income', 'St. Vincent and the Grenadines', 'Venezuela, RB', 'British Virgin Islands', 'Virgin Islands (U.S.)', 'Vanuatu', 'World', 'Kosovo', 'Yemen, Rep.']\n"
          ]
        }
      ]
    },
    {
      "cell_type": "code",
      "source": [
        "df_pop\n"
      ],
      "metadata": {
        "id": "yXoW_RY5GQUR"
      },
      "execution_count": null,
      "outputs": []
    },
    {
      "cell_type": "code",
      "source": [
        "# Import math Library\n",
        "import math\n",
        "p=[]\n",
        "\n",
        "p.append(df_new['CO2 emission (Tons)'].loc[df_new['Country'] == 'Afghanistan'])\n",
        "\n",
        "px=np.array(p)\n",
        "p0=px[0]\n",
        "len(p0)\n",
        "xold=list(range(0, 62))\n",
        "X=np.array(xold)\n",
        "\n",
        "p1 = p0\n",
        "Amplitude=4\n",
        "Period=2.3\n",
        "Phase=2\n",
        "Y=[]\n",
        "for i in range(0,62):\n",
        "  Y.append(p0[i] + p1[i]*X[i] + Amplitude*math.sin(2*math.pi*(X[i]-Phase)/Period))\n",
        "\n",
        "xpoints = np.array(X)\n",
        "ypoints = np.array(Y)\n",
        "plt.plot(xpoints, ypoints)\n",
        "from matplotlib.pyplot import figure\n",
        "\n",
        "plt.show()"
      ],
      "metadata": {
        "colab": {
          "base_uri": "https://localhost:8080/",
          "height": 276
        },
        "id": "-oregSxsZb0r",
        "outputId": "8cd87d2c-1320-4cfb-9dd7-3746b0ae3be6"
      },
      "execution_count": 259,
      "outputs": [
        {
          "output_type": "display_data",
          "data": {
            "text/plain": [
              "<Figure size 432x288 with 1 Axes>"
            ],
            "image/png": "[encoded data removed]"
          },
          "metadata": {
            "needs_background": "light"
          }
        }
      ]
    },
    {
      "cell_type": "code",
      "source": [
        "a = [15, 12, 8, 8, 7, 7, 7, 6, 5, 3]\n",
        "b = [10, 25, 17, 11, 13, 17, 20, 13, 9, 15]\n",
        "from scipy.stats import linregress\n",
        "linregress(a, b)"
      ],
      "metadata": {
        "colab": {
          "base_uri": "https://localhost:8080/"
        },
        "id": "wVjid11MbOA-",
        "outputId": "4a1d013e-24c3-42f9-9de4-3e7fba228fb5"
      },
      "execution_count": 258,
      "outputs": [
        {
          "output_type": "execute_result",
          "data": {
            "text/plain": [
              "LinregressResult(slope=0.20833333333333331, intercept=13.375, rvalue=0.14499815458068518, pvalue=0.689401448116695, stderr=0.5026170462708364, intercept_stderr=4.247039688703678)"
            ]
          },
          "metadata": {},
          "execution_count": 258
        }
      ]
    },
    {
      "cell_type": "code",
      "source": [
        "p=[]\n",
        "\n",
        "p.append(df_new['CO2 emission (Tons)'].loc[df_new['Country'] == 'Afghanistan'])\n",
        "\n",
        "px=np.array(p)\n",
        "p0=px[0]\n",
        "len(p0)"
      ],
      "metadata": {
        "colab": {
          "base_uri": "https://localhost:8080/"
        },
        "id": "HLryyHvLlPyB",
        "outputId": "d570fb94-28bc-417d-cfeb-848e8e33e0f2"
      },
      "execution_count": 229,
      "outputs": [
        {
          "output_type": "execute_result",
          "data": {
            "text/plain": [
              "62"
            ]
          },
          "metadata": {},
          "execution_count": 229
        }
      ]
    },
    {
      "cell_type": "code",
      "source": [
        "xold=list(range(1, 62))\n",
        "X=np.array(xold)\n",
        "X"
      ],
      "metadata": {
        "colab": {
          "base_uri": "https://localhost:8080/"
        },
        "id": "vetaWBFMnvj-",
        "outputId": "8e6c5fc0-a059-4807-d6c6-e3ae95145f3e"
      },
      "execution_count": 236,
      "outputs": [
        {
          "output_type": "execute_result",
          "data": {
            "text/plain": [
              "array([ 1,  2,  3,  4,  5,  6,  7,  8,  9, 10, 11, 12, 13, 14, 15, 16, 17,\n",
              "       18, 19, 20, 21, 22, 23, 24, 25, 26, 27, 28, 29, 30, 31, 32, 33, 34,\n",
              "       35, 36, 37, 38, 39, 40, 41, 42, 43, 44, 45, 46, 47, 48, 49, 50, 51,\n",
              "       52, 53, 54, 55, 56, 57, 58, 59, 60, 61])"
            ]
          },
          "metadata": {},
          "execution_count": 236
        }
      ]
    }
  ]
}
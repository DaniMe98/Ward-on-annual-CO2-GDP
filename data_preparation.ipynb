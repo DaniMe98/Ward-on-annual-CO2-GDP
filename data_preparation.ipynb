{
  "nbformat": 4,
  "nbformat_minor": 0,
  "metadata": {
    "colab": {
      "provenance": [],
      "collapsed_sections": []
    },
    "kernelspec": {
      "name": "python3",
      "display_name": "Python 3"
    },
    "language_info": {
      "name": "python"
    }
  },
  "cells": [
    {
      "cell_type": "code",
      "execution_count": 2,
      "metadata": {
        "colab": {
          "base_uri": "https://localhost:8080/"
        },
        "id": "j-rs36pwDpdN",
        "outputId": "1e4be9ee-ca9c-4b78-e22d-c8225be4fbdc"
      },
      "outputs": [
        {
          "output_type": "stream",
          "name": "stdout",
          "text": [
            "Mounted at /content/gdrive\n"
          ]
        }
      ],
      "source": [
        "from google.colab import drive \n",
        "drive.mount('/content/gdrive')"
      ]
    },
    {
      "cell_type": "code",
      "source": [
        "import pandas as pd\n",
        "\n",
        "df_temp=pd.read_csv('gdrive/MyDrive/Data/GlobalLandTemperaturesByCountry.csv') #Temperature df\n",
        "df_co2=pd.read_csv('gdrive/MyDrive/Data/CO2emissionbycountries.csv',encoding= 'unicode_escape') #CO2 df\n",
        "\n",
        "#df_t=pd.read_csv('gdrive/MyDrive/Data/city_temperature.csv') "
      ],
      "metadata": {
        "id": "w8B5oUqCH7jL"
      },
      "execution_count": 96,
      "outputs": []
    },
    {
      "cell_type": "code",
      "source": [
        "df_temp"
      ],
      "metadata": {
        "id": "iMNRlrFTqVS-"
      },
      "execution_count": null,
      "outputs": []
    },
    {
      "cell_type": "code",
      "source": [
        "from datetime import datetime\n",
        "df_temp['dt']= pd.to_datetime(df_temp['dt'])\n",
        "\n",
        "df_temp['Year'] = pd.DatetimeIndex(df_temp['dt']).year\n",
        "df_temp = df_temp.drop(columns=['dt','AverageTemperatureUncertainty'])\n",
        "df_temp = df_temp[['Year', 'Country', 'AverageTemperature']]\n",
        "\n",
        "df_temp = df_temp[df_temp['Year'] >= 1950]\n",
        "df_temp = df_temp.reset_index()\n",
        "print(df_temp)"
      ],
      "metadata": {
        "id": "r_tFix8Hcdwf"
      },
      "execution_count": null,
      "outputs": []
    },
    {
      "cell_type": "code",
      "source": [
        "df_temp2=df_temp.fillna(method='ffill')\n",
        "df_temp2"
      ],
      "metadata": {
        "id": "kTAIRTdQpcfj"
      },
      "execution_count": null,
      "outputs": []
    },
    {
      "cell_type": "code",
      "source": [
        "result = df_temp2.groupby(['Country','Year'])['AverageTemperature'].mean()\n",
        "\n",
        "# Display result\n",
        "type(result)\n",
        "df_temp3 = result\n",
        "df_temp3.to_frame().reset_index()\n",
        "#df_temp3['AverageTemperature'].round(2)\n",
        "df_temp3"
      ],
      "metadata": {
        "id": "P_ztkDqzjX5q"
      },
      "execution_count": null,
      "outputs": []
    },
    {
      "cell_type": "code",
      "source": [
        "df_co2.head(5)"
      ],
      "metadata": {
        "id": "5td2VL9PIiJS"
      },
      "execution_count": null,
      "outputs": []
    },
    {
      "cell_type": "code",
      "source": [
        "#Dropping data with CO2 emission equal 0\n",
        "#df= df_co2[df_co2['CO2 emission (Tons)'] != 0]\n",
        "#11880 \n",
        "df = df_co2\n",
        "df = df[df['Year'] >= 1959]\n",
        "\n",
        "df = df[df['Year'] < 2014]\n",
        "\n",
        "df.fillna(method='ffill')\n",
        "\n",
        "df=df.drop(columns=['Code','Calling Code','Area','Population(2022)','% of World','Density(km2)'])\n",
        "df = df.rename(columns={'CO2 emission (Tons)': 'CO2'})\n",
        "df"
      ],
      "metadata": {
        "id": "wcWMr-s3U7i4"
      },
      "execution_count": null,
      "outputs": []
    },
    {
      "cell_type": "code",
      "source": [
        "#Left outer join exclusion on country with data surveys starting from 1959\n",
        "df_final=pd.merge(df,df_temp3,on=['Country','Year'],how=\"inner\",indicator=True)\n",
        "#df_final=df_final[df_final['_merge']=='left_only']\n",
        "# resetting the DataFrame index\n",
        "df_final = df_final.reset_index()\n",
        "\n",
        "df_final=df_final.drop(columns=['index','_merge'])\n",
        "df_final = df_final.round(2)\n",
        "df_final['CO2'] = df_final['CO2'].astype(int)\n",
        "df_final\n",
        "df_final.to_csv('data_prepared.csv')\n",
        "!cp data_prepared.csv \"gdrive/MyDrive/Data\""
      ],
      "metadata": {
        "id": "BFMO1kQhjD4K"
      },
      "execution_count": 101,
      "outputs": []
    }
  ]
}